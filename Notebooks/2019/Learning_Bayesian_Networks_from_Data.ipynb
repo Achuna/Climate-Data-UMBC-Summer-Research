{
  "nbformat": 4,
  "nbformat_minor": 0,
  "metadata": {
    "colab": {
      "name": "Learning Bayesian Networks from Data.ipynb",
      "version": "0.3.2",
      "provenance": [],
      "collapsed_sections": [
        "K-OMpqYHMLgR"
      ],
      "toc_visible": true,
      "include_colab_link": true
    },
    "kernelspec": {
      "name": "python3",
      "display_name": "Python 3"
    }
  },
  "cells": [
    {
      "cell_type": "markdown",
      "metadata": {
        "id": "view-in-github",
        "colab_type": "text"
      },
      "source": [
        "<a href=\"https://colab.research.google.com/github/Achuna/Climate-Data-UMBC-Summer-Research/blob/master/Notebooks/Learning_Bayesian_Networks_from_Data.ipynb\" target=\"_parent\"><img src=\"https://colab.research.google.com/assets/colab-badge.svg\" alt=\"Open In Colab\"/></a>"
      ]
    },
    {
      "cell_type": "markdown",
      "metadata": {
        "id": "xWQ_R83GIhhY",
        "colab_type": "text"
      },
      "source": [
        "# Introduction\n",
        "\n",
        "Previous notebooks showed how Bayesian networks economically encode a probability distribution over a set of variables, and how they can be used e.g. to predict variable states, or to generate new samples from the joint distribution. This section will be about **obtaining a Bayesian network, given a set of sample data**. Learning a Bayesian network can be split into two problems:\n",
        "\n",
        " **Parameter learning:** Given a set of data samples and a DAG that captures the dependencies between the variables, estimate the (conditional) probability distributions of the individual variables.\n",
        " \n",
        " **Structure learning:** Given a set of data samples, estimate a DAG that captures the dependencies between the variables.\n",
        " \n",
        "This notebook aims to illustrate how parameter learning and structure learning can be done with pgmpy.\n",
        "Currently, the library supports:\n",
        " - Parameter learning for *discrete* nodes:\n",
        "   - Maximum Likelihood Estimation\n",
        "   - Bayesian Estimation\n",
        " - Structure learning for *discrete*, *fully observed* networks:\n",
        "   - Score-based structure estimation (BIC/BDeu/K2 score; exhaustive search, hill climb/tabu search)\n",
        "   - Constraint-based structure estimation (PC)\n",
        "   - Hybrid structure estimation (MMHC)"
      ]
    },
    {
      "cell_type": "code",
      "metadata": {
        "id": "6MkXG6EyJoGs",
        "colab_type": "code",
        "outputId": "eb1398e8-5d4c-4fb8-ee99-86e909630014",
        "colab": {
          "base_uri": "https://localhost:8080/",
          "height": 272
        }
      },
      "source": [
        "!pip install pgmpy #installing pgmpy library\n",
        "!pip install CausalInference"
      ],
      "execution_count": 0,
      "outputs": [
        {
          "output_type": "stream",
          "text": [
            "Requirement already satisfied: pgmpy in /usr/local/lib/python3.6/dist-packages (0.1.7)\n",
            "Requirement already satisfied: networkx<1.12,>=1.11 in /usr/local/lib/python3.6/dist-packages (from pgmpy) (1.11)\n",
            "Requirement already satisfied: scipy>=1.0.0 in /usr/local/lib/python3.6/dist-packages (from pgmpy) (1.3.0)\n",
            "Requirement already satisfied: numpy>=1.14.0 in /usr/local/lib/python3.6/dist-packages (from pgmpy) (1.16.4)\n",
            "Requirement already satisfied: decorator>=3.4.0 in /usr/local/lib/python3.6/dist-packages (from networkx<1.12,>=1.11->pgmpy) (4.4.0)\n",
            "Collecting CausalInference\n",
            "\u001b[?25l  Downloading https://files.pythonhosted.org/packages/b4/46/76b177dd50c4fb9e4ba3a633d44592d9c11029f813e9f43f39c13b725d2d/CausalInference-0.1.2.tar.gz (58kB)\n",
            "\u001b[K     |████████████████████████████████| 61kB 2.1MB/s \n",
            "\u001b[?25hBuilding wheels for collected packages: CausalInference\n",
            "  Building wheel for CausalInference (setup.py) ... \u001b[?25l\u001b[?25hdone\n",
            "  Stored in directory: /root/.cache/pip/wheels/31/3b/84/6b475799114c4c8cbaa401aff4e9fe088fc12acf55c83c1d2a\n",
            "Successfully built CausalInference\n",
            "Installing collected packages: CausalInference\n",
            "Successfully installed CausalInference-0.1.2\n"
          ],
          "name": "stdout"
        }
      ]
    },
    {
      "cell_type": "markdown",
      "metadata": {
        "id": "0VdHEg3S8sFI",
        "colab_type": "text"
      },
      "source": [
        "# Parameter Learning\n",
        "\n",
        "Parameter learning is the task to **estimate the values of the conditional probability distributions (CPDs), for the variables** `fruit`, `size`, and `tasty`. \n",
        "\n",
        "\n",
        "---"
      ]
    },
    {
      "cell_type": "code",
      "metadata": {
        "id": "roFd5Umx8w7X",
        "colab_type": "code",
        "outputId": "1b205ae0-b4a3-419e-b287-ff7709c533c3",
        "colab": {
          "base_uri": "https://localhost:8080/",
          "height": 462
        }
      },
      "source": [
        "import pandas as pd\n",
        "\n",
        "data = pd.DataFrame(data={'fruit': [\"banana\", \"apple\", \"banana\", \"apple\", \"banana\",\"apple\", \"banana\", \n",
        "                                    \"apple\", \"apple\", \"apple\", \"banana\", \"banana\", \"apple\", \"banana\",], \n",
        "                          'tasty': [\"yes\", \"no\", \"yes\", \"yes\", \"yes\", \"yes\", \"yes\", \n",
        "                                    \"yes\", \"yes\", \"yes\", \"yes\", \"no\", \"no\", \"no\"], \n",
        "                          'size': [\"large\", \"large\", \"large\", \"small\", \"large\", \"large\", \"large\",\n",
        "                                    \"small\", \"large\", \"large\", \"large\", \"large\", \"small\", \"small\"]})\n",
        "data"
      ],
      "execution_count": 0,
      "outputs": [
        {
          "output_type": "execute_result",
          "data": {
            "text/html": [
              "<div>\n",
              "<style scoped>\n",
              "    .dataframe tbody tr th:only-of-type {\n",
              "        vertical-align: middle;\n",
              "    }\n",
              "\n",
              "    .dataframe tbody tr th {\n",
              "        vertical-align: top;\n",
              "    }\n",
              "\n",
              "    .dataframe thead th {\n",
              "        text-align: right;\n",
              "    }\n",
              "</style>\n",
              "<table border=\"1\" class=\"dataframe\">\n",
              "  <thead>\n",
              "    <tr style=\"text-align: right;\">\n",
              "      <th></th>\n",
              "      <th>fruit</th>\n",
              "      <th>tasty</th>\n",
              "      <th>size</th>\n",
              "    </tr>\n",
              "  </thead>\n",
              "  <tbody>\n",
              "    <tr>\n",
              "      <th>0</th>\n",
              "      <td>banana</td>\n",
              "      <td>yes</td>\n",
              "      <td>large</td>\n",
              "    </tr>\n",
              "    <tr>\n",
              "      <th>1</th>\n",
              "      <td>apple</td>\n",
              "      <td>no</td>\n",
              "      <td>large</td>\n",
              "    </tr>\n",
              "    <tr>\n",
              "      <th>2</th>\n",
              "      <td>banana</td>\n",
              "      <td>yes</td>\n",
              "      <td>large</td>\n",
              "    </tr>\n",
              "    <tr>\n",
              "      <th>3</th>\n",
              "      <td>apple</td>\n",
              "      <td>yes</td>\n",
              "      <td>small</td>\n",
              "    </tr>\n",
              "    <tr>\n",
              "      <th>4</th>\n",
              "      <td>banana</td>\n",
              "      <td>yes</td>\n",
              "      <td>large</td>\n",
              "    </tr>\n",
              "    <tr>\n",
              "      <th>5</th>\n",
              "      <td>apple</td>\n",
              "      <td>yes</td>\n",
              "      <td>large</td>\n",
              "    </tr>\n",
              "    <tr>\n",
              "      <th>6</th>\n",
              "      <td>banana</td>\n",
              "      <td>yes</td>\n",
              "      <td>large</td>\n",
              "    </tr>\n",
              "    <tr>\n",
              "      <th>7</th>\n",
              "      <td>apple</td>\n",
              "      <td>yes</td>\n",
              "      <td>small</td>\n",
              "    </tr>\n",
              "    <tr>\n",
              "      <th>8</th>\n",
              "      <td>apple</td>\n",
              "      <td>yes</td>\n",
              "      <td>large</td>\n",
              "    </tr>\n",
              "    <tr>\n",
              "      <th>9</th>\n",
              "      <td>apple</td>\n",
              "      <td>yes</td>\n",
              "      <td>large</td>\n",
              "    </tr>\n",
              "    <tr>\n",
              "      <th>10</th>\n",
              "      <td>banana</td>\n",
              "      <td>yes</td>\n",
              "      <td>large</td>\n",
              "    </tr>\n",
              "    <tr>\n",
              "      <th>11</th>\n",
              "      <td>banana</td>\n",
              "      <td>no</td>\n",
              "      <td>large</td>\n",
              "    </tr>\n",
              "    <tr>\n",
              "      <th>12</th>\n",
              "      <td>apple</td>\n",
              "      <td>no</td>\n",
              "      <td>small</td>\n",
              "    </tr>\n",
              "    <tr>\n",
              "      <th>13</th>\n",
              "      <td>banana</td>\n",
              "      <td>no</td>\n",
              "      <td>small</td>\n",
              "    </tr>\n",
              "  </tbody>\n",
              "</table>\n",
              "</div>"
            ],
            "text/plain": [
              "     fruit tasty   size\n",
              "0   banana   yes  large\n",
              "1    apple    no  large\n",
              "2   banana   yes  large\n",
              "3    apple   yes  small\n",
              "4   banana   yes  large\n",
              "5    apple   yes  large\n",
              "6   banana   yes  large\n",
              "7    apple   yes  small\n",
              "8    apple   yes  large\n",
              "9    apple   yes  large\n",
              "10  banana   yes  large\n",
              "11  banana    no  large\n",
              "12   apple    no  small\n",
              "13  banana    no  small"
            ]
          },
          "metadata": {
            "tags": []
          },
          "execution_count": 2
        }
      ]
    },
    {
      "cell_type": "markdown",
      "metadata": {
        "id": "V9qUPemhKGUq",
        "colab_type": "text"
      },
      "source": [
        "##Maximum Likelihood Estimation\n",
        "\n",
        "A natural estimate for the CPDs is to simply use the **relative frequencies**, with which the variable states have occured. We observed `7 apples` among a total of `14 fruits`, so we might guess that about `50%` of `fruits` are `apples`.\n",
        "\n",
        "This approach is *Maximum Likelihood Estimation (MLE)*. According to MLE, we should fill the CPDs in such a way, that $P(\\text{data}|\\text{model})$ is maximal. This is achieved when using the *relative frequencies*."
      ]
    },
    {
      "cell_type": "code",
      "metadata": {
        "id": "puu0vFqIAfS_",
        "colab_type": "code",
        "outputId": "c8a92dd1-893d-4724-c1cf-d4c8b6e29f7e",
        "colab": {
          "base_uri": "https://localhost:8080/",
          "height": 34
        }
      },
      "source": [
        "from pgmpy.models import BayesianModel\n",
        "\n",
        "#Define the model structure\n",
        "\n",
        "model = BayesianModel([('fruit', 'tasty'), ('size', 'tasty')])\n",
        "\n",
        "model.edges()"
      ],
      "execution_count": 0,
      "outputs": [
        {
          "output_type": "execute_result",
          "data": {
            "text/plain": [
              "[('fruit', 'tasty'), ('size', 'tasty')]"
            ]
          },
          "metadata": {
            "tags": []
          },
          "execution_count": 4
        }
      ]
    },
    {
      "cell_type": "code",
      "metadata": {
        "id": "CbSFB9FTBmeF",
        "colab_type": "code",
        "outputId": "c5a8eade-c125-4024-93cd-185a1b57ba70",
        "colab": {
          "base_uri": "https://localhost:8080/",
          "height": 34
        }
      },
      "source": [
        "!pip install graphviz #Use to visualize network"
      ],
      "execution_count": 0,
      "outputs": [
        {
          "output_type": "stream",
          "text": [
            "Requirement already satisfied: graphviz in /usr/local/lib/python3.6/dist-packages (0.10.1)\n"
          ],
          "name": "stdout"
        }
      ]
    },
    {
      "cell_type": "code",
      "metadata": {
        "id": "6owWpqSiBpDv",
        "colab_type": "code",
        "outputId": "8ad77ac2-b71d-414b-bae8-d9c8e2b1dda6",
        "colab": {
          "base_uri": "https://localhost:8080/",
          "height": 176
        }
      },
      "source": [
        "from graphviz import Digraph #directed graph (good for bayesian networks)\n",
        "\n",
        "edges = model.edges() #store connections in a variable\n",
        "\n",
        "g = Digraph('Fruit_Graph', filename='fruits') #name, filename\n",
        "\n",
        "#Create connections given the edges \n",
        "for i in range(0, len(edges)):\n",
        "  parent = edges[i][0]\n",
        "  child = edges[i][1]\n",
        "  g.edge(parent, child)\n",
        "    \n",
        "g"
      ],
      "execution_count": 0,
      "outputs": [
        {
          "output_type": "execute_result",
          "data": {
            "text/plain": [
              "<graphviz.dot.Digraph at 0x7ffb1beeee48>"
            ],
            "image/svg+xml": "<?xml version=\"1.0\" encoding=\"UTF-8\" standalone=\"no\"?>\n<!DOCTYPE svg PUBLIC \"-//W3C//DTD SVG 1.1//EN\"\n \"http://www.w3.org/Graphics/SVG/1.1/DTD/svg11.dtd\">\n<!-- Generated by graphviz version 2.40.1 (20161225.0304)\n -->\n<!-- Title: Fruit_Graph Pages: 1 -->\n<svg width=\"134pt\" height=\"116pt\"\n viewBox=\"0.00 0.00 134.00 116.00\" xmlns=\"http://www.w3.org/2000/svg\" xmlns:xlink=\"http://www.w3.org/1999/xlink\">\n<g id=\"graph0\" class=\"graph\" transform=\"scale(1 1) rotate(0) translate(4 112)\">\n<title>Fruit_Graph</title>\n<polygon fill=\"#ffffff\" stroke=\"transparent\" points=\"-4,4 -4,-112 130,-112 130,4 -4,4\"/>\n<!-- fruit -->\n<g id=\"node1\" class=\"node\">\n<title>fruit</title>\n<ellipse fill=\"none\" stroke=\"#000000\" cx=\"27\" cy=\"-90\" rx=\"27\" ry=\"18\"/>\n<text text-anchor=\"middle\" x=\"27\" y=\"-86.3\" font-family=\"Times,serif\" font-size=\"14.00\" fill=\"#000000\">fruit</text>\n</g>\n<!-- tasty -->\n<g id=\"node2\" class=\"node\">\n<title>tasty</title>\n<ellipse fill=\"none\" stroke=\"#000000\" cx=\"63\" cy=\"-18\" rx=\"27.8951\" ry=\"18\"/>\n<text text-anchor=\"middle\" x=\"63\" y=\"-14.3\" font-family=\"Times,serif\" font-size=\"14.00\" fill=\"#000000\">tasty</text>\n</g>\n<!-- fruit&#45;&gt;tasty -->\n<g id=\"edge1\" class=\"edge\">\n<title>fruit&#45;&gt;tasty</title>\n<path fill=\"none\" stroke=\"#000000\" d=\"M35.7146,-72.5708C39.9597,-64.0807 45.1536,-53.6929 49.8663,-44.2674\"/>\n<polygon fill=\"#000000\" stroke=\"#000000\" points=\"53.024,-45.7782 54.3657,-35.2687 46.763,-42.6477 53.024,-45.7782\"/>\n</g>\n<!-- size -->\n<g id=\"node3\" class=\"node\">\n<title>size</title>\n<ellipse fill=\"none\" stroke=\"#000000\" cx=\"99\" cy=\"-90\" rx=\"27\" ry=\"18\"/>\n<text text-anchor=\"middle\" x=\"99\" y=\"-86.3\" font-family=\"Times,serif\" font-size=\"14.00\" fill=\"#000000\">size</text>\n</g>\n<!-- size&#45;&gt;tasty -->\n<g id=\"edge2\" class=\"edge\">\n<title>size&#45;&gt;tasty</title>\n<path fill=\"none\" stroke=\"#000000\" d=\"M90.2854,-72.5708C86.0403,-64.0807 80.8464,-53.6929 76.1337,-44.2674\"/>\n<polygon fill=\"#000000\" stroke=\"#000000\" points=\"79.237,-42.6477 71.6343,-35.2687 72.976,-45.7782 79.237,-42.6477\"/>\n</g>\n</g>\n</svg>\n"
          },
          "metadata": {
            "tags": []
          },
          "execution_count": 6
        }
      ]
    },
    {
      "cell_type": "markdown",
      "metadata": {
        "id": "pGKJotYYAeEC",
        "colab_type": "text"
      },
      "source": [
        "**State counts**\n",
        "\n",
        "To make sense of the given data, we can start by counting how often each state of the variable occurs. If the variable is dependent on parents, the counts are done conditionally on the parents states, i.e. for seperately for each parent configuration:"
      ]
    },
    {
      "cell_type": "code",
      "metadata": {
        "id": "-plGQOKjGG2S",
        "colab_type": "code",
        "outputId": "3334204e-c30c-4e11-d002-95590b02c6e7",
        "colab": {
          "base_uri": "https://localhost:8080/",
          "height": 185
        }
      },
      "source": [
        "from pgmpy.estimators import ParameterEstimator #import parameterEstimator\n",
        "\n",
        "pe = ParameterEstimator(model, data)\n",
        "\n",
        "#counting how often each state of the variable occurs.\n",
        "\n",
        "#Fruit has 2 states (apple, banana) - 7 apples, 7 bananas\n",
        "print(\"\\n\", pe.state_counts('fruit'))  # unconditional (not subject to any conditions)\n",
        "\n",
        "#Tasty has 2 states (yes, no)\n",
        "print(\"\\n\", pe.state_counts('tasty'))  # conditional on fruit and size"
      ],
      "execution_count": 0,
      "outputs": [
        {
          "output_type": "stream",
          "text": [
            "\n",
            "         fruit\n",
            "apple       7\n",
            "banana      7\n",
            "\n",
            " fruit apple       banana      \n",
            "size  large small  large small\n",
            "tasty                         \n",
            "no      1.0   1.0    1.0   1.0\n",
            "yes     3.0   2.0    5.0   0.0\n"
          ],
          "name": "stdout"
        }
      ]
    },
    {
      "cell_type": "code",
      "metadata": {
        "id": "-DFzIFt_KJV5",
        "colab_type": "code",
        "outputId": "5d766765-75d7-445f-8ebb-9dd244854da6",
        "colab": {
          "base_uri": "https://localhost:8080/",
          "height": 252
        }
      },
      "source": [
        "from pgmpy.estimators import MaximumLikelihoodEstimator #import MLE library\n",
        "\n",
        "\n",
        "mle = MaximumLikelihoodEstimator(model, data) #input the BN model and dataframe\n",
        "\n",
        "#Estimate the CPDs using the relative frequencies of each state counts\n",
        "\n",
        "print(mle.estimate_cpd('fruit'))  # unconditional)\n",
        "#print(mle.estimate_cpd('size')) #unconditional \n",
        "print(mle.estimate_cpd('tasty'))  # conditional"
      ],
      "execution_count": 0,
      "outputs": [
        {
          "output_type": "stream",
          "text": [
            "+---------------+-----+\n",
            "| fruit(apple)  | 0.5 |\n",
            "+---------------+-----+\n",
            "| fruit(banana) | 0.5 |\n",
            "+---------------+-----+\n",
            "+------------+--------------+--------------------+---------------------+---------------+\n",
            "| fruit      | fruit(apple) | fruit(apple)       | fruit(banana)       | fruit(banana) |\n",
            "+------------+--------------+--------------------+---------------------+---------------+\n",
            "| size       | size(large)  | size(small)        | size(large)         | size(small)   |\n",
            "+------------+--------------+--------------------+---------------------+---------------+\n",
            "| tasty(no)  | 0.25         | 0.3333333333333333 | 0.16666666666666666 | 1.0           |\n",
            "+------------+--------------+--------------------+---------------------+---------------+\n",
            "| tasty(yes) | 0.75         | 0.6666666666666666 | 0.8333333333333334  | 0.0           |\n",
            "+------------+--------------+--------------------+---------------------+---------------+\n"
          ],
          "name": "stdout"
        }
      ]
    },
    {
      "cell_type": "markdown",
      "metadata": {
        "id": "qAkkgEp-MtYj",
        "colab_type": "text"
      },
      "source": [
        "`mle.estimate_cpd(variable)` computes the **state counts and divides each cell by the (conditional) sample size**. The `mle.get_parameters()`-method returns a list of CPDs for all variable of the model.\n",
        "\n",
        "The built-in `fit()`-method of `BayesianModel` provides more convenient access to parameter estimators:"
      ]
    },
    {
      "cell_type": "code",
      "metadata": {
        "id": "DORhzvliMI-B",
        "colab_type": "code",
        "outputId": "dc394a8b-c05b-499e-8f62-3188ae834012",
        "colab": {
          "base_uri": "https://localhost:8080/",
          "height": 218
        }
      },
      "source": [
        "# Calibrate all CPDs of `model` using MLE:\n",
        "\n",
        "model.fit(data, estimator=MaximumLikelihoodEstimator) #adding CPDs to each node using MLE \n",
        "\n",
        "#print(model.get_cpds('tasty'))"
      ],
      "execution_count": 0,
      "outputs": [
        {
          "output_type": "stream",
          "text": [
            "WARNING:root:Replacing existing CPD for fruit\n",
            "WARNING:root:Replacing existing CPD for size\n",
            "WARNING:root:Replacing existing CPD for tasty\n"
          ],
          "name": "stderr"
        },
        {
          "output_type": "stream",
          "text": [
            "+------------+--------------+--------------------+---------------------+---------------+\n",
            "| fruit      | fruit(apple) | fruit(apple)       | fruit(banana)       | fruit(banana) |\n",
            "+------------+--------------+--------------------+---------------------+---------------+\n",
            "| size       | size(large)  | size(small)        | size(large)         | size(small)   |\n",
            "+------------+--------------+--------------------+---------------------+---------------+\n",
            "| tasty(no)  | 0.25         | 0.3333333333333333 | 0.16666666666666666 | 1.0           |\n",
            "+------------+--------------+--------------------+---------------------+---------------+\n",
            "| tasty(yes) | 0.75         | 0.6666666666666666 | 0.8333333333333334  | 0.0           |\n",
            "+------------+--------------+--------------------+---------------------+---------------+\n"
          ],
          "name": "stdout"
        }
      ]
    },
    {
      "cell_type": "markdown",
      "metadata": {
        "id": "386P0vl3N06s",
        "colab_type": "text"
      },
      "source": [
        "While very straightforward, the **ML estimator has the problem of overfitting to the data**. In above CPD, the probability of a large banana being tasty is estimated at `0.833`, because `5` out of `6` observed large bananas were tasty. Fine. But note that the probability of a small banana being tasty is estimated at `0.0`, because we  observed only one small banana and it happened to be not tasty. But that should hardly make us certain that small bananas aren't tasty!\n",
        "**We simply do not have enough observations to rely on the observed frequencies**. If the observed data is not representative for the underlying distribution, ML estimations will be extremly far off. \n",
        "\n",
        "**When estimating parameters for Bayesian networks, lack of data is a frequent problem.** Even if the total sample size is very large, the fact that state counts are done conditionally for each parents configuration causes immense fragmentation. If a variable has 3 parents that can each take 10 states, then state counts will be done seperately for `10^3 = 1000` parents configurations. **This makes MLE very fragile and unstable for learning Bayesian Network parameters**. A way to mitigate MLE's overfitting is *Bayesian Parameter Estimation*."
      ]
    },
    {
      "cell_type": "markdown",
      "metadata": {
        "id": "4wLRTb-uPH0q",
        "colab_type": "text"
      },
      "source": [
        "## Bayesian Parameter Estimation"
      ]
    },
    {
      "cell_type": "markdown",
      "metadata": {
        "id": "UH7e5eX9PU8_",
        "colab_type": "text"
      },
      "source": [
        "The Bayesian Parameter Estimator starts with already existing prior CPDs, that express our beliefs about the variables *before* the data was observed. Those \"priors\" are then updated, using the state counts from the observed data. See [1], Section 17.3 for a general introduction to Bayesian estimators.\n",
        "\n",
        "One can think of the priors as consisting in *pseudo state counts*, that are added to the actual counts before normalization.\n",
        "Unless one wants to encode specific beliefs about the distributions of the variables, one commonly chooses uniform priors, i.e. ones that deem all states equiprobable.\n",
        "\n",
        "A very simple prior is the so-called **K2 prior, which simply adds `1` to the count of every single state.**\n",
        "A somewhat more sensible choice of prior is *BDeu* (Bayesian Dirichlet equivalent uniform prior). For **BDeu we need to specify an equivalent sample size `N` and then the pseudo-counts are the equivalent of having observed `N` uniform samples of each variable (and each parent configuration)**. In pgmpy:"
      ]
    },
    {
      "cell_type": "code",
      "metadata": {
        "id": "BEdpqfg-RxZN",
        "colab_type": "code",
        "outputId": "3aad40b1-e9a2-4e9c-ea02-a9eab3d1d09b",
        "colab": {
          "base_uri": "https://localhost:8080/",
          "height": 168
        }
      },
      "source": [
        "from pgmpy.estimators import BayesianEstimator\n",
        "\n",
        "est = BayesianEstimator(model, data)\n",
        "\n",
        "#variable, prior CPD calculation type, sample size\n",
        "print(est.estimate_cpd('tasty', prior_type='BDeu', equivalent_sample_size=10))"
      ],
      "execution_count": 0,
      "outputs": [
        {
          "output_type": "stream",
          "text": [
            "+------------+---------------------+--------------------+--------------------+---------------------+\n",
            "| fruit      | fruit(apple)        | fruit(apple)       | fruit(banana)      | fruit(banana)       |\n",
            "+------------+---------------------+--------------------+--------------------+---------------------+\n",
            "| size       | size(large)         | size(small)        | size(large)        | size(small)         |\n",
            "+------------+---------------------+--------------------+--------------------+---------------------+\n",
            "| tasty(no)  | 0.34615384615384615 | 0.4090909090909091 | 0.2647058823529412 | 0.6428571428571429  |\n",
            "+------------+---------------------+--------------------+--------------------+---------------------+\n",
            "| tasty(yes) | 0.6538461538461539  | 0.5909090909090909 | 0.7352941176470589 | 0.35714285714285715 |\n",
            "+------------+---------------------+--------------------+--------------------+---------------------+\n"
          ],
          "name": "stdout"
        }
      ]
    },
    {
      "cell_type": "markdown",
      "metadata": {
        "id": "m8Fg185AUaP9",
        "colab_type": "text"
      },
      "source": [
        "The estimated values in the CPDs are now more conservative. In particular, the estimate for a small banana being not tasty is now around `0.64` rather than `1.0`. Setting `equivalent_sample_size` to `10` means that for each parent configuration, we add the equivalent of 10 uniform samples (here: `+5` small bananas that are tasty and `+5` that aren't).\n",
        "\n",
        "`BayesianEstimator`, too, can be used via the `fit()`-method. Full example:"
      ]
    },
    {
      "cell_type": "code",
      "metadata": {
        "id": "3br-5ttMUrdk",
        "colab_type": "code",
        "outputId": "ff48ba68-f2d2-4cdb-ccbd-cef5549088f7",
        "colab": {
          "base_uri": "https://localhost:8080/",
          "height": 386
        }
      },
      "source": [
        "model.fit(data, estimator=BayesianEstimator, prior_type=\"BDeu\") # default equivalent_sample_size=5\n",
        "\n",
        "for cpd in model.get_cpds():\n",
        "  print(cpd)"
      ],
      "execution_count": 0,
      "outputs": [
        {
          "output_type": "stream",
          "text": [
            "WARNING:root:Replacing existing CPD for fruit\n",
            "WARNING:root:Replacing existing CPD for tasty\n",
            "WARNING:root:Replacing existing CPD for size\n"
          ],
          "name": "stderr"
        },
        {
          "output_type": "stream",
          "text": [
            "+---------------+-----+\n",
            "| fruit(apple)  | 0.5 |\n",
            "+---------------+-----+\n",
            "| fruit(banana) | 0.5 |\n",
            "+---------------+-----+\n",
            "+-------------+----------+\n",
            "| size(large) | 0.657895 |\n",
            "+-------------+----------+\n",
            "| size(small) | 0.342105 |\n",
            "+-------------+----------+\n",
            "+------------+---------------------+---------------------+---------------------+--------------------+\n",
            "| fruit      | fruit(apple)        | fruit(apple)        | fruit(banana)       | fruit(banana)      |\n",
            "+------------+---------------------+---------------------+---------------------+--------------------+\n",
            "| size       | size(large)         | size(small)         | size(large)         | size(small)        |\n",
            "+------------+---------------------+---------------------+---------------------+--------------------+\n",
            "| tasty(no)  | 0.30952380952380953 | 0.38235294117647056 | 0.22413793103448276 | 0.7222222222222222 |\n",
            "+------------+---------------------+---------------------+---------------------+--------------------+\n",
            "| tasty(yes) | 0.6904761904761905  | 0.6176470588235294  | 0.7758620689655172  | 0.2777777777777778 |\n",
            "+------------+---------------------+---------------------+---------------------+--------------------+\n"
          ],
          "name": "stdout"
        }
      ]
    },
    {
      "cell_type": "markdown",
      "metadata": {
        "id": "iP7ADvShLxky",
        "colab_type": "text"
      },
      "source": [
        "# Structure Learning\n",
        "\n",
        "To learn model structure (a DAG) from a data set, there are two broad techniques:\n",
        "\n",
        " - **score-based structure learning**\n",
        " - **constraint-based structure learning**\n",
        "\n",
        "The combination of both techniques allows further improvement:\n",
        " - hybrid structure learning\n",
        "\n",
        "We briefly discuss all approaches and give examples."
      ]
    },
    {
      "cell_type": "markdown",
      "metadata": {
        "id": "_kXGH_UgenHz",
        "colab_type": "text"
      },
      "source": [
        "## Score-based Structure Learning\n",
        "\n",
        "\n",
        "This approach construes model selection as an optimization task. It has two building blocks:\n",
        "\n",
        "- A _scoring function_ $s_D\\colon M \\to \\mathbb R$ that maps models to a numerical score, based on how well they fit to a given data set $D$.\n",
        "- A _search strategy_ to traverse the search space of possible models $M$ and select a model with optimal score.\n",
        "\n",
        "\n",
        "**Scoring functions**\n",
        "\n",
        "Commonly used scores to measure the fit between model and data are _Bayesian Dirichlet scores_ such as *BDeu* or *K2* and the _Bayesian Information Criterion_ (BIC, also called MDL)."
      ]
    },
    {
      "cell_type": "code",
      "metadata": {
        "id": "NYOZEWN_eu0v",
        "colab_type": "code",
        "outputId": "f8783eee-6adb-4336-e572-5b2e85b390a3",
        "colab": {
          "base_uri": "https://localhost:8080/",
          "height": 168
        }
      },
      "source": [
        "import pandas as pd\n",
        "import numpy as np \n",
        "\n",
        "from pgmpy.estimators import BdeuScore, K2Score, BicScore #import scoring functions\n",
        "from pgmpy.models import BayesianModel\n",
        "\n",
        "# create random data sample with 3 variables, where Z is dependent on X, Y:\n",
        "data = pd.DataFrame(np.random.randint(0, 4, size=(5000, 2)), columns=list('XY'))\n",
        "\n",
        "data['Z'] = data['X'] + data['Y'] #Z is the sum of X and Y and is conditional\n",
        "\n",
        "#print(data)\n",
        "\n",
        "bdeu = BdeuScore(data, equivalent_sample_size=5)\n",
        "k2 = K2Score(data)\n",
        "bic = BicScore(data)\n",
        "\n",
        "model1 = BayesianModel([('X', 'Z'), ('Y', 'Z')])  # X -> Z <- Y\n",
        "model2 = BayesianModel([('X', 'Z'), ('X', 'Y')])  # Y <- X -> Z\n",
        "\n",
        "print(\"Model 1 Scores:\")\n",
        "print(bdeu.score(model1))\n",
        "print(k2.score(model1))\n",
        "print(bic.score(model1))\n",
        "\n",
        "print(\"\\nModel 2 Scores:\")\n",
        "print(bdeu.score(model2))\n",
        "print(k2.score(model2))\n",
        "print(bic.score(model2))"
      ],
      "execution_count": 0,
      "outputs": [
        {
          "output_type": "stream",
          "text": [
            "Model 1 Scores:\n",
            "-13938.083889714904\n",
            "-14328.819537651345\n",
            "-14294.126211903193\n",
            "\n",
            "Model 2 Scores:\n",
            "-20895.407800410983\n",
            "-20922.258556054487\n",
            "-20939.458761183072\n"
          ],
          "name": "stdout"
        }
      ]
    },
    {
      "cell_type": "markdown",
      "metadata": {
        "id": "Fka1zdYqh24N",
        "colab_type": "text"
      },
      "source": [
        "While the scores vary slightly, we can see that the correct `model1` has a much higher score than `model2`.\n",
        "Importantly, these scores _decompose_, i.e. they can be computed locally for each of the variables given their potential parents, independent of other parts of the network:"
      ]
    },
    {
      "cell_type": "code",
      "metadata": {
        "id": "-H6NvJ9yh4pr",
        "colab_type": "code",
        "outputId": "edaa1f7e-4adb-4dcb-bbc1-dbb39d8b54bd",
        "colab": {
          "base_uri": "https://localhost:8080/",
          "height": 67
        }
      },
      "source": [
        "#getting local scores of node placement provided the parents of the child node\n",
        "print(bdeu.local_score('Z', parents=[]))\n",
        "print(bdeu.local_score('Z', parents=['X']))\n",
        "print(bdeu.local_score('Z', parents=['X', 'Y']))"
      ],
      "execution_count": 0,
      "outputs": [
        {
          "output_type": "stream",
          "text": [
            "-9207.07941207628\n",
            "-6991.523722830527\n",
            "-57.119868733414705\n"
          ],
          "name": "stdout"
        }
      ]
    },
    {
      "cell_type": "markdown",
      "metadata": {
        "id": "9W_KsR-di8OE",
        "colab_type": "text"
      },
      "source": [
        "**Search strategies**\n",
        "\n",
        "\n",
        "---\n",
        "\n",
        "\n",
        "The search space of DAGs is super-exponential in the number of variables and the above scoring functions allow for local maxima. The first property makes exhaustive search intractable for all but very small networks, the second prohibits efficient local optimization algorithms to always find the optimal structure. Thus, identifiying the ideal structure is often not tractable. Despite these bad news, heuristic search strategies often yields good results.\n",
        "\n",
        "If only few nodes are involved (read: less than 5), `ExhaustiveSearch` can be used to compute the score for every DAG and returns the best-scoring one:"
      ]
    },
    {
      "cell_type": "code",
      "metadata": {
        "id": "gRrteUiUjeLS",
        "colab_type": "code",
        "outputId": "d35a3031-cede-4e63-a67f-1db67c231944",
        "colab": {
          "base_uri": "https://localhost:8080/",
          "height": 504
        }
      },
      "source": [
        "from pgmpy.estimators import ExhaustiveSearch\n",
        "\n",
        "#Exhaust all possible networks and rate them according to the scoring method\n",
        "es = ExhaustiveSearch(data, scoring_method=bdeu)\n",
        "\n",
        "best_model = es.estimate() #returns the model with highest score\n",
        "print(\"best model: \")\n",
        "print(best_model.edges())\n",
        "\n",
        "print(\"\\nAll DAGs by score:\")\n",
        "for score, dag in es.all_scores(): #es.all_score() returns tuple (score, DAG)\n",
        "    print(score, dag.edges())"
      ],
      "execution_count": 0,
      "outputs": [
        {
          "output_type": "stream",
          "text": [
            "best model: \n",
            "[('X', 'Z'), ('Y', 'Z')]\n",
            "\n",
            "All DAGs by score:\n",
            "-23117.68561978954 [('Y', 'X')]\n",
            "-23117.685619789532 [('X', 'Y')]\n",
            "-23088.58382564038 []\n",
            "-20902.309885737523 [('Y', 'Z'), ('Y', 'X')]\n",
            "-20902.309885737523 [('Y', 'X'), ('Z', 'Y')]\n",
            "-20902.30988573752 [('X', 'Y'), ('Y', 'Z')]\n",
            "-20902.129930543786 [('X', 'Z'), ('Y', 'X')]\n",
            "-20902.12993054378 [('X', 'Y'), ('X', 'Z')]\n",
            "-20902.12993054378 [('X', 'Y'), ('Z', 'X')]\n",
            "-20873.208091588363 [('Y', 'Z')]\n",
            "-20873.208091588363 [('Z', 'Y')]\n",
            "-20873.028136394627 [('X', 'Z')]\n",
            "-20873.028136394627 [('Z', 'X')]\n",
            "-18657.65240234261 [('X', 'Z'), ('Z', 'Y')]\n",
            "-18657.65240234261 [('Y', 'Z'), ('Z', 'X')]\n",
            "-18657.65240234261 [('Z', 'X'), ('Z', 'Y')]\n",
            "-16183.281765692424 [('X', 'Y'), ('Z', 'Y')]\n",
            "-16183.101810498685 [('Y', 'X'), ('Z', 'X')]\n",
            "-13967.726076446672 [('X', 'Z'), ('Y', 'Z'), ('Y', 'X')]\n",
            "-13967.72607644667 [('X', 'Y'), ('X', 'Z'), ('Z', 'Y')]\n",
            "-13967.72607644667 [('X', 'Y'), ('Z', 'X'), ('Z', 'Y')]\n",
            "-13967.72607644667 [('Y', 'Z'), ('Y', 'X'), ('Z', 'X')]\n",
            "-13967.72607644667 [('Y', 'X'), ('Z', 'X'), ('Z', 'Y')]\n",
            "-13967.726076446668 [('X', 'Y'), ('X', 'Z'), ('Y', 'Z')]\n",
            "-13938.624282297513 [('X', 'Z'), ('Y', 'Z')]\n"
          ],
          "name": "stdout"
        }
      ]
    },
    {
      "cell_type": "markdown",
      "metadata": {
        "id": "LpzWlpc_lM9n",
        "colab_type": "text"
      },
      "source": [
        "Once more nodes are involved, one needs to switch to heuristic search. **'HillClimbSearch'** implements a greedy local search that starts from the DAG `start` (default: disconnected DAG) and proceeds by iteratively performing single-edge manipulations that maximally increase the score. The search terminates once a local maximum is foun"
      ]
    },
    {
      "cell_type": "code",
      "metadata": {
        "id": "mSz9HzWqlMUl",
        "colab_type": "code",
        "outputId": "3ad609c8-9f1a-46ec-ad81-8d0cb4fe68a8",
        "colab": {
          "base_uri": "https://localhost:8080/",
          "height": 34
        }
      },
      "source": [
        "from pgmpy.estimators import HillClimbSearch\n",
        "\n",
        "# create some data with dependencies\n",
        "data = pd.DataFrame(np.random.randint(0, 3, size=(2500, 6)), columns=list('ABCDEF'))\n",
        "data['G'] = data['A'] + data['B'] #G depends on A and B\n",
        "data['H'] = data['E'] + data['F'] \n",
        "\n",
        "#single edge manipulations to increase score\n",
        "hc = HillClimbSearch(data, scoring_method=BicScore(data)) \n",
        "\n",
        "#bstart = BayesianModel([('A', 'G'), ('B', 'G')])\n",
        "\n",
        "best_model = hc.estimate()\n",
        "print(best_model.edges())"
      ],
      "execution_count": 0,
      "outputs": [
        {
          "output_type": "stream",
          "text": [
            "[('A', 'G'), ('B', 'G'), ('E', 'H'), ('F', 'H')]\n"
          ],
          "name": "stdout"
        }
      ]
    },
    {
      "cell_type": "markdown",
      "metadata": {
        "id": "D8S8Wm8ynsmP",
        "colab_type": "text"
      },
      "source": [
        "To enforce a wider exploration of the search space, the search can be enhanced with a tabu list. The list keeps track of the last `n` modfications; those are then not allowed to be reversed, regardless of the score. Additionally a `white_list` or `black_list` can be supplied to restrict the search to a particular subset or to exclude certain edges. The parameter `max_indegree` allows to restrict the maximum number of parents for each node."
      ]
    },
    {
      "cell_type": "markdown",
      "metadata": {
        "id": "AzeGOFGEn45j",
        "colab_type": "text"
      },
      "source": [
        "## Constraint-Based Structure Learning\n",
        "\n",
        "A different, but quite straightforward approach to build a DAG from data is this:\n",
        "\n",
        "1. Identify independencies in the data set using hypothesis tests \n",
        "2. Construct DAG (pattern) according to identified independencies\n",
        "\n",
        "#### (Conditional) Independence Tests\n",
        "\n",
        "Independencies in the data can be identified using chi2 conditional independence tests. To this end, constraint-based estimators in pgmpy have a `test_conditional_independence(X, Y, Zs)`-method, that performs a hypothesis test on the data sample. It allows to check if `X` is independent from `Y` given a set of variables `Zs`:\n",
        "\n"
      ]
    },
    {
      "cell_type": "code",
      "metadata": {
        "id": "4HoIgXmRpO39",
        "colab_type": "code",
        "outputId": "b9b9fb75-160e-410f-f8d1-e0ae7c2b5889",
        "colab": {
          "base_uri": "https://localhost:8080/",
          "height": 50
        }
      },
      "source": [
        "from pgmpy.estimators import ConstraintBasedEstimator\n",
        "import pandas as pd\n",
        "import numpy as np\n",
        "\n",
        "data = pd.DataFrame(np.random.randint(3, size=(2500, 8)), columns=list('ABCDEFGH'))\n",
        "data['A'] += data['B'] + data['C']\n",
        "data['H'] = data['G'] - data['A']\n",
        "data['E'] *= data['F']\n",
        "\n",
        "      \n",
        "print(type(data)  )    \n",
        "est = ConstraintBasedEstimator(data)\n",
        "print(est.test_conditional_independence('B', 'H'))          # dependent\n",
        "# print(est.test_conditional_independence('B', 'E'))          # independent\n",
        "# print(est.test_conditional_independence('B', 'H', ['A']))   # independent\n",
        "# print(est.test_conditional_independence('A', 'G'))          # independent\n",
        "# print(est.test_conditional_independence('A', 'G',  ['H']))  # dependent"
      ],
      "execution_count": 0,
      "outputs": [
        {
          "output_type": "stream",
          "text": [
            "<class 'pandas.core.frame.DataFrame'>\n",
            "(643.4022904448409, 5.158434875085489e-119, True)\n"
          ],
          "name": "stdout"
        }
      ]
    },
    {
      "cell_type": "markdown",
      "metadata": {
        "id": "DgMsXG__prlv",
        "colab_type": "text"
      },
      "source": [
        "`test_conditional_independence()` returns a tripel `(chi2, p_value, sufficient_data)`, consisting in the computed chi2 test statistic, the `p_value` of the test, and a heuristig flag that indicates if the sample size was sufficient. The `p_value` is the probability of observing the computed chi2 statistic (or an even higher chi2 value), given the null hypothesis that X and Y are independent given Zs.\n",
        "\n",
        "This can be used to make independence judgements, at a given level of significance:\n",
        "\n",
        "\n",
        "\n",
        "---\n",
        "\n",
        "high significance (p-value) = independence\n",
        "\n",
        "low significance (p-value) = dependence\n",
        "\n",
        "high chi2 = weak relationship\n",
        "\n",
        "low chi2 = strong relationship\n"
      ]
    },
    {
      "cell_type": "markdown",
      "metadata": {
        "id": "3WAqt8Q_q_6v",
        "colab_type": "text"
      },
      "source": [
        "**Vocabulary**\n",
        "\n",
        "Chi2 (chi squared) - A low value for chi-square means there is a high correlation between your two sets of data and vice versa. The larger the Chi-square value, the greater the probability that there really is a significant difference.  \n",
        "\n",
        "\n",
        "---\n",
        "\n",
        "p value - A value between 0 and 1 used to show the significance level (significance of correlation). (P-value<=0.05: strong evidence against the null hypothesis vice versa) When the data is perfectly described by the resticted model, the probability to get data that is less well described is 1\n",
        "\n",
        "---\n",
        "\n"
      ]
    },
    {
      "cell_type": "code",
      "metadata": {
        "id": "RgXh79O4su-r",
        "colab_type": "code",
        "outputId": "8044f807-dce9-4b10-b760-02cee518615f",
        "colab": {
          "base_uri": "https://localhost:8080/",
          "height": 101
        }
      },
      "source": [
        "def is_independent(X, Y, Zs=[], significance_level=0.05):\n",
        "    return est.test_conditional_independence(X, Y, Zs)[1] >= significance_level\n",
        "\n",
        "print(is_independent('B', 'H'))\n",
        "print(is_independent('B', 'E'))\n",
        "print(is_independent('B', 'H', ['A']))\n",
        "print(is_independent('A', 'G'))\n",
        "print(is_independent('A', 'G', ['H']))"
      ],
      "execution_count": 0,
      "outputs": [
        {
          "output_type": "stream",
          "text": [
            "False\n",
            "True\n",
            "True\n",
            "True\n",
            "False\n"
          ],
          "name": "stdout"
        }
      ]
    },
    {
      "cell_type": "markdown",
      "metadata": {
        "id": "bH3FJKbXvSJC",
        "colab_type": "text"
      },
      "source": [
        "**DAG (pattern) construction**\n",
        "\n",
        "With a method for independence testing at hand, we can construct a DAG from the data set in three steps:\n",
        "1. Construct an undirected skeleton - `estimate_skeleton()`\n",
        "2. Orient compelled edges to obtain partially directed acyclid graph (PDAG; I-equivalence class of DAGs) - `skeleton_to_pdag()`\n",
        "3. Extend DAG pattern to a DAG by conservatively orienting the remaining edges in some way - `pdag_to_dag()`\n",
        "\n",
        "Step 1.&2. form the so-called PC algorithm, see [2], page 550. PDAGs are `DirectedGraph`s, that may contain both-way edges, to indicate that the orientation for the edge is not determined."
      ]
    },
    {
      "cell_type": "code",
      "metadata": {
        "id": "CudJpZ3lvaLt",
        "colab_type": "code",
        "outputId": "7f9dd512-5500-4216-9e5f-7dbf50a4ae5a",
        "colab": {
          "base_uri": "https://localhost:8080/",
          "height": 84
        }
      },
      "source": [
        "skel, seperating_sets = est.estimate_skeleton(significance_level=0.01)\n",
        "print(\"Undirected edges: \", skel.edges())\n",
        "\n",
        "pdag = est.skeleton_to_pdag(skel, seperating_sets)\n",
        "print(\"PDAG edges:       \", pdag.edges())\n",
        "\n",
        "model = est.pdag_to_dag(pdag)\n",
        "print(\"DAG edges:        \", model.edges())\n",
        "\n",
        "#short-hand of the methods above in order to get to creating the DAG\n",
        "est.estimate(significance_level=0.01).edges()\n",
        "\n",
        "\n",
        "# significance_level` is the desired Type 1 error probability of\n",
        "# falsely rejecting the null hypothesis that variables are independent,\n",
        "# given that they are. The lower `significance_level`, the less likely\n",
        "# we are to accept dependencies, resulting in a sparser graph."
      ],
      "execution_count": 0,
      "outputs": [
        {
          "output_type": "stream",
          "text": [
            "Undirected edges:  [('A', 'B'), ('A', 'C'), ('A', 'H'), ('E', 'F'), ('G', 'H')]\n",
            "PDAG edges:        [('A', 'H'), ('B', 'A'), ('C', 'A'), ('E', 'F'), ('F', 'E'), ('G', 'H')]\n",
            "DAG edges:         [('A', 'H'), ('B', 'A'), ('C', 'A'), ('F', 'E'), ('G', 'H')]\n"
          ],
          "name": "stdout"
        },
        {
          "output_type": "execute_result",
          "data": {
            "text/plain": [
              "[('A', 'H'), ('B', 'A'), ('C', 'A'), ('F', 'E'), ('G', 'H')]"
            ]
          },
          "metadata": {
            "tags": []
          },
          "execution_count": 11
        }
      ]
    },
    {
      "cell_type": "markdown",
      "metadata": {
        "id": "QsMB5QkB0Ax3",
        "colab_type": "text"
      },
      "source": [
        "The `estimate_from_independencies()`-method can be used to construct a `BayesianModel` from a provided *set of independencies* (see class documentation for further features & methods):"
      ]
    },
    {
      "cell_type": "code",
      "metadata": {
        "id": "521sml8qz-Bh",
        "colab_type": "code",
        "outputId": "704fcf14-3fbd-4f86-89d1-9883017fc082",
        "colab": {
          "base_uri": "https://localhost:8080/",
          "height": 34
        }
      },
      "source": [
        "from pgmpy.independencies import Independencies\n",
        "\n",
        "ind = Independencies(['B', 'C'],\n",
        "                     ['A', ['B', 'C'], 'D'])\n",
        "ind = ind.closure()  # required (!) for faithfulness\n",
        "\n",
        "model = ConstraintBasedEstimator.estimate_from_independencies(\"ABCD\", ind)\n",
        "\n",
        "print(model.edges())"
      ],
      "execution_count": 0,
      "outputs": [
        {
          "output_type": "stream",
          "text": [
            "[('A', 'D'), ('B', 'D'), ('C', 'D')]\n"
          ],
          "name": "stdout"
        }
      ]
    },
    {
      "cell_type": "markdown",
      "metadata": {
        "id": "c2piD9Tf0rLO",
        "colab_type": "text"
      },
      "source": [
        "## Hybrid Structure Learning\n",
        "\n",
        "This Hybrid structure learning combines the constraint-based and score-based method. It has two parts:\n",
        "\n",
        "1. Learn undirected graph skeleton using the constraint-based construction procedure MMPC\n",
        "2. Orient edges using score-based optimization (BDeu score + modified hill-climbing)\n",
        "\n",
        "We can perform the two steps seperately, more or less as follows:"
      ]
    },
    {
      "cell_type": "code",
      "metadata": {
        "id": "uTNVh2XR026f",
        "colab_type": "code",
        "outputId": "424aa8c2-31f0-42ae-adbd-233d205ed3d3",
        "colab": {
          "base_uri": "https://localhost:8080/",
          "height": 50
        }
      },
      "source": [
        "import pandas as pd\n",
        "import numpy as np\n",
        "from pgmpy.estimators import ConstraintBasedEstimator, HillClimbSearch\n",
        "from pgmpy.estimators import BdeuScore, K2Score, BicScore #import scoring functions\n",
        "from pgmpy.models import BayesianModel\n",
        "\n",
        "data = pd.DataFrame(np.random.randint(0, 3, size=(2500, 7)), columns=list('ABCEFGH'))\n",
        "data['A'] += data['B'] + data['C']\n",
        "data['H'] = data['G'] - data['A']\n",
        "data['E'] *= data['F']\n",
        "\n",
        "#Create undirected graph skeleton\n",
        "constraintEstimate = ConstraintBasedEstimator(data)\n",
        "start, sets = constraintEstimate.estimate_skeleton(significance_level=0.01)\n",
        "\n",
        "bmodel = BayesianModel(start.edges())\n",
        "\n",
        "print(\"Part 1) Skeleton: \", bmodel.edges())\n",
        "\n",
        "# use hill climb search to orient the edges:\n",
        "hc = HillClimbSearch(data, scoring_method=BdeuScore(data))\n",
        "model = hc.estimate(start=bmodel)\n",
        "print(\"Part 2) Model:    \", model.edges())"
      ],
      "execution_count": 0,
      "outputs": [
        {
          "output_type": "stream",
          "text": [
            "Part 1) Skeleton:  [('A', 'B'), ('A', 'C'), ('A', 'H'), ('E', 'F'), ('G', 'H')]\n",
            "Part 2) Model:     [('A', 'B'), ('A', 'C'), ('A', 'H'), ('C', 'B'), ('E', 'F'), ('G', 'H')]\n"
          ],
          "name": "stdout"
        }
      ]
    },
    {
      "cell_type": "markdown",
      "metadata": {
        "id": "vRsdaBek9tpg",
        "colab_type": "text"
      },
      "source": [
        "# Practice Playground"
      ]
    },
    {
      "cell_type": "code",
      "metadata": {
        "id": "doDmBgXIILcG",
        "colab_type": "code",
        "outputId": "12c47092-d8ab-4e25-bbc7-461a092d61c7",
        "colab": {
          "base_uri": "https://localhost:8080/",
          "height": 1882
        }
      },
      "source": [
        "import pandas as pd\n",
        "import numpy as np\n",
        "from sklearn.datasets import load_iris\n",
        "\n",
        "iris=load_iris() #loading flower dataset\n",
        "\n",
        "#print(iris)\n",
        "\n",
        "columns = iris['feature_names'] #original names of colums in dataset\n",
        "data = iris['data']\n",
        "target = iris['target']\n",
        "\n",
        "df = pd.DataFrame(data, columns = columns)\n",
        "df.insert(len(columns), \"Type\", target) #combine training and target data into one dataframe\n",
        "df"
      ],
      "execution_count": 0,
      "outputs": [
        {
          "output_type": "execute_result",
          "data": {
            "text/html": [
              "<div>\n",
              "<style scoped>\n",
              "    .dataframe tbody tr th:only-of-type {\n",
              "        vertical-align: middle;\n",
              "    }\n",
              "\n",
              "    .dataframe tbody tr th {\n",
              "        vertical-align: top;\n",
              "    }\n",
              "\n",
              "    .dataframe thead th {\n",
              "        text-align: right;\n",
              "    }\n",
              "</style>\n",
              "<table border=\"1\" class=\"dataframe\">\n",
              "  <thead>\n",
              "    <tr style=\"text-align: right;\">\n",
              "      <th></th>\n",
              "      <th>sepal length (cm)</th>\n",
              "      <th>sepal width (cm)</th>\n",
              "      <th>petal length (cm)</th>\n",
              "      <th>petal width (cm)</th>\n",
              "      <th>Type</th>\n",
              "    </tr>\n",
              "  </thead>\n",
              "  <tbody>\n",
              "    <tr>\n",
              "      <th>0</th>\n",
              "      <td>5.1</td>\n",
              "      <td>3.5</td>\n",
              "      <td>1.4</td>\n",
              "      <td>0.2</td>\n",
              "      <td>0</td>\n",
              "    </tr>\n",
              "    <tr>\n",
              "      <th>1</th>\n",
              "      <td>4.9</td>\n",
              "      <td>3.0</td>\n",
              "      <td>1.4</td>\n",
              "      <td>0.2</td>\n",
              "      <td>0</td>\n",
              "    </tr>\n",
              "    <tr>\n",
              "      <th>2</th>\n",
              "      <td>4.7</td>\n",
              "      <td>3.2</td>\n",
              "      <td>1.3</td>\n",
              "      <td>0.2</td>\n",
              "      <td>0</td>\n",
              "    </tr>\n",
              "    <tr>\n",
              "      <th>3</th>\n",
              "      <td>4.6</td>\n",
              "      <td>3.1</td>\n",
              "      <td>1.5</td>\n",
              "      <td>0.2</td>\n",
              "      <td>0</td>\n",
              "    </tr>\n",
              "    <tr>\n",
              "      <th>4</th>\n",
              "      <td>5.0</td>\n",
              "      <td>3.6</td>\n",
              "      <td>1.4</td>\n",
              "      <td>0.2</td>\n",
              "      <td>0</td>\n",
              "    </tr>\n",
              "    <tr>\n",
              "      <th>5</th>\n",
              "      <td>5.4</td>\n",
              "      <td>3.9</td>\n",
              "      <td>1.7</td>\n",
              "      <td>0.4</td>\n",
              "      <td>0</td>\n",
              "    </tr>\n",
              "    <tr>\n",
              "      <th>6</th>\n",
              "      <td>4.6</td>\n",
              "      <td>3.4</td>\n",
              "      <td>1.4</td>\n",
              "      <td>0.3</td>\n",
              "      <td>0</td>\n",
              "    </tr>\n",
              "    <tr>\n",
              "      <th>7</th>\n",
              "      <td>5.0</td>\n",
              "      <td>3.4</td>\n",
              "      <td>1.5</td>\n",
              "      <td>0.2</td>\n",
              "      <td>0</td>\n",
              "    </tr>\n",
              "    <tr>\n",
              "      <th>8</th>\n",
              "      <td>4.4</td>\n",
              "      <td>2.9</td>\n",
              "      <td>1.4</td>\n",
              "      <td>0.2</td>\n",
              "      <td>0</td>\n",
              "    </tr>\n",
              "    <tr>\n",
              "      <th>9</th>\n",
              "      <td>4.9</td>\n",
              "      <td>3.1</td>\n",
              "      <td>1.5</td>\n",
              "      <td>0.1</td>\n",
              "      <td>0</td>\n",
              "    </tr>\n",
              "    <tr>\n",
              "      <th>10</th>\n",
              "      <td>5.4</td>\n",
              "      <td>3.7</td>\n",
              "      <td>1.5</td>\n",
              "      <td>0.2</td>\n",
              "      <td>0</td>\n",
              "    </tr>\n",
              "    <tr>\n",
              "      <th>11</th>\n",
              "      <td>4.8</td>\n",
              "      <td>3.4</td>\n",
              "      <td>1.6</td>\n",
              "      <td>0.2</td>\n",
              "      <td>0</td>\n",
              "    </tr>\n",
              "    <tr>\n",
              "      <th>12</th>\n",
              "      <td>4.8</td>\n",
              "      <td>3.0</td>\n",
              "      <td>1.4</td>\n",
              "      <td>0.1</td>\n",
              "      <td>0</td>\n",
              "    </tr>\n",
              "    <tr>\n",
              "      <th>13</th>\n",
              "      <td>4.3</td>\n",
              "      <td>3.0</td>\n",
              "      <td>1.1</td>\n",
              "      <td>0.1</td>\n",
              "      <td>0</td>\n",
              "    </tr>\n",
              "    <tr>\n",
              "      <th>14</th>\n",
              "      <td>5.8</td>\n",
              "      <td>4.0</td>\n",
              "      <td>1.2</td>\n",
              "      <td>0.2</td>\n",
              "      <td>0</td>\n",
              "    </tr>\n",
              "    <tr>\n",
              "      <th>15</th>\n",
              "      <td>5.7</td>\n",
              "      <td>4.4</td>\n",
              "      <td>1.5</td>\n",
              "      <td>0.4</td>\n",
              "      <td>0</td>\n",
              "    </tr>\n",
              "    <tr>\n",
              "      <th>16</th>\n",
              "      <td>5.4</td>\n",
              "      <td>3.9</td>\n",
              "      <td>1.3</td>\n",
              "      <td>0.4</td>\n",
              "      <td>0</td>\n",
              "    </tr>\n",
              "    <tr>\n",
              "      <th>17</th>\n",
              "      <td>5.1</td>\n",
              "      <td>3.5</td>\n",
              "      <td>1.4</td>\n",
              "      <td>0.3</td>\n",
              "      <td>0</td>\n",
              "    </tr>\n",
              "    <tr>\n",
              "      <th>18</th>\n",
              "      <td>5.7</td>\n",
              "      <td>3.8</td>\n",
              "      <td>1.7</td>\n",
              "      <td>0.3</td>\n",
              "      <td>0</td>\n",
              "    </tr>\n",
              "    <tr>\n",
              "      <th>19</th>\n",
              "      <td>5.1</td>\n",
              "      <td>3.8</td>\n",
              "      <td>1.5</td>\n",
              "      <td>0.3</td>\n",
              "      <td>0</td>\n",
              "    </tr>\n",
              "    <tr>\n",
              "      <th>20</th>\n",
              "      <td>5.4</td>\n",
              "      <td>3.4</td>\n",
              "      <td>1.7</td>\n",
              "      <td>0.2</td>\n",
              "      <td>0</td>\n",
              "    </tr>\n",
              "    <tr>\n",
              "      <th>21</th>\n",
              "      <td>5.1</td>\n",
              "      <td>3.7</td>\n",
              "      <td>1.5</td>\n",
              "      <td>0.4</td>\n",
              "      <td>0</td>\n",
              "    </tr>\n",
              "    <tr>\n",
              "      <th>22</th>\n",
              "      <td>4.6</td>\n",
              "      <td>3.6</td>\n",
              "      <td>1.0</td>\n",
              "      <td>0.2</td>\n",
              "      <td>0</td>\n",
              "    </tr>\n",
              "    <tr>\n",
              "      <th>23</th>\n",
              "      <td>5.1</td>\n",
              "      <td>3.3</td>\n",
              "      <td>1.7</td>\n",
              "      <td>0.5</td>\n",
              "      <td>0</td>\n",
              "    </tr>\n",
              "    <tr>\n",
              "      <th>24</th>\n",
              "      <td>4.8</td>\n",
              "      <td>3.4</td>\n",
              "      <td>1.9</td>\n",
              "      <td>0.2</td>\n",
              "      <td>0</td>\n",
              "    </tr>\n",
              "    <tr>\n",
              "      <th>25</th>\n",
              "      <td>5.0</td>\n",
              "      <td>3.0</td>\n",
              "      <td>1.6</td>\n",
              "      <td>0.2</td>\n",
              "      <td>0</td>\n",
              "    </tr>\n",
              "    <tr>\n",
              "      <th>26</th>\n",
              "      <td>5.0</td>\n",
              "      <td>3.4</td>\n",
              "      <td>1.6</td>\n",
              "      <td>0.4</td>\n",
              "      <td>0</td>\n",
              "    </tr>\n",
              "    <tr>\n",
              "      <th>27</th>\n",
              "      <td>5.2</td>\n",
              "      <td>3.5</td>\n",
              "      <td>1.5</td>\n",
              "      <td>0.2</td>\n",
              "      <td>0</td>\n",
              "    </tr>\n",
              "    <tr>\n",
              "      <th>28</th>\n",
              "      <td>5.2</td>\n",
              "      <td>3.4</td>\n",
              "      <td>1.4</td>\n",
              "      <td>0.2</td>\n",
              "      <td>0</td>\n",
              "    </tr>\n",
              "    <tr>\n",
              "      <th>29</th>\n",
              "      <td>4.7</td>\n",
              "      <td>3.2</td>\n",
              "      <td>1.6</td>\n",
              "      <td>0.2</td>\n",
              "      <td>0</td>\n",
              "    </tr>\n",
              "    <tr>\n",
              "      <th>...</th>\n",
              "      <td>...</td>\n",
              "      <td>...</td>\n",
              "      <td>...</td>\n",
              "      <td>...</td>\n",
              "      <td>...</td>\n",
              "    </tr>\n",
              "    <tr>\n",
              "      <th>120</th>\n",
              "      <td>6.9</td>\n",
              "      <td>3.2</td>\n",
              "      <td>5.7</td>\n",
              "      <td>2.3</td>\n",
              "      <td>2</td>\n",
              "    </tr>\n",
              "    <tr>\n",
              "      <th>121</th>\n",
              "      <td>5.6</td>\n",
              "      <td>2.8</td>\n",
              "      <td>4.9</td>\n",
              "      <td>2.0</td>\n",
              "      <td>2</td>\n",
              "    </tr>\n",
              "    <tr>\n",
              "      <th>122</th>\n",
              "      <td>7.7</td>\n",
              "      <td>2.8</td>\n",
              "      <td>6.7</td>\n",
              "      <td>2.0</td>\n",
              "      <td>2</td>\n",
              "    </tr>\n",
              "    <tr>\n",
              "      <th>123</th>\n",
              "      <td>6.3</td>\n",
              "      <td>2.7</td>\n",
              "      <td>4.9</td>\n",
              "      <td>1.8</td>\n",
              "      <td>2</td>\n",
              "    </tr>\n",
              "    <tr>\n",
              "      <th>124</th>\n",
              "      <td>6.7</td>\n",
              "      <td>3.3</td>\n",
              "      <td>5.7</td>\n",
              "      <td>2.1</td>\n",
              "      <td>2</td>\n",
              "    </tr>\n",
              "    <tr>\n",
              "      <th>125</th>\n",
              "      <td>7.2</td>\n",
              "      <td>3.2</td>\n",
              "      <td>6.0</td>\n",
              "      <td>1.8</td>\n",
              "      <td>2</td>\n",
              "    </tr>\n",
              "    <tr>\n",
              "      <th>126</th>\n",
              "      <td>6.2</td>\n",
              "      <td>2.8</td>\n",
              "      <td>4.8</td>\n",
              "      <td>1.8</td>\n",
              "      <td>2</td>\n",
              "    </tr>\n",
              "    <tr>\n",
              "      <th>127</th>\n",
              "      <td>6.1</td>\n",
              "      <td>3.0</td>\n",
              "      <td>4.9</td>\n",
              "      <td>1.8</td>\n",
              "      <td>2</td>\n",
              "    </tr>\n",
              "    <tr>\n",
              "      <th>128</th>\n",
              "      <td>6.4</td>\n",
              "      <td>2.8</td>\n",
              "      <td>5.6</td>\n",
              "      <td>2.1</td>\n",
              "      <td>2</td>\n",
              "    </tr>\n",
              "    <tr>\n",
              "      <th>129</th>\n",
              "      <td>7.2</td>\n",
              "      <td>3.0</td>\n",
              "      <td>5.8</td>\n",
              "      <td>1.6</td>\n",
              "      <td>2</td>\n",
              "    </tr>\n",
              "    <tr>\n",
              "      <th>130</th>\n",
              "      <td>7.4</td>\n",
              "      <td>2.8</td>\n",
              "      <td>6.1</td>\n",
              "      <td>1.9</td>\n",
              "      <td>2</td>\n",
              "    </tr>\n",
              "    <tr>\n",
              "      <th>131</th>\n",
              "      <td>7.9</td>\n",
              "      <td>3.8</td>\n",
              "      <td>6.4</td>\n",
              "      <td>2.0</td>\n",
              "      <td>2</td>\n",
              "    </tr>\n",
              "    <tr>\n",
              "      <th>132</th>\n",
              "      <td>6.4</td>\n",
              "      <td>2.8</td>\n",
              "      <td>5.6</td>\n",
              "      <td>2.2</td>\n",
              "      <td>2</td>\n",
              "    </tr>\n",
              "    <tr>\n",
              "      <th>133</th>\n",
              "      <td>6.3</td>\n",
              "      <td>2.8</td>\n",
              "      <td>5.1</td>\n",
              "      <td>1.5</td>\n",
              "      <td>2</td>\n",
              "    </tr>\n",
              "    <tr>\n",
              "      <th>134</th>\n",
              "      <td>6.1</td>\n",
              "      <td>2.6</td>\n",
              "      <td>5.6</td>\n",
              "      <td>1.4</td>\n",
              "      <td>2</td>\n",
              "    </tr>\n",
              "    <tr>\n",
              "      <th>135</th>\n",
              "      <td>7.7</td>\n",
              "      <td>3.0</td>\n",
              "      <td>6.1</td>\n",
              "      <td>2.3</td>\n",
              "      <td>2</td>\n",
              "    </tr>\n",
              "    <tr>\n",
              "      <th>136</th>\n",
              "      <td>6.3</td>\n",
              "      <td>3.4</td>\n",
              "      <td>5.6</td>\n",
              "      <td>2.4</td>\n",
              "      <td>2</td>\n",
              "    </tr>\n",
              "    <tr>\n",
              "      <th>137</th>\n",
              "      <td>6.4</td>\n",
              "      <td>3.1</td>\n",
              "      <td>5.5</td>\n",
              "      <td>1.8</td>\n",
              "      <td>2</td>\n",
              "    </tr>\n",
              "    <tr>\n",
              "      <th>138</th>\n",
              "      <td>6.0</td>\n",
              "      <td>3.0</td>\n",
              "      <td>4.8</td>\n",
              "      <td>1.8</td>\n",
              "      <td>2</td>\n",
              "    </tr>\n",
              "    <tr>\n",
              "      <th>139</th>\n",
              "      <td>6.9</td>\n",
              "      <td>3.1</td>\n",
              "      <td>5.4</td>\n",
              "      <td>2.1</td>\n",
              "      <td>2</td>\n",
              "    </tr>\n",
              "    <tr>\n",
              "      <th>140</th>\n",
              "      <td>6.7</td>\n",
              "      <td>3.1</td>\n",
              "      <td>5.6</td>\n",
              "      <td>2.4</td>\n",
              "      <td>2</td>\n",
              "    </tr>\n",
              "    <tr>\n",
              "      <th>141</th>\n",
              "      <td>6.9</td>\n",
              "      <td>3.1</td>\n",
              "      <td>5.1</td>\n",
              "      <td>2.3</td>\n",
              "      <td>2</td>\n",
              "    </tr>\n",
              "    <tr>\n",
              "      <th>142</th>\n",
              "      <td>5.8</td>\n",
              "      <td>2.7</td>\n",
              "      <td>5.1</td>\n",
              "      <td>1.9</td>\n",
              "      <td>2</td>\n",
              "    </tr>\n",
              "    <tr>\n",
              "      <th>143</th>\n",
              "      <td>6.8</td>\n",
              "      <td>3.2</td>\n",
              "      <td>5.9</td>\n",
              "      <td>2.3</td>\n",
              "      <td>2</td>\n",
              "    </tr>\n",
              "    <tr>\n",
              "      <th>144</th>\n",
              "      <td>6.7</td>\n",
              "      <td>3.3</td>\n",
              "      <td>5.7</td>\n",
              "      <td>2.5</td>\n",
              "      <td>2</td>\n",
              "    </tr>\n",
              "    <tr>\n",
              "      <th>145</th>\n",
              "      <td>6.7</td>\n",
              "      <td>3.0</td>\n",
              "      <td>5.2</td>\n",
              "      <td>2.3</td>\n",
              "      <td>2</td>\n",
              "    </tr>\n",
              "    <tr>\n",
              "      <th>146</th>\n",
              "      <td>6.3</td>\n",
              "      <td>2.5</td>\n",
              "      <td>5.0</td>\n",
              "      <td>1.9</td>\n",
              "      <td>2</td>\n",
              "    </tr>\n",
              "    <tr>\n",
              "      <th>147</th>\n",
              "      <td>6.5</td>\n",
              "      <td>3.0</td>\n",
              "      <td>5.2</td>\n",
              "      <td>2.0</td>\n",
              "      <td>2</td>\n",
              "    </tr>\n",
              "    <tr>\n",
              "      <th>148</th>\n",
              "      <td>6.2</td>\n",
              "      <td>3.4</td>\n",
              "      <td>5.4</td>\n",
              "      <td>2.3</td>\n",
              "      <td>2</td>\n",
              "    </tr>\n",
              "    <tr>\n",
              "      <th>149</th>\n",
              "      <td>5.9</td>\n",
              "      <td>3.0</td>\n",
              "      <td>5.1</td>\n",
              "      <td>1.8</td>\n",
              "      <td>2</td>\n",
              "    </tr>\n",
              "  </tbody>\n",
              "</table>\n",
              "<p>150 rows × 5 columns</p>\n",
              "</div>"
            ],
            "text/plain": [
              "     sepal length (cm)  sepal width (cm)  ...  petal width (cm)  Type\n",
              "0                  5.1               3.5  ...               0.2     0\n",
              "1                  4.9               3.0  ...               0.2     0\n",
              "2                  4.7               3.2  ...               0.2     0\n",
              "3                  4.6               3.1  ...               0.2     0\n",
              "4                  5.0               3.6  ...               0.2     0\n",
              "5                  5.4               3.9  ...               0.4     0\n",
              "6                  4.6               3.4  ...               0.3     0\n",
              "7                  5.0               3.4  ...               0.2     0\n",
              "8                  4.4               2.9  ...               0.2     0\n",
              "9                  4.9               3.1  ...               0.1     0\n",
              "10                 5.4               3.7  ...               0.2     0\n",
              "11                 4.8               3.4  ...               0.2     0\n",
              "12                 4.8               3.0  ...               0.1     0\n",
              "13                 4.3               3.0  ...               0.1     0\n",
              "14                 5.8               4.0  ...               0.2     0\n",
              "15                 5.7               4.4  ...               0.4     0\n",
              "16                 5.4               3.9  ...               0.4     0\n",
              "17                 5.1               3.5  ...               0.3     0\n",
              "18                 5.7               3.8  ...               0.3     0\n",
              "19                 5.1               3.8  ...               0.3     0\n",
              "20                 5.4               3.4  ...               0.2     0\n",
              "21                 5.1               3.7  ...               0.4     0\n",
              "22                 4.6               3.6  ...               0.2     0\n",
              "23                 5.1               3.3  ...               0.5     0\n",
              "24                 4.8               3.4  ...               0.2     0\n",
              "25                 5.0               3.0  ...               0.2     0\n",
              "26                 5.0               3.4  ...               0.4     0\n",
              "27                 5.2               3.5  ...               0.2     0\n",
              "28                 5.2               3.4  ...               0.2     0\n",
              "29                 4.7               3.2  ...               0.2     0\n",
              "..                 ...               ...  ...               ...   ...\n",
              "120                6.9               3.2  ...               2.3     2\n",
              "121                5.6               2.8  ...               2.0     2\n",
              "122                7.7               2.8  ...               2.0     2\n",
              "123                6.3               2.7  ...               1.8     2\n",
              "124                6.7               3.3  ...               2.1     2\n",
              "125                7.2               3.2  ...               1.8     2\n",
              "126                6.2               2.8  ...               1.8     2\n",
              "127                6.1               3.0  ...               1.8     2\n",
              "128                6.4               2.8  ...               2.1     2\n",
              "129                7.2               3.0  ...               1.6     2\n",
              "130                7.4               2.8  ...               1.9     2\n",
              "131                7.9               3.8  ...               2.0     2\n",
              "132                6.4               2.8  ...               2.2     2\n",
              "133                6.3               2.8  ...               1.5     2\n",
              "134                6.1               2.6  ...               1.4     2\n",
              "135                7.7               3.0  ...               2.3     2\n",
              "136                6.3               3.4  ...               2.4     2\n",
              "137                6.4               3.1  ...               1.8     2\n",
              "138                6.0               3.0  ...               1.8     2\n",
              "139                6.9               3.1  ...               2.1     2\n",
              "140                6.7               3.1  ...               2.4     2\n",
              "141                6.9               3.1  ...               2.3     2\n",
              "142                5.8               2.7  ...               1.9     2\n",
              "143                6.8               3.2  ...               2.3     2\n",
              "144                6.7               3.3  ...               2.5     2\n",
              "145                6.7               3.0  ...               2.3     2\n",
              "146                6.3               2.5  ...               1.9     2\n",
              "147                6.5               3.0  ...               2.0     2\n",
              "148                6.2               3.4  ...               2.3     2\n",
              "149                5.9               3.0  ...               1.8     2\n",
              "\n",
              "[150 rows x 5 columns]"
            ]
          },
          "metadata": {
            "tags": []
          },
          "execution_count": 101
        }
      ]
    },
    {
      "cell_type": "code",
      "metadata": {
        "id": "gPbCpHFBLlnm",
        "colab_type": "code",
        "outputId": "804dd4dc-a68c-45a1-ffc9-3afea70e7e58",
        "colab": {
          "base_uri": "https://localhost:8080/",
          "height": 309
        }
      },
      "source": [
        "from pgmpy.estimators import BdeuScore, K2Score, BicScore\n",
        "from pgmpy.models import BayesianModel\n",
        "from pgmpy.estimators import HillClimbSearch\n",
        "from graphviz import Digraph #directed graph (good for bayesian networks)\n",
        "\n",
        "\n",
        "bdeu = BdeuScore(df, equivalent_sample_size=400)\n",
        "\n",
        "#single edge manipulations to increase score\n",
        "hc = HillClimbSearch(df, scoring_method=bdeu) \n",
        "\n",
        "best_model = hc.estimate()\n",
        "print(best_model.edges())\n",
        "\n",
        "###Print out Bayesian Network\n",
        "\n",
        "edges = best_model.edges() #store connections in a variable\n",
        "\n",
        "g = Digraph('Flower', filename='fruits') #name, filename\n",
        "\n",
        "#Create connections given the edges \n",
        "for i in range(0, len(edges)):\n",
        "  parent = edges[i][0]\n",
        "  child = edges[i][1]\n",
        "  g.edge(parent, child)\n",
        "    \n",
        "g"
      ],
      "execution_count": 0,
      "outputs": [
        {
          "output_type": "stream",
          "text": [
            "[('petal width (cm)', 'petal length (cm)'), ('petal width (cm)', 'sepal width (cm)'), ('Type', 'petal width (cm)'), ('Type', 'sepal length (cm)'), ('Type', 'petal length (cm)')]\n"
          ],
          "name": "stdout"
        },
        {
          "output_type": "execute_result",
          "data": {
            "text/plain": [
              "<graphviz.dot.Digraph at 0x7f213a5ae940>"
            ],
            "image/svg+xml": "<?xml version=\"1.0\" encoding=\"UTF-8\" standalone=\"no\"?>\n<!DOCTYPE svg PUBLIC \"-//W3C//DTD SVG 1.1//EN\"\n \"http://www.w3.org/Graphics/SVG/1.1/DTD/svg11.dtd\">\n<!-- Generated by graphviz version 2.40.1 (20161225.0304)\n -->\n<!-- Title: Flower Pages: 1 -->\n<svg width=\"419pt\" height=\"188pt\"\n viewBox=\"0.00 0.00 419.19 188.00\" xmlns=\"http://www.w3.org/2000/svg\" xmlns:xlink=\"http://www.w3.org/1999/xlink\">\n<g id=\"graph0\" class=\"graph\" transform=\"scale(1 1) rotate(0) translate(4 184)\">\n<title>Flower</title>\n<polygon fill=\"#ffffff\" stroke=\"transparent\" points=\"-4,4 -4,-184 415.1869,-184 415.1869,4 -4,4\"/>\n<!-- petal width (cm) -->\n<g id=\"node1\" class=\"node\">\n<title>petal width (cm)</title>\n<ellipse fill=\"none\" stroke=\"#000000\" cx=\"172.4435\" cy=\"-90\" rx=\"71.4873\" ry=\"18\"/>\n<text text-anchor=\"middle\" x=\"172.4435\" y=\"-86.3\" font-family=\"Times,serif\" font-size=\"14.00\" fill=\"#000000\">petal width (cm)</text>\n</g>\n<!-- petal length (cm) -->\n<g id=\"node2\" class=\"node\">\n<title>petal length (cm)</title>\n<ellipse fill=\"none\" stroke=\"#000000\" cx=\"73.4435\" cy=\"-18\" rx=\"73.387\" ry=\"18\"/>\n<text text-anchor=\"middle\" x=\"73.4435\" y=\"-14.3\" font-family=\"Times,serif\" font-size=\"14.00\" fill=\"#000000\">petal length (cm)</text>\n</g>\n<!-- petal width (cm)&#45;&gt;petal length (cm) -->\n<g id=\"edge1\" class=\"edge\">\n<title>petal width (cm)&#45;&gt;petal length (cm)</title>\n<path fill=\"none\" stroke=\"#000000\" d=\"M148.9819,-72.937C136.0076,-63.5012 119.697,-51.6389 105.5554,-41.3541\"/>\n<polygon fill=\"#000000\" stroke=\"#000000\" points=\"107.2258,-38.2412 97.0798,-35.19 103.1085,-43.9024 107.2258,-38.2412\"/>\n</g>\n<!-- sepal width (cm) -->\n<g id=\"node3\" class=\"node\">\n<title>sepal width (cm)</title>\n<ellipse fill=\"none\" stroke=\"#000000\" cx=\"237.4435\" cy=\"-18\" rx=\"72.5877\" ry=\"18\"/>\n<text text-anchor=\"middle\" x=\"237.4435\" y=\"-14.3\" font-family=\"Times,serif\" font-size=\"14.00\" fill=\"#000000\">sepal width (cm)</text>\n</g>\n<!-- petal width (cm)&#45;&gt;sepal width (cm) -->\n<g id=\"edge2\" class=\"edge\">\n<title>petal width (cm)&#45;&gt;sepal width (cm)</title>\n<path fill=\"none\" stroke=\"#000000\" d=\"M188.5109,-72.2022C196.3822,-63.4832 205.9988,-52.8311 214.6168,-43.2849\"/>\n<polygon fill=\"#000000\" stroke=\"#000000\" points=\"217.4578,-45.3611 221.5609,-35.593 212.2619,-40.6704 217.4578,-45.3611\"/>\n</g>\n<!-- Type -->\n<g id=\"node4\" class=\"node\">\n<title>Type</title>\n<ellipse fill=\"none\" stroke=\"#000000\" cx=\"172.4435\" cy=\"-162\" rx=\"29.795\" ry=\"18\"/>\n<text text-anchor=\"middle\" x=\"172.4435\" y=\"-158.3\" font-family=\"Times,serif\" font-size=\"14.00\" fill=\"#000000\">Type</text>\n</g>\n<!-- Type&#45;&gt;petal width (cm) -->\n<g id=\"edge3\" class=\"edge\">\n<title>Type&#45;&gt;petal width (cm)</title>\n<path fill=\"none\" stroke=\"#000000\" d=\"M172.4435,-143.8314C172.4435,-136.131 172.4435,-126.9743 172.4435,-118.4166\"/>\n<polygon fill=\"#000000\" stroke=\"#000000\" points=\"175.9436,-118.4132 172.4435,-108.4133 168.9436,-118.4133 175.9436,-118.4132\"/>\n</g>\n<!-- Type&#45;&gt;petal length (cm) -->\n<g id=\"edge5\" class=\"edge\">\n<title>Type&#45;&gt;petal length (cm)</title>\n<path fill=\"none\" stroke=\"#000000\" d=\"M147.6426,-151.5298C129.5475,-142.6001 105.9195,-128.0162 92.4435,-108 80.1595,-89.7545 75.5938,-65.0897 73.9969,-46.1946\"/>\n<polygon fill=\"#000000\" stroke=\"#000000\" points=\"77.4833,-45.8644 73.3743,-36.0988 70.4966,-46.2953 77.4833,-45.8644\"/>\n</g>\n<!-- sepal length (cm) -->\n<g id=\"node5\" class=\"node\">\n<title>sepal length (cm)</title>\n<ellipse fill=\"none\" stroke=\"#000000\" cx=\"336.4435\" cy=\"-90\" rx=\"74.9875\" ry=\"18\"/>\n<text text-anchor=\"middle\" x=\"336.4435\" y=\"-86.3\" font-family=\"Times,serif\" font-size=\"14.00\" fill=\"#000000\">sepal length (cm)</text>\n</g>\n<!-- Type&#45;&gt;sepal length (cm) -->\n<g id=\"edge4\" class=\"edge\">\n<title>Type&#45;&gt;sepal length (cm)</title>\n<path fill=\"none\" stroke=\"#000000\" d=\"M196.6422,-151.3762C221.4316,-140.493 260.5605,-123.3145 291.125,-109.8959\"/>\n<polygon fill=\"#000000\" stroke=\"#000000\" points=\"292.5608,-113.0881 300.3103,-105.8634 289.7468,-106.6786 292.5608,-113.0881\"/>\n</g>\n</g>\n</svg>\n"
          },
          "metadata": {
            "tags": []
          },
          "execution_count": 116
        }
      ]
    },
    {
      "cell_type": "code",
      "metadata": {
        "id": "6hVlQ1b-9Mfp",
        "colab_type": "code",
        "outputId": "700aff4c-fc5b-4df1-a52e-1eeb9d444fb7",
        "colab": {
          "base_uri": "https://localhost:8080/",
          "height": 4606
        }
      },
      "source": [
        "from pgmpy.estimators import BayesianEstimator\n",
        "\n",
        "#est = BayesianEstimator(model, data)\n",
        "\n",
        "best_model.fit(df, estimator=BayesianEstimator, prior_type=\"BDeu\") \n",
        "\n",
        "for cpd in best_model.get_cpds():\n",
        "  print(cpd)"
      ],
      "execution_count": 0,
      "outputs": [
        {
          "output_type": "stream",
          "text": [
            "WARNING:root:Replacing existing CPD for sepal length (cm)\n",
            "WARNING:root:Replacing existing CPD for sepal width (cm)\n",
            "WARNING:root:Replacing existing CPD for petal length (cm)\n",
            "WARNING:root:Replacing existing CPD for petal width (cm)\n",
            "WARNING:root:Replacing existing CPD for Type\n"
          ],
          "name": "stderr"
        },
        {
          "output_type": "stream",
          "text": [
            "+------------------------+-----------------------+-----------------------+-----------------------+\n",
            "| Type                   | Type(0)               | Type(1)               | Type(2)               |\n",
            "+------------------------+-----------------------+-----------------------+-----------------------+\n",
            "| sepal length (cm)(4.3) | 0.0202764976958525    | 0.0009216589861751143 | 0.0009216589861751146 |\n",
            "+------------------------+-----------------------+-----------------------+-----------------------+\n",
            "| sepal length (cm)(4.4) | 0.05898617511520727   | 0.0009216589861751143 | 0.0009216589861751146 |\n",
            "+------------------------+-----------------------+-----------------------+-----------------------+\n",
            "| sepal length (cm)(4.5) | 0.0202764976958525    | 0.0009216589861751143 | 0.0009216589861751146 |\n",
            "+------------------------+-----------------------+-----------------------+-----------------------+\n",
            "| sepal length (cm)(4.6) | 0.07834101382488465   | 0.0009216589861751143 | 0.0009216589861751146 |\n",
            "+------------------------+-----------------------+-----------------------+-----------------------+\n",
            "| sepal length (cm)(4.7) | 0.039631336405529884  | 0.0009216589861751143 | 0.0009216589861751146 |\n",
            "+------------------------+-----------------------+-----------------------+-----------------------+\n",
            "| sepal length (cm)(4.8) | 0.09769585253456203   | 0.0009216589861751143 | 0.0009216589861751146 |\n",
            "+------------------------+-----------------------+-----------------------+-----------------------+\n",
            "| sepal length (cm)(4.9) | 0.07834101382488465   | 0.020276497695852515  | 0.020276497695852522  |\n",
            "+------------------------+-----------------------+-----------------------+-----------------------+\n",
            "| sepal length (cm)(5.0) | 0.1557603686635942    | 0.03963133640552991   | 0.0009216589861751146 |\n",
            "+------------------------+-----------------------+-----------------------+-----------------------+\n",
            "| sepal length (cm)(5.1) | 0.1557603686635942    | 0.020276497695852515  | 0.0009216589861751146 |\n",
            "+------------------------+-----------------------+-----------------------+-----------------------+\n",
            "| sepal length (cm)(5.2) | 0.05898617511520727   | 0.020276497695852515  | 0.0009216589861751146 |\n",
            "+------------------------+-----------------------+-----------------------+-----------------------+\n",
            "| sepal length (cm)(5.3) | 0.0202764976958525    | 0.0009216589861751143 | 0.0009216589861751146 |\n",
            "+------------------------+-----------------------+-----------------------+-----------------------+\n",
            "| sepal length (cm)(5.4) | 0.09769585253456203   | 0.020276497695852515  | 0.0009216589861751146 |\n",
            "+------------------------+-----------------------+-----------------------+-----------------------+\n",
            "| sepal length (cm)(5.5) | 0.039631336405529884  | 0.09769585253456212   | 0.0009216589861751146 |\n",
            "+------------------------+-----------------------+-----------------------+-----------------------+\n",
            "| sepal length (cm)(5.6) | 0.0009216589861751136 | 0.09769585253456212   | 0.020276497695852522  |\n",
            "+------------------------+-----------------------+-----------------------+-----------------------+\n",
            "| sepal length (cm)(5.7) | 0.039631336405529884  | 0.09769585253456212   | 0.020276497695852522  |\n",
            "+------------------------+-----------------------+-----------------------+-----------------------+\n",
            "| sepal length (cm)(5.8) | 0.0202764976958525    | 0.05898617511520732   | 0.05898617511520733   |\n",
            "+------------------------+-----------------------+-----------------------+-----------------------+\n",
            "| sepal length (cm)(5.9) | 0.0009216589861751136 | 0.03963133640552991   | 0.020276497695852522  |\n",
            "+------------------------+-----------------------+-----------------------+-----------------------+\n",
            "| sepal length (cm)(6.0) | 0.0009216589861751136 | 0.07834101382488472   | 0.039631336405529925  |\n",
            "+------------------------+-----------------------+-----------------------+-----------------------+\n",
            "| sepal length (cm)(6.1) | 0.0009216589861751136 | 0.07834101382488472   | 0.039631336405529925  |\n",
            "+------------------------+-----------------------+-----------------------+-----------------------+\n",
            "| sepal length (cm)(6.2) | 0.0009216589861751136 | 0.03963133640552991   | 0.039631336405529925  |\n",
            "+------------------------+-----------------------+-----------------------+-----------------------+\n",
            "| sepal length (cm)(6.3) | 0.0009216589861751136 | 0.05898617511520732   | 0.11705069124423956   |\n",
            "+------------------------+-----------------------+-----------------------+-----------------------+\n",
            "| sepal length (cm)(6.4) | 0.0009216589861751136 | 0.03963133640552991   | 0.09769585253456214   |\n",
            "+------------------------+-----------------------+-----------------------+-----------------------+\n",
            "| sepal length (cm)(6.5) | 0.0009216589861751136 | 0.020276497695852515  | 0.07834101382488474   |\n",
            "+------------------------+-----------------------+-----------------------+-----------------------+\n",
            "| sepal length (cm)(6.6) | 0.0009216589861751136 | 0.03963133640552991   | 0.0009216589861751146 |\n",
            "+------------------------+-----------------------+-----------------------+-----------------------+\n",
            "| sepal length (cm)(6.7) | 0.0009216589861751136 | 0.05898617511520732   | 0.09769585253456214   |\n",
            "+------------------------+-----------------------+-----------------------+-----------------------+\n",
            "| sepal length (cm)(6.8) | 0.0009216589861751136 | 0.020276497695852515  | 0.039631336405529925  |\n",
            "+------------------------+-----------------------+-----------------------+-----------------------+\n",
            "| sepal length (cm)(6.9) | 0.0009216589861751136 | 0.020276497695852515  | 0.05898617511520733   |\n",
            "+------------------------+-----------------------+-----------------------+-----------------------+\n",
            "| sepal length (cm)(7.0) | 0.0009216589861751136 | 0.020276497695852515  | 0.0009216589861751146 |\n",
            "+------------------------+-----------------------+-----------------------+-----------------------+\n",
            "| sepal length (cm)(7.1) | 0.0009216589861751136 | 0.0009216589861751143 | 0.020276497695852522  |\n",
            "+------------------------+-----------------------+-----------------------+-----------------------+\n",
            "| sepal length (cm)(7.2) | 0.0009216589861751136 | 0.0009216589861751143 | 0.05898617511520733   |\n",
            "+------------------------+-----------------------+-----------------------+-----------------------+\n",
            "| sepal length (cm)(7.3) | 0.0009216589861751136 | 0.0009216589861751143 | 0.020276497695852522  |\n",
            "+------------------------+-----------------------+-----------------------+-----------------------+\n",
            "| sepal length (cm)(7.4) | 0.0009216589861751136 | 0.0009216589861751143 | 0.020276497695852522  |\n",
            "+------------------------+-----------------------+-----------------------+-----------------------+\n",
            "| sepal length (cm)(7.6) | 0.0009216589861751136 | 0.0009216589861751143 | 0.020276497695852522  |\n",
            "+------------------------+-----------------------+-----------------------+-----------------------+\n",
            "| sepal length (cm)(7.7) | 0.0009216589861751136 | 0.0009216589861751143 | 0.07834101382488474   |\n",
            "+------------------------+-----------------------+-----------------------+-----------------------+\n",
            "| sepal length (cm)(7.9) | 0.0009216589861751136 | 0.0009216589861751143 | 0.020276497695852522  |\n",
            "+------------------------+-----------------------+-----------------------+-----------------------+\n",
            "+-----------------------+-----------------------+------------------------+-----------------------+-----------------------+-----------------------+-----------------------+-----------------------+-----------------------+-----------------------+-----------------------+-----------------------+-----------------------+-----------------------+-----------------------+-----------------------+-----------------------+-----------------------+-----------------------+-----------------------+-----------------------+-----------------------+-----------------------+\n",
            "| petal width (cm)      | petal width (cm)(0.1) | petal width (cm)(0.2)  | petal width (cm)(0.3) | petal width (cm)(0.4) | petal width (cm)(0.5) | petal width (cm)(0.6) | petal width (cm)(1.0) | petal width (cm)(1.1) | petal width (cm)(1.2) | petal width (cm)(1.3) | petal width (cm)(1.4) | petal width (cm)(1.5) | petal width (cm)(1.6) | petal width (cm)(1.7) | petal width (cm)(1.8) | petal width (cm)(1.9) | petal width (cm)(2.0) | petal width (cm)(2.1) | petal width (cm)(2.2) | petal width (cm)(2.3) | petal width (cm)(2.4) | petal width (cm)(2.5) |\n",
            "+-----------------------+-----------------------+------------------------+-----------------------+-----------------------+-----------------------+-----------------------+-----------------------+-----------------------+-----------------------+-----------------------+-----------------------+-----------------------+-----------------------+-----------------------+-----------------------+-----------------------+-----------------------+-----------------------+-----------------------+-----------------------+-----------------------+-----------------------+\n",
            "| sepal width (cm)(2.0) | 0.0018903591682419654 | 0.00033808912029210887 | 0.0013672409078479624 | 0.0013672409078479626 | 0.00805152979066023   | 0.008051529790660228  | 0.13973202078206173   | 0.0030618493570116322 | 0.001890359168241965  | 0.0007470491558344545 | 0.0012010569300984879 | 0.0008081461128171979 | 0.002337540906965871  | 0.004436557231588284  | 0.000808146112817198  | 0.001890359168241965  | 0.0015867978419549344 | 0.0015867978419549344 | 0.003061849357011633  | 0.0012010569300984876 | 0.003061849357011633  | 0.003061849357011633  |\n",
            "+-----------------------+-----------------------+------------------------+-----------------------+-----------------------+-----------------------+-----------------------+-----------------------+-----------------------+-----------------------+-----------------------+-----------------------+-----------------------+-----------------------+-----------------------+-----------------------+-----------------------+-----------------------+-----------------------+-----------------------+-----------------------+-----------------------+-----------------------+\n",
            "| sepal width (cm)(2.2) | 0.0018903591682419654 | 0.00033808912029210887 | 0.0013672409078479624 | 0.0013672409078479626 | 0.00805152979066023   | 0.008051529790660228  | 0.13973202078206173   | 0.0030618493570116322 | 0.001890359168241965  | 0.0007470491558344545 | 0.0012010569300984879 | 0.16437691934701806   | 0.002337540906965871  | 0.004436557231588284  | 0.000808146112817198  | 0.001890359168241965  | 0.0015867978419549344 | 0.0015867978419549344 | 0.003061849357011633  | 0.0012010569300984876 | 0.003061849357011633  | 0.003061849357011633  |\n",
            "+-----------------------+-----------------------+------------------------+-----------------------+-----------------------+-----------------------+-----------------------+-----------------------+-----------------------+-----------------------+-----------------------+-----------------------+-----------------------+-----------------------+-----------------------+-----------------------+-----------------------+-----------------------+-----------------------+-----------------------+-----------------------+-----------------------+-----------------------+\n",
            "| sepal width (cm)(2.3) | 0.0018903591682419654 | 0.00033808912029210887 | 0.13973202078206176   | 0.0013672409078479626 | 0.00805152979066023   | 0.008051529790660228  | 0.13973202078206173   | 0.0030618493570116322 | 0.001890359168241965  | 0.15194979829672806   | 0.0012010569300984879 | 0.0008081461128171979 | 0.002337540906965871  | 0.004436557231588284  | 0.000808146112817198  | 0.001890359168241965  | 0.0015867978419549344 | 0.0015867978419549344 | 0.003061849357011633  | 0.0012010569300984876 | 0.003061849357011633  | 0.003061849357011633  |\n",
            "+-----------------------+-----------------------+------------------------+-----------------------+-----------------------+-----------------------+-----------------------+-----------------------+-----------------------+-----------------------+-----------------------+-----------------------+-----------------------+-----------------------+-----------------------+-----------------------+-----------------------+-----------------------+-----------------------+-----------------------+-----------------------+-----------------------+-----------------------+\n",
            "| sepal width (cm)(2.4) | 0.0018903591682419654 | 0.00033808912029210887 | 0.0013672409078479624 | 0.0013672409078479626 | 0.00805152979066023   | 0.008051529790660228  | 0.27809680065627557   | 0.3129210042865888    | 0.001890359168241965  | 0.0007470491558344545 | 0.0012010569300984879 | 0.0008081461128171979 | 0.002337540906965871  | 0.004436557231588284  | 0.000808146112817198  | 0.001890359168241965  | 0.0015867978419549344 | 0.0015867978419549344 | 0.003061849357011633  | 0.0012010569300984876 | 0.003061849357011633  | 0.003061849357011633  |\n",
            "+-----------------------+-----------------------+------------------------+-----------------------+-----------------------+-----------------------+-----------------------+-----------------------+-----------------------+-----------------------+-----------------------+-----------------------+-----------------------+-----------------------+-----------------------+-----------------------+-----------------------+-----------------------+-----------------------+-----------------------+-----------------------+-----------------------+-----------------------+\n",
            "| sepal width (cm)(2.5) | 0.0018903591682419654 | 0.00033808912029210887 | 0.0013672409078479624 | 0.0013672409078479626 | 0.00805152979066023   | 0.008051529790660228  | 0.0013672409078479622 | 0.622780159216166     | 0.001890359168241965  | 0.07634842372628124   | 0.0012010569300984879 | 0.08259253272991762   | 0.002337540906965871  | 0.45341614906832256   | 0.08259253272991762   | 0.1931947069943288    | 0.16217073944779428   | 0.0015867978419549344 | 0.003061849357011633  | 0.0012010569300984876 | 0.003061849357011633  | 0.003061849357011633  |\n",
            "+-----------------------+-----------------------+------------------------+-----------------------+-----------------------+-----------------------+-----------------------+-----------------------+-----------------------+-----------------------+-----------------------+-----------------------+-----------------------+-----------------------+-----------------------+-----------------------+-----------------------+-----------------------+-----------------------+-----------------------+-----------------------+-----------------------+-----------------------+\n",
            "| sepal width (cm)(2.6) | 0.0018903591682419654 | 0.00033808912029210887 | 0.0013672409078479624 | 0.0013672409078479626 | 0.00805152979066023   | 0.008051529790660228  | 0.13973202078206173   | 0.0030618493570116322 | 0.3844990548204157    | 0.0007470491558344545 | 0.12274801825606545   | 0.0008081461128171979 | 0.002337540906965871  | 0.004436557231588284  | 0.000808146112817198  | 0.001890359168241965  | 0.0015867978419549344 | 0.0015867978419549344 | 0.003061849357011633  | 0.12274801825606542   | 0.003061849357011633  | 0.003061849357011633  |\n",
            "+-----------------------+-----------------------+------------------------+-----------------------+-----------------------+-----------------------+-----------------------+-----------------------+-----------------------+-----------------------+-----------------------+-----------------------+-----------------------+-----------------------+-----------------------+-----------------------+-----------------------+-----------------------+-----------------------+-----------------------+-----------------------+-----------------------+-----------------------+\n",
            "| sepal width (cm)(2.7) | 0.0018903591682419654 | 0.00033808912029210887 | 0.0013672409078479624 | 0.0013672409078479626 | 0.00805152979066023   | 0.008051529790660228  | 0.13973202078206173   | 0.0030618493570116322 | 0.1931947069943288    | 0.07634842372628124   | 0.12274801825606545   | 0.0008081461128171979 | 0.23889668069191197   | 0.004436557231588284  | 0.08259253272991762   | 0.5758034026465025    | 0.0015867978419549344 | 0.0015867978419549344 | 0.003061849357011633  | 0.0012010569300984876 | 0.003061849357011633  | 0.003061849357011633  |\n",
            "+-----------------------+-----------------------+------------------------+-----------------------+-----------------------+-----------------------+-----------------------+-----------------------+-----------------------+-----------------------+-----------------------+-----------------------+-----------------------+-----------------------+-----------------------+-----------------------+-----------------------+-----------------------+-----------------------+-----------------------+-----------------------+-----------------------+-----------------------+\n",
            "| sepal width (cm)(2.8) | 0.0018903591682419654 | 0.00033808912029210887 | 0.0013672409078479624 | 0.0013672409078479626 | 0.00805152979066023   | 0.008051529790660228  | 0.0013672409078479622 | 0.0030618493570116322 | 0.1931947069943288    | 0.22755117286717483   | 0.12274801825606545   | 0.16437691934701806   | 0.002337540906965871  | 0.004436557231588284  | 0.08259253272991762   | 0.1931947069943288    | 0.3227546810536337    | 0.16217073944779428   | 0.31292100428658887   | 0.0012010569300984876 | 0.31292100428658887   | 0.003061849357011633  |\n",
            "+-----------------------+-----------------------+------------------------+-----------------------+-----------------------+-----------------------+-----------------------+-----------------------+-----------------------+-----------------------+-----------------------+-----------------------+-----------------------+-----------------------+-----------------------+-----------------------+-----------------------+-----------------------+-----------------------+-----------------------+-----------------------+-----------------------+-----------------------+\n",
            "| sepal width (cm)(2.9) | 0.0018903591682419654 | 0.034552708093853524   | 0.0013672409078479624 | 0.0013672409078479626 | 0.00805152979066023   | 0.008051529790660228  | 0.0013672409078479622 | 0.0030618493570116322 | 0.001890359168241965  | 0.3787539220080684    | 0.12274801825606545   | 0.08259253272991762   | 0.002337540906965871  | 0.004436557231588284  | 0.1643769193470181    | 0.001890359168241965  | 0.0015867978419549344 | 0.0015867978419549344 | 0.003061849357011633  | 0.0012010569300984876 | 0.003061849357011633  | 0.003061849357011633  |\n",
            "+-----------------------+-----------------------+------------------------+-----------------------+-----------------------+-----------------------+-----------------------+-----------------------+-----------------------+-----------------------+-----------------------+-----------------------+-----------------------+-----------------------+-----------------------+-----------------------+-----------------------+-----------------------+-----------------------+-----------------------+-----------------------+-----------------------+-----------------------+\n",
            "| sepal width (cm)(3.0) | 0.38449905482041574   | 0.10298194604097637    | 0.13973202078206176   | 0.0013672409078479626 | 0.00805152979066023   | 0.008051529790660228  | 0.0013672409078479622 | 0.0030618493570116322 | 0.1931947069943288    | 0.07634842372628124   | 0.24429497958203245   | 0.24616130596411848   | 0.23889668069191197   | 0.45341614906832256   | 0.327945692581219     | 0.001890359168241965  | 0.16217073944779428   | 0.483338622659473     | 0.31292100428658887   | 0.2442949795820324    | 0.003061849357011633  | 0.003061849357011633  |\n",
            "+-----------------------+-----------------------+------------------------+-----------------------+-----------------------+-----------------------+-----------------------+-----------------------+-----------------------+-----------------------+-----------------------+-----------------------+-----------------------+-----------------------+-----------------------+-----------------------+-----------------------+-----------------------+-----------------------+-----------------------+-----------------------+-----------------------+-----------------------+\n",
            "| sepal width (cm)(3.1) | 0.19319470699432884   | 0.10298194604097637    | 0.0013672409078479624 | 0.0013672409078479626 | 0.00805152979066023   | 0.008051529790660228  | 0.0013672409078479622 | 0.0030618493570116322 | 0.001890359168241965  | 0.0007470491558344545 | 0.12274801825606545   | 0.16437691934701806   | 0.002337540906965871  | 0.004436557231588284  | 0.08259253272991762   | 0.001890359168241965  | 0.0015867978419549344 | 0.16217073944779428   | 0.003061849357011633  | 0.12274801825606542   | 0.31292100428658887   | 0.003061849357011633  |\n",
            "+-----------------------+-----------------------+------------------------+-----------------------+-----------------------+-----------------------+-----------------------+-----------------------+-----------------------+-----------------------+-----------------------+-----------------------+-----------------------+-----------------------+-----------------------+-----------------------+-----------------------+-----------------------+-----------------------+-----------------------+-----------------------+-----------------------+-----------------------+\n",
            "| sepal width (cm)(3.2) | 0.0018903591682419654 | 0.1714111839880992     | 0.0013672409078479624 | 0.0013672409078479626 | 0.00805152979066023   | 0.008051529790660228  | 0.0013672409078479622 | 0.0030618493570116322 | 0.001890359168241965  | 0.0007470491558344545 | 0.12274801825606545   | 0.08259253272991762   | 0.002337540906965871  | 0.004436557231588284  | 0.1643769193470181    | 0.001890359168241965  | 0.16217073944779428   | 0.0015867978419549344 | 0.003061849357011633  | 0.3658419409079993    | 0.003061849357011633  | 0.003061849357011633  |\n",
            "+-----------------------+-----------------------+------------------------+-----------------------+-----------------------+-----------------------+-----------------------+-----------------------+-----------------------+-----------------------+-----------------------+-----------------------+-----------------------+-----------------------+-----------------------+-----------------------+-----------------------+-----------------------+-----------------------+-----------------------+-----------------------+-----------------------+-----------------------+\n",
            "| sepal width (cm)(3.3) | 0.0018903591682419654 | 0.034552708093853524   | 0.0013672409078479624 | 0.0013672409078479626 | 0.8228663446054755    | 0.008051529790660228  | 0.0013672409078479622 | 0.0030618493570116322 | 0.001890359168241965  | 0.0007470491558344545 | 0.0012010569300984879 | 0.0008081461128171979 | 0.23889668069191197   | 0.004436557231588284  | 0.000808146112817198  | 0.001890359168241965  | 0.0015867978419549344 | 0.16217073944779428   | 0.003061849357011633  | 0.0012010569300984876 | 0.003061849357011633  | 0.6227801592161663    |\n",
            "+-----------------------+-----------------------+------------------------+-----------------------+-----------------------+-----------------------+-----------------------+-----------------------+-----------------------+-----------------------+-----------------------+-----------------------+-----------------------+-----------------------+-----------------------+-----------------------+-----------------------+-----------------------+-----------------------+-----------------------+-----------------------+-----------------------+-----------------------+\n",
            "| sepal width (cm)(3.4) | 0.0018903591682419654 | 0.20562580296166064    | 0.13973202078206176   | 0.2780968006562756    | 0.00805152979066023   | 0.008051529790660228  | 0.0013672409078479622 | 0.0030618493570116322 | 0.001890359168241965  | 0.0007470491558344545 | 0.0012010569300984879 | 0.0008081461128171979 | 0.23889668069191197   | 0.004436557231588284  | 0.000808146112817198  | 0.001890359168241965  | 0.0015867978419549344 | 0.0015867978419549344 | 0.003061849357011633  | 0.12274801825606542   | 0.31292100428658887   | 0.003061849357011633  |\n",
            "+-----------------------+-----------------------+------------------------+-----------------------+-----------------------+-----------------------+-----------------------+-----------------------+-----------------------+-----------------------+-----------------------+-----------------------+-----------------------+-----------------------+-----------------------+-----------------------+-----------------------+-----------------------+-----------------------+-----------------------+-----------------------+-----------------------+-----------------------+\n",
            "| sepal width (cm)(3.5) | 0.0018903591682419654 | 0.10298194604097637    | 0.27809680065627557   | 0.0013672409078479626 | 0.00805152979066023   | 0.8228663446054753    | 0.0013672409078479622 | 0.0030618493570116322 | 0.001890359168241965  | 0.0007470491558344545 | 0.0012010569300984879 | 0.0008081461128171979 | 0.002337540906965871  | 0.004436557231588284  | 0.000808146112817198  | 0.001890359168241965  | 0.0015867978419549344 | 0.0015867978419549344 | 0.003061849357011633  | 0.0012010569300984876 | 0.003061849357011633  | 0.003061849357011633  |\n",
            "+-----------------------+-----------------------+------------------------+-----------------------+-----------------------+-----------------------+-----------------------+-----------------------+-----------------------+-----------------------+-----------------------+-----------------------+-----------------------+-----------------------+-----------------------+-----------------------+-----------------------+-----------------------+-----------------------+-----------------------+-----------------------+-----------------------+-----------------------+\n",
            "| sepal width (cm)(3.6) | 0.19319470699432884   | 0.06876732706741495    | 0.0013672409078479624 | 0.0013672409078479626 | 0.00805152979066023   | 0.008051529790660228  | 0.0013672409078479622 | 0.0030618493570116322 | 0.001890359168241965  | 0.0007470491558344545 | 0.0012010569300984879 | 0.0008081461128171979 | 0.002337540906965871  | 0.004436557231588284  | 0.000808146112817198  | 0.001890359168241965  | 0.0015867978419549344 | 0.0015867978419549344 | 0.003061849357011633  | 0.0012010569300984876 | 0.003061849357011633  | 0.31292100428658887   |\n",
            "+-----------------------+-----------------------+------------------------+-----------------------+-----------------------+-----------------------+-----------------------+-----------------------+-----------------------+-----------------------+-----------------------+-----------------------+-----------------------+-----------------------+-----------------------+-----------------------+-----------------------+-----------------------+-----------------------+-----------------------+-----------------------+-----------------------+-----------------------+\n",
            "| sepal width (cm)(3.7) | 0.0018903591682419654 | 0.06876732706741495    | 0.0013672409078479624 | 0.13973202078206176   | 0.00805152979066023   | 0.008051529790660228  | 0.0013672409078479622 | 0.0030618493570116322 | 0.001890359168241965  | 0.0007470491558344545 | 0.0012010569300984879 | 0.0008081461128171979 | 0.002337540906965871  | 0.004436557231588284  | 0.000808146112817198  | 0.001890359168241965  | 0.0015867978419549344 | 0.0015867978419549344 | 0.003061849357011633  | 0.0012010569300984876 | 0.003061849357011633  | 0.003061849357011633  |\n",
            "+-----------------------+-----------------------+------------------------+-----------------------+-----------------------+-----------------------+-----------------------+-----------------------+-----------------------+-----------------------+-----------------------+-----------------------+-----------------------+-----------------------+-----------------------+-----------------------+-----------------------+-----------------------+-----------------------+-----------------------+-----------------------+-----------------------+-----------------------+\n",
            "| sepal width (cm)(3.8) | 0.0018903591682419654 | 0.034552708093853524   | 0.27809680065627557   | 0.13973202078206176   | 0.00805152979066023   | 0.008051529790660228  | 0.0013672409078479622 | 0.0030618493570116322 | 0.001890359168241965  | 0.0007470491558344545 | 0.0012010569300984879 | 0.0008081461128171979 | 0.002337540906965871  | 0.004436557231588284  | 0.000808146112817198  | 0.001890359168241965  | 0.16217073944779428   | 0.0015867978419549344 | 0.31292100428658887   | 0.0012010569300984876 | 0.003061849357011633  | 0.003061849357011633  |\n",
            "+-----------------------+-----------------------+------------------------+-----------------------+-----------------------+-----------------------+-----------------------+-----------------------+-----------------------+-----------------------+-----------------------+-----------------------+-----------------------+-----------------------+-----------------------+-----------------------+-----------------------+-----------------------+-----------------------+-----------------------+-----------------------+-----------------------+-----------------------+\n",
            "| sepal width (cm)(3.9) | 0.0018903591682419654 | 0.00033808912029210887 | 0.0013672409078479624 | 0.2780968006562756    | 0.00805152979066023   | 0.008051529790660228  | 0.0013672409078479622 | 0.0030618493570116322 | 0.001890359168241965  | 0.0007470491558344545 | 0.0012010569300984879 | 0.0008081461128171979 | 0.002337540906965871  | 0.004436557231588284  | 0.000808146112817198  | 0.001890359168241965  | 0.0015867978419549344 | 0.0015867978419549344 | 0.003061849357011633  | 0.0012010569300984876 | 0.003061849357011633  | 0.003061849357011633  |\n",
            "+-----------------------+-----------------------+------------------------+-----------------------+-----------------------+-----------------------+-----------------------+-----------------------+-----------------------+-----------------------+-----------------------+-----------------------+-----------------------+-----------------------+-----------------------+-----------------------+-----------------------+-----------------------+-----------------------+-----------------------+-----------------------+-----------------------+-----------------------+\n",
            "| sepal width (cm)(4.0) | 0.0018903591682419654 | 0.034552708093853524   | 0.0013672409078479624 | 0.0013672409078479626 | 0.00805152979066023   | 0.008051529790660228  | 0.0013672409078479622 | 0.0030618493570116322 | 0.001890359168241965  | 0.0007470491558344545 | 0.0012010569300984879 | 0.0008081461128171979 | 0.002337540906965871  | 0.004436557231588284  | 0.000808146112817198  | 0.001890359168241965  | 0.0015867978419549344 | 0.0015867978419549344 | 0.003061849357011633  | 0.0012010569300984876 | 0.003061849357011633  | 0.003061849357011633  |\n",
            "+-----------------------+-----------------------+------------------------+-----------------------+-----------------------+-----------------------+-----------------------+-----------------------+-----------------------+-----------------------+-----------------------+-----------------------+-----------------------+-----------------------+-----------------------+-----------------------+-----------------------+-----------------------+-----------------------+-----------------------+-----------------------+-----------------------+-----------------------+\n",
            "| sepal width (cm)(4.1) | 0.19319470699432884   | 0.00033808912029210887 | 0.0013672409078479624 | 0.0013672409078479626 | 0.00805152979066023   | 0.008051529790660228  | 0.0013672409078479622 | 0.0030618493570116322 | 0.001890359168241965  | 0.0007470491558344545 | 0.0012010569300984879 | 0.0008081461128171979 | 0.002337540906965871  | 0.004436557231588284  | 0.000808146112817198  | 0.001890359168241965  | 0.0015867978419549344 | 0.0015867978419549344 | 0.003061849357011633  | 0.0012010569300984876 | 0.003061849357011633  | 0.003061849357011633  |\n",
            "+-----------------------+-----------------------+------------------------+-----------------------+-----------------------+-----------------------+-----------------------+-----------------------+-----------------------+-----------------------+-----------------------+-----------------------+-----------------------+-----------------------+-----------------------+-----------------------+-----------------------+-----------------------+-----------------------+-----------------------+-----------------------+-----------------------+-----------------------+\n",
            "| sepal width (cm)(4.2) | 0.0018903591682419654 | 0.034552708093853524   | 0.0013672409078479624 | 0.0013672409078479626 | 0.00805152979066023   | 0.008051529790660228  | 0.0013672409078479622 | 0.0030618493570116322 | 0.001890359168241965  | 0.0007470491558344545 | 0.0012010569300984879 | 0.0008081461128171979 | 0.002337540906965871  | 0.004436557231588284  | 0.000808146112817198  | 0.001890359168241965  | 0.0015867978419549344 | 0.0015867978419549344 | 0.003061849357011633  | 0.0012010569300984876 | 0.003061849357011633  | 0.003061849357011633  |\n",
            "+-----------------------+-----------------------+------------------------+-----------------------+-----------------------+-----------------------+-----------------------+-----------------------+-----------------------+-----------------------+-----------------------+-----------------------+-----------------------+-----------------------+-----------------------+-----------------------+-----------------------+-----------------------+-----------------------+-----------------------+-----------------------+-----------------------+-----------------------+\n",
            "| sepal width (cm)(4.4) | 0.0018903591682419654 | 0.00033808912029210887 | 0.0013672409078479624 | 0.13973202078206176   | 0.00805152979066023   | 0.008051529790660228  | 0.0013672409078479622 | 0.0030618493570116322 | 0.001890359168241965  | 0.0007470491558344545 | 0.0012010569300984879 | 0.0008081461128171979 | 0.002337540906965871  | 0.004436557231588284  | 0.000808146112817198  | 0.001890359168241965  | 0.0015867978419549344 | 0.0015867978419549344 | 0.003061849357011633  | 0.0012010569300984876 | 0.003061849357011633  | 0.003061849357011633  |\n",
            "+-----------------------+-----------------------+------------------------+-----------------------+-----------------------+-----------------------+-----------------------+-----------------------+-----------------------+-----------------------+-----------------------+-----------------------+-----------------------+-----------------------+-----------------------+-----------------------+-----------------------+-----------------------+-----------------------+-----------------------+-----------------------+-----------------------+-----------------------+\n",
            "+------------------------+-----------------------+------------------------+------------------------+------------------------+-----------------------+-----------------------+-----------------------+-----------------------+-----------------------+-----------------------+-----------------------+-----------------------+-----------------------+-----------------------+-----------------------+-----------------------+-----------------------+-----------------------+-----------------------+-----------------------+-----------------------+-----------------------+-----------------------+-----------------------+-----------------------+-----------------------+-----------------------+-----------------------+-----------------------+-----------------------+-----------------------+------------------------+------------------------+------------------------+-----------------------+-----------------------+-----------------------+-----------------------+-----------------------+-----------------------+-----------------------+-----------------------+-----------------------+-----------------------+-----------------------+-----------------------+-----------------------+-----------------------+-----------------------+-----------------------+-----------------------+-----------------------+-----------------------+-----------------------+-----------------------+-----------------------+-----------------------+-----------------------+------------------------+------------------------+------------------------+-----------------------+-----------------------+------------------------+-----------------------+-----------------------+\n",
            "| Type                   | Type(0)               | Type(0)                | Type(0)                | Type(0)                | Type(0)               | Type(0)               | Type(0)               | Type(0)               | Type(0)               | Type(0)               | Type(0)               | Type(0)               | Type(0)               | Type(0)               | Type(0)               | Type(0)               | Type(0)               | Type(0)               | Type(0)               | Type(0)               | Type(0)               | Type(0)               | Type(1)               | Type(1)               | Type(1)               | Type(1)               | Type(1)               | Type(1)               | Type(1)               | Type(1)               | Type(1)               | Type(1)                | Type(1)                | Type(1)                | Type(1)               | Type(1)               | Type(1)               | Type(1)               | Type(1)               | Type(1)               | Type(1)               | Type(1)               | Type(1)               | Type(1)               | Type(2)               | Type(2)               | Type(2)               | Type(2)               | Type(2)               | Type(2)               | Type(2)               | Type(2)               | Type(2)               | Type(2)               | Type(2)               | Type(2)               | Type(2)               | Type(2)               | Type(2)                | Type(2)                | Type(2)                | Type(2)               | Type(2)               | Type(2)                | Type(2)               | Type(2)               |\n",
            "+------------------------+-----------------------+------------------------+------------------------+------------------------+-----------------------+-----------------------+-----------------------+-----------------------+-----------------------+-----------------------+-----------------------+-----------------------+-----------------------+-----------------------+-----------------------+-----------------------+-----------------------+-----------------------+-----------------------+-----------------------+-----------------------+-----------------------+-----------------------+-----------------------+-----------------------+-----------------------+-----------------------+-----------------------+-----------------------+-----------------------+-----------------------+------------------------+------------------------+------------------------+-----------------------+-----------------------+-----------------------+-----------------------+-----------------------+-----------------------+-----------------------+-----------------------+-----------------------+-----------------------+-----------------------+-----------------------+-----------------------+-----------------------+-----------------------+-----------------------+-----------------------+-----------------------+-----------------------+-----------------------+-----------------------+-----------------------+-----------------------+-----------------------+------------------------+------------------------+------------------------+-----------------------+-----------------------+------------------------+-----------------------+-----------------------+\n",
            "| petal width (cm)       | petal width (cm)(0.1) | petal width (cm)(0.2)  | petal width (cm)(0.3)  | petal width (cm)(0.4)  | petal width (cm)(0.5) | petal width (cm)(0.6) | petal width (cm)(1.0) | petal width (cm)(1.1) | petal width (cm)(1.2) | petal width (cm)(1.3) | petal width (cm)(1.4) | petal width (cm)(1.5) | petal width (cm)(1.6) | petal width (cm)(1.7) | petal width (cm)(1.8) | petal width (cm)(1.9) | petal width (cm)(2.0) | petal width (cm)(2.1) | petal width (cm)(2.2) | petal width (cm)(2.3) | petal width (cm)(2.4) | petal width (cm)(2.5) | petal width (cm)(0.1) | petal width (cm)(0.2) | petal width (cm)(0.3) | petal width (cm)(0.4) | petal width (cm)(0.5) | petal width (cm)(0.6) | petal width (cm)(1.0) | petal width (cm)(1.1) | petal width (cm)(1.2) | petal width (cm)(1.3)  | petal width (cm)(1.4)  | petal width (cm)(1.5)  | petal width (cm)(1.6) | petal width (cm)(1.7) | petal width (cm)(1.8) | petal width (cm)(1.9) | petal width (cm)(2.0) | petal width (cm)(2.1) | petal width (cm)(2.2) | petal width (cm)(2.3) | petal width (cm)(2.4) | petal width (cm)(2.5) | petal width (cm)(0.1) | petal width (cm)(0.2) | petal width (cm)(0.3) | petal width (cm)(0.4) | petal width (cm)(0.5) | petal width (cm)(0.6) | petal width (cm)(1.0) | petal width (cm)(1.1) | petal width (cm)(1.2) | petal width (cm)(1.3) | petal width (cm)(1.4) | petal width (cm)(1.5) | petal width (cm)(1.6) | petal width (cm)(1.7) | petal width (cm)(1.8)  | petal width (cm)(1.9)  | petal width (cm)(2.0)  | petal width (cm)(2.1) | petal width (cm)(2.2) | petal width (cm)(2.3)  | petal width (cm)(2.4) | petal width (cm)(2.5) |\n",
            "+------------------------+-----------------------+------------------------+------------------------+------------------------+-----------------------+-----------------------+-----------------------+-----------------------+-----------------------+-----------------------+-----------------------+-----------------------+-----------------------+-----------------------+-----------------------+-----------------------+-----------------------+-----------------------+-----------------------+-----------------------+-----------------------+-----------------------+-----------------------+-----------------------+-----------------------+-----------------------+-----------------------+-----------------------+-----------------------+-----------------------+-----------------------+------------------------+------------------------+------------------------+-----------------------+-----------------------+-----------------------+-----------------------+-----------------------+-----------------------+-----------------------+-----------------------+-----------------------+-----------------------+-----------------------+-----------------------+-----------------------+-----------------------+-----------------------+-----------------------+-----------------------+-----------------------+-----------------------+-----------------------+-----------------------+-----------------------+-----------------------+-----------------------+------------------------+------------------------+------------------------+-----------------------+-----------------------+------------------------+-----------------------+-----------------------+\n",
            "| petal length (cm)(1.0) | 0.0003471017007983345 | 0.03445350655016535    | 0.00024899158408445826 | 0.00024899158408445826 | 0.0016377333770062241 | 0.0016377333770062246 | 0.0232558139534884    | 0.0232558139534884    | 0.0232558139534884    | 0.0232558139534884    | 0.0232558139534884    | 0.0232558139534884    | 0.0232558139534884    | 0.0232558139534884    | 0.0232558139534884    | 0.0232558139534884    | 0.0232558139534884    | 0.0232558139534884    | 0.0232558139534884    | 0.0232558139534884    | 0.0232558139534884    | 0.0232558139534884    | 0.0232558139534884    | 0.0232558139534884    | 0.0232558139534884    | 0.0232558139534884    | 0.0232558139534884    | 0.0232558139534884    | 0.0002489915840844582 | 0.0005728032993470033 | 0.0003471017007983343 | 0.00013473820367026872 | 0.00024899158408445805 | 0.00017485574401119086 | 0.0005728032993470037 | 0.001637733377006224  | 0.001637733377006224  | 0.0232558139534884    | 0.0232558139534884    | 0.0232558139534884    | 0.0232558139534884    | 0.0232558139534884    | 0.0232558139534884    | 0.0232558139534884    | 0.0232558139534884    | 0.0232558139534884    | 0.0232558139534884    | 0.0232558139534884    | 0.0232558139534884    | 0.0232558139534884    | 0.0232558139534884    | 0.0232558139534884    | 0.0232558139534884    | 0.0232558139534884    | 0.001637733377006224  | 0.0008487523340689175 | 0.001637733377006224  | 0.001637733377006224  | 0.00015906849489390136 | 0.00034710170079833407 | 0.00028997274256219933 | 0.0002899727425621993 | 0.0005728032993470041 | 0.00021815960556743322 | 0.0005728032993470039 | 0.0005728032993470041 |\n",
            "+------------------------+-----------------------+------------------------+------------------------+------------------------+-----------------------+-----------------------+-----------------------+-----------------------+-----------------------+-----------------------+-----------------------+-----------------------+-----------------------+-----------------------+-----------------------+-----------------------+-----------------------+-----------------------+-----------------------+-----------------------+-----------------------+-----------------------+-----------------------+-----------------------+-----------------------+-----------------------+-----------------------+-----------------------+-----------------------+-----------------------+-----------------------+------------------------+------------------------+------------------------+-----------------------+-----------------------+-----------------------+-----------------------+-----------------------+-----------------------+-----------------------+-----------------------+-----------------------+-----------------------+-----------------------+-----------------------+-----------------------+-----------------------+-----------------------+-----------------------+-----------------------+-----------------------+-----------------------+-----------------------+-----------------------+-----------------------+-----------------------+-----------------------+------------------------+------------------------+------------------------+-----------------------+-----------------------+------------------------+-----------------------+-----------------------+\n",
            "| petal length (cm)(1.1) | 0.197362027073933     | 6.0593574657343216e-05 | 0.00024899158408445826 | 0.00024899158408445826 | 0.0016377333770062241 | 0.0016377333770062246 | 0.0232558139534884    | 0.0232558139534884    | 0.0232558139534884    | 0.0232558139534884    | 0.0232558139534884    | 0.0232558139534884    | 0.0232558139534884    | 0.0232558139534884    | 0.0232558139534884    | 0.0232558139534884    | 0.0232558139534884    | 0.0232558139534884    | 0.0232558139534884    | 0.0232558139534884    | 0.0232558139534884    | 0.0232558139534884    | 0.0232558139534884    | 0.0232558139534884    | 0.0232558139534884    | 0.0232558139534884    | 0.0232558139534884    | 0.0232558139534884    | 0.0002489915840844582 | 0.0005728032993470033 | 0.0003471017007983343 | 0.00013473820367026872 | 0.00024899158408445805 | 0.00017485574401119086 | 0.0005728032993470037 | 0.001637733377006224  | 0.001637733377006224  | 0.0232558139534884    | 0.0232558139534884    | 0.0232558139534884    | 0.0232558139534884    | 0.0232558139534884    | 0.0232558139534884    | 0.0232558139534884    | 0.0232558139534884    | 0.0232558139534884    | 0.0232558139534884    | 0.0232558139534884    | 0.0232558139534884    | 0.0232558139534884    | 0.0232558139534884    | 0.0232558139534884    | 0.0232558139534884    | 0.0232558139534884    | 0.001637733377006224  | 0.0008487523340689175 | 0.001637733377006224  | 0.001637733377006224  | 0.00015906849489390136 | 0.00034710170079833407 | 0.00028997274256219933 | 0.0002899727425621993 | 0.0005728032993470041 | 0.00021815960556743322 | 0.0005728032993470039 | 0.0005728032993470041 |\n",
            "+------------------------+-----------------------+------------------------+------------------------+------------------------+-----------------------+-----------------------+-----------------------+-----------------------+-----------------------+-----------------------+-----------------------+-----------------------+-----------------------+-----------------------+-----------------------+-----------------------+-----------------------+-----------------------+-----------------------+-----------------------+-----------------------+-----------------------+-----------------------+-----------------------+-----------------------+-----------------------+-----------------------+-----------------------+-----------------------+-----------------------+-----------------------+------------------------+------------------------+------------------------+-----------------------+-----------------------+-----------------------+-----------------------+-----------------------+-----------------------+-----------------------+-----------------------+-----------------------+-----------------------+-----------------------+-----------------------+-----------------------+-----------------------+-----------------------+-----------------------+-----------------------+-----------------------+-----------------------+-----------------------+-----------------------+-----------------------+-----------------------+-----------------------+------------------------+------------------------+------------------------+-----------------------+-----------------------+------------------------+-----------------------+-----------------------+\n",
            "| petal length (cm)(1.2) | 0.0003471017007983345 | 0.06884641952567337    | 0.00024899158408445826 | 0.00024899158408445826 | 0.0016377333770062241 | 0.0016377333770062246 | 0.0232558139534884    | 0.0232558139534884    | 0.0232558139534884    | 0.0232558139534884    | 0.0232558139534884    | 0.0232558139534884    | 0.0232558139534884    | 0.0232558139534884    | 0.0232558139534884    | 0.0232558139534884    | 0.0232558139534884    | 0.0232558139534884    | 0.0232558139534884    | 0.0232558139534884    | 0.0232558139534884    | 0.0232558139534884    | 0.0232558139534884    | 0.0232558139534884    | 0.0232558139534884    | 0.0232558139534884    | 0.0232558139534884    | 0.0232558139534884    | 0.0002489915840844582 | 0.0005728032993470033 | 0.0003471017007983343 | 0.00013473820367026872 | 0.00024899158408445805 | 0.00017485574401119086 | 0.0005728032993470037 | 0.001637733377006224  | 0.001637733377006224  | 0.0232558139534884    | 0.0232558139534884    | 0.0232558139534884    | 0.0232558139534884    | 0.0232558139534884    | 0.0232558139534884    | 0.0232558139534884    | 0.0232558139534884    | 0.0232558139534884    | 0.0232558139534884    | 0.0232558139534884    | 0.0232558139534884    | 0.0232558139534884    | 0.0232558139534884    | 0.0232558139534884    | 0.0232558139534884    | 0.0232558139534884    | 0.001637733377006224  | 0.0008487523340689175 | 0.001637733377006224  | 0.001637733377006224  | 0.00015906849489390136 | 0.00034710170079833407 | 0.00028997274256219933 | 0.0002899727425621993 | 0.0005728032993470041 | 0.00021815960556743322 | 0.0005728032993470039 | 0.0005728032993470041 |\n",
            "+------------------------+-----------------------+------------------------+------------------------+------------------------+-----------------------+-----------------------+-----------------------+-----------------------+-----------------------+-----------------------+-----------------------+-----------------------+-----------------------+-----------------------+-----------------------+-----------------------+-----------------------+-----------------------+-----------------------+-----------------------+-----------------------+-----------------------+-----------------------+-----------------------+-----------------------+-----------------------+-----------------------+-----------------------+-----------------------+-----------------------+-----------------------+------------------------+------------------------+------------------------+-----------------------+-----------------------+-----------------------+-----------------------+-----------------------+-----------------------+-----------------------+-----------------------+-----------------------+-----------------------+-----------------------+-----------------------+-----------------------+-----------------------+-----------------------+-----------------------+-----------------------+-----------------------+-----------------------+-----------------------+-----------------------+-----------------------+-----------------------+-----------------------+------------------------+------------------------+------------------------+-----------------------+-----------------------+------------------------+-----------------------+-----------------------+\n",
            "| petal length (cm)(1.3) | 0.0003471017007983345 | 0.13763224547668937    | 0.2829042378367615     | 0.14157661471042296    | 0.0016377333770062241 | 0.0016377333770062246 | 0.0232558139534884    | 0.0232558139534884    | 0.0232558139534884    | 0.0232558139534884    | 0.0232558139534884    | 0.0232558139534884    | 0.0232558139534884    | 0.0232558139534884    | 0.0232558139534884    | 0.0232558139534884    | 0.0232558139534884    | 0.0232558139534884    | 0.0232558139534884    | 0.0232558139534884    | 0.0232558139534884    | 0.0232558139534884    | 0.0232558139534884    | 0.0232558139534884    | 0.0232558139534884    | 0.0232558139534884    | 0.0232558139534884    | 0.0232558139534884    | 0.0002489915840844582 | 0.0005728032993470033 | 0.0003471017007983343 | 0.00013473820367026872 | 0.00024899158408445805 | 0.00017485574401119086 | 0.0005728032993470037 | 0.001637733377006224  | 0.001637733377006224  | 0.0232558139534884    | 0.0232558139534884    | 0.0232558139534884    | 0.0232558139534884    | 0.0232558139534884    | 0.0232558139534884    | 0.0232558139534884    | 0.0232558139534884    | 0.0232558139534884    | 0.0232558139534884    | 0.0232558139534884    | 0.0232558139534884    | 0.0232558139534884    | 0.0232558139534884    | 0.0232558139534884    | 0.0232558139534884    | 0.0232558139534884    | 0.001637733377006224  | 0.0008487523340689175 | 0.001637733377006224  | 0.001637733377006224  | 0.00015906849489390136 | 0.00034710170079833407 | 0.00028997274256219933 | 0.0002899727425621993 | 0.0005728032993470041 | 0.00021815960556743322 | 0.0005728032993470039 | 0.0005728032993470041 |\n",
            "+------------------------+-----------------------+------------------------+------------------------+------------------------+-----------------------+-----------------------+-----------------------+-----------------------+-----------------------+-----------------------+-----------------------+-----------------------+-----------------------+-----------------------+-----------------------+-----------------------+-----------------------+-----------------------+-----------------------+-----------------------+-----------------------+-----------------------+-----------------------+-----------------------+-----------------------+-----------------------+-----------------------+-----------------------+-----------------------+-----------------------+-----------------------+------------------------+------------------------+------------------------+-----------------------+-----------------------+-----------------------+-----------------------+-----------------------+-----------------------+-----------------------+-----------------------+-----------------------+-----------------------+-----------------------+-----------------------+-----------------------+-----------------------+-----------------------+-----------------------+-----------------------+-----------------------+-----------------------+-----------------------+-----------------------+-----------------------+-----------------------+-----------------------+------------------------+------------------------+------------------------+-----------------------+-----------------------+------------------------+-----------------------+-----------------------+\n",
            "| petal length (cm)(1.4) | 0.3943769524470677    | 0.2752038973787214     | 0.4242318609631        | 0.00024899158408445826 | 0.0016377333770062241 | 0.0016377333770062246 | 0.0232558139534884    | 0.0232558139534884    | 0.0232558139534884    | 0.0232558139534884    | 0.0232558139534884    | 0.0232558139534884    | 0.0232558139534884    | 0.0232558139534884    | 0.0232558139534884    | 0.0232558139534884    | 0.0232558139534884    | 0.0232558139534884    | 0.0232558139534884    | 0.0232558139534884    | 0.0232558139534884    | 0.0232558139534884    | 0.0232558139534884    | 0.0232558139534884    | 0.0232558139534884    | 0.0232558139534884    | 0.0232558139534884    | 0.0232558139534884    | 0.0002489915840844582 | 0.0005728032993470033 | 0.0003471017007983343 | 0.00013473820367026872 | 0.00024899158408445805 | 0.00017485574401119086 | 0.0005728032993470037 | 0.001637733377006224  | 0.001637733377006224  | 0.0232558139534884    | 0.0232558139534884    | 0.0232558139534884    | 0.0232558139534884    | 0.0232558139534884    | 0.0232558139534884    | 0.0232558139534884    | 0.0232558139534884    | 0.0232558139534884    | 0.0232558139534884    | 0.0232558139534884    | 0.0232558139534884    | 0.0232558139534884    | 0.0232558139534884    | 0.0232558139534884    | 0.0232558139534884    | 0.0232558139534884    | 0.001637733377006224  | 0.0008487523340689175 | 0.001637733377006224  | 0.001637733377006224  | 0.00015906849489390136 | 0.00034710170079833407 | 0.00028997274256219933 | 0.0002899727425621993 | 0.0005728032993470041 | 0.00021815960556743322 | 0.0005728032993470039 | 0.0005728032993470041 |\n",
            "+------------------------+-----------------------+------------------------+------------------------+------------------------+-----------------------+-----------------------+-----------------------+-----------------------+-----------------------+-----------------------+-----------------------+-----------------------+-----------------------+-----------------------+-----------------------+-----------------------+-----------------------+-----------------------+-----------------------+-----------------------+-----------------------+-----------------------+-----------------------+-----------------------+-----------------------+-----------------------+-----------------------+-----------------------+-----------------------+-----------------------+-----------------------+------------------------+------------------------+------------------------+-----------------------+-----------------------+-----------------------+-----------------------+-----------------------+-----------------------+-----------------------+-----------------------+-----------------------+-----------------------+-----------------------+-----------------------+-----------------------+-----------------------+-----------------------+-----------------------+-----------------------+-----------------------+-----------------------+-----------------------+-----------------------+-----------------------+-----------------------+-----------------------+------------------------+------------------------+------------------------+-----------------------+-----------------------+------------------------+-----------------------+-----------------------+\n",
            "| petal length (cm)(1.5) | 0.3943769524470677    | 0.24081098440321339    | 0.14157661471042296    | 0.4242318609631        | 0.0016377333770062241 | 0.0016377333770062246 | 0.0232558139534884    | 0.0232558139534884    | 0.0232558139534884    | 0.0232558139534884    | 0.0232558139534884    | 0.0232558139534884    | 0.0232558139534884    | 0.0232558139534884    | 0.0232558139534884    | 0.0232558139534884    | 0.0232558139534884    | 0.0232558139534884    | 0.0232558139534884    | 0.0232558139534884    | 0.0232558139534884    | 0.0232558139534884    | 0.0232558139534884    | 0.0232558139534884    | 0.0232558139534884    | 0.0232558139534884    | 0.0232558139534884    | 0.0232558139534884    | 0.0002489915840844582 | 0.0005728032993470033 | 0.0003471017007983343 | 0.00013473820367026872 | 0.00024899158408445805 | 0.00017485574401119086 | 0.0005728032993470037 | 0.001637733377006224  | 0.001637733377006224  | 0.0232558139534884    | 0.0232558139534884    | 0.0232558139534884    | 0.0232558139534884    | 0.0232558139534884    | 0.0232558139534884    | 0.0232558139534884    | 0.0232558139534884    | 0.0232558139534884    | 0.0232558139534884    | 0.0232558139534884    | 0.0232558139534884    | 0.0232558139534884    | 0.0232558139534884    | 0.0232558139534884    | 0.0232558139534884    | 0.0232558139534884    | 0.001637733377006224  | 0.0008487523340689175 | 0.001637733377006224  | 0.001637733377006224  | 0.00015906849489390136 | 0.00034710170079833407 | 0.00028997274256219933 | 0.0002899727425621993 | 0.0005728032993470041 | 0.00021815960556743322 | 0.0005728032993470039 | 0.0005728032993470041 |\n",
            "+------------------------+-----------------------+------------------------+------------------------+------------------------+-----------------------+-----------------------+-----------------------+-----------------------+-----------------------+-----------------------+-----------------------+-----------------------+-----------------------+-----------------------+-----------------------+-----------------------+-----------------------+-----------------------+-----------------------+-----------------------+-----------------------+-----------------------+-----------------------+-----------------------+-----------------------+-----------------------+-----------------------+-----------------------+-----------------------+-----------------------+-----------------------+------------------------+------------------------+------------------------+-----------------------+-----------------------+-----------------------+-----------------------+-----------------------+-----------------------+-----------------------+-----------------------+-----------------------+-----------------------+-----------------------+-----------------------+-----------------------+-----------------------+-----------------------+-----------------------+-----------------------+-----------------------+-----------------------+-----------------------+-----------------------+-----------------------+-----------------------+-----------------------+------------------------+------------------------+------------------------+-----------------------+-----------------------+------------------------+-----------------------+-----------------------+\n",
            "| petal length (cm)(1.6) | 0.0003471017007983345 | 0.17202515845219737    | 0.00024899158408445826 | 0.14157661471042296    | 0.0016377333770062241 | 0.9312151981657393    | 0.0232558139534884    | 0.0232558139534884    | 0.0232558139534884    | 0.0232558139534884    | 0.0232558139534884    | 0.0232558139534884    | 0.0232558139534884    | 0.0232558139534884    | 0.0232558139534884    | 0.0232558139534884    | 0.0232558139534884    | 0.0232558139534884    | 0.0232558139534884    | 0.0232558139534884    | 0.0232558139534884    | 0.0232558139534884    | 0.0232558139534884    | 0.0232558139534884    | 0.0232558139534884    | 0.0232558139534884    | 0.0232558139534884    | 0.0232558139534884    | 0.0002489915840844582 | 0.0005728032993470033 | 0.0003471017007983343 | 0.00013473820367026872 | 0.00024899158408445805 | 0.00017485574401119086 | 0.0005728032993470037 | 0.001637733377006224  | 0.001637733377006224  | 0.0232558139534884    | 0.0232558139534884    | 0.0232558139534884    | 0.0232558139534884    | 0.0232558139534884    | 0.0232558139534884    | 0.0232558139534884    | 0.0232558139534884    | 0.0232558139534884    | 0.0232558139534884    | 0.0232558139534884    | 0.0232558139534884    | 0.0232558139534884    | 0.0232558139534884    | 0.0232558139534884    | 0.0232558139534884    | 0.0232558139534884    | 0.001637733377006224  | 0.0008487523340689175 | 0.001637733377006224  | 0.001637733377006224  | 0.00015906849489390136 | 0.00034710170079833407 | 0.00028997274256219933 | 0.0002899727425621993 | 0.0005728032993470041 | 0.00021815960556743322 | 0.0005728032993470039 | 0.0005728032993470041 |\n",
            "+------------------------+-----------------------+------------------------+------------------------+------------------------+-----------------------+-----------------------+-----------------------+-----------------------+-----------------------+-----------------------+-----------------------+-----------------------+-----------------------+-----------------------+-----------------------+-----------------------+-----------------------+-----------------------+-----------------------+-----------------------+-----------------------+-----------------------+-----------------------+-----------------------+-----------------------+-----------------------+-----------------------+-----------------------+-----------------------+-----------------------+-----------------------+------------------------+------------------------+------------------------+-----------------------+-----------------------+-----------------------+-----------------------+-----------------------+-----------------------+-----------------------+-----------------------+-----------------------+-----------------------+-----------------------+-----------------------+-----------------------+-----------------------+-----------------------+-----------------------+-----------------------+-----------------------+-----------------------+-----------------------+-----------------------+-----------------------+-----------------------+-----------------------+------------------------+------------------------+------------------------+-----------------------+-----------------------+------------------------+-----------------------+-----------------------+\n",
            "| petal length (cm)(1.7) | 0.0003471017007983345 | 0.03445350655016535    | 0.14157661471042296    | 0.14157661471042296    | 0.931215198165739     | 0.0016377333770062246 | 0.0232558139534884    | 0.0232558139534884    | 0.0232558139534884    | 0.0232558139534884    | 0.0232558139534884    | 0.0232558139534884    | 0.0232558139534884    | 0.0232558139534884    | 0.0232558139534884    | 0.0232558139534884    | 0.0232558139534884    | 0.0232558139534884    | 0.0232558139534884    | 0.0232558139534884    | 0.0232558139534884    | 0.0232558139534884    | 0.0232558139534884    | 0.0232558139534884    | 0.0232558139534884    | 0.0232558139534884    | 0.0232558139534884    | 0.0232558139534884    | 0.0002489915840844582 | 0.0005728032993470033 | 0.0003471017007983343 | 0.00013473820367026872 | 0.00024899158408445805 | 0.00017485574401119086 | 0.0005728032993470037 | 0.001637733377006224  | 0.001637733377006224  | 0.0232558139534884    | 0.0232558139534884    | 0.0232558139534884    | 0.0232558139534884    | 0.0232558139534884    | 0.0232558139534884    | 0.0232558139534884    | 0.0232558139534884    | 0.0232558139534884    | 0.0232558139534884    | 0.0232558139534884    | 0.0232558139534884    | 0.0232558139534884    | 0.0232558139534884    | 0.0232558139534884    | 0.0232558139534884    | 0.0232558139534884    | 0.001637733377006224  | 0.0008487523340689175 | 0.001637733377006224  | 0.001637733377006224  | 0.00015906849489390136 | 0.00034710170079833407 | 0.00028997274256219933 | 0.0002899727425621993 | 0.0005728032993470041 | 0.00021815960556743322 | 0.0005728032993470039 | 0.0005728032993470041 |\n",
            "+------------------------+-----------------------+------------------------+------------------------+------------------------+-----------------------+-----------------------+-----------------------+-----------------------+-----------------------+-----------------------+-----------------------+-----------------------+-----------------------+-----------------------+-----------------------+-----------------------+-----------------------+-----------------------+-----------------------+-----------------------+-----------------------+-----------------------+-----------------------+-----------------------+-----------------------+-----------------------+-----------------------+-----------------------+-----------------------+-----------------------+-----------------------+------------------------+------------------------+------------------------+-----------------------+-----------------------+-----------------------+-----------------------+-----------------------+-----------------------+-----------------------+-----------------------+-----------------------+-----------------------+-----------------------+-----------------------+-----------------------+-----------------------+-----------------------+-----------------------+-----------------------+-----------------------+-----------------------+-----------------------+-----------------------+-----------------------+-----------------------+-----------------------+------------------------+------------------------+------------------------+-----------------------+-----------------------+------------------------+-----------------------+-----------------------+\n",
            "| petal length (cm)(1.9) | 0.0003471017007983345 | 0.03445350655016535    | 0.00024899158408445826 | 0.14157661471042296    | 0.0016377333770062241 | 0.0016377333770062246 | 0.0232558139534884    | 0.0232558139534884    | 0.0232558139534884    | 0.0232558139534884    | 0.0232558139534884    | 0.0232558139534884    | 0.0232558139534884    | 0.0232558139534884    | 0.0232558139534884    | 0.0232558139534884    | 0.0232558139534884    | 0.0232558139534884    | 0.0232558139534884    | 0.0232558139534884    | 0.0232558139534884    | 0.0232558139534884    | 0.0232558139534884    | 0.0232558139534884    | 0.0232558139534884    | 0.0232558139534884    | 0.0232558139534884    | 0.0232558139534884    | 0.0002489915840844582 | 0.0005728032993470033 | 0.0003471017007983343 | 0.00013473820367026872 | 0.00024899158408445805 | 0.00017485574401119086 | 0.0005728032993470037 | 0.001637733377006224  | 0.001637733377006224  | 0.0232558139534884    | 0.0232558139534884    | 0.0232558139534884    | 0.0232558139534884    | 0.0232558139534884    | 0.0232558139534884    | 0.0232558139534884    | 0.0232558139534884    | 0.0232558139534884    | 0.0232558139534884    | 0.0232558139534884    | 0.0232558139534884    | 0.0232558139534884    | 0.0232558139534884    | 0.0232558139534884    | 0.0232558139534884    | 0.0232558139534884    | 0.001637733377006224  | 0.0008487523340689175 | 0.001637733377006224  | 0.001637733377006224  | 0.00015906849489390136 | 0.00034710170079833407 | 0.00028997274256219933 | 0.0002899727425621993 | 0.0005728032993470041 | 0.00021815960556743322 | 0.0005728032993470039 | 0.0005728032993470041 |\n",
            "+------------------------+-----------------------+------------------------+------------------------+------------------------+-----------------------+-----------------------+-----------------------+-----------------------+-----------------------+-----------------------+-----------------------+-----------------------+-----------------------+-----------------------+-----------------------+-----------------------+-----------------------+-----------------------+-----------------------+-----------------------+-----------------------+-----------------------+-----------------------+-----------------------+-----------------------+-----------------------+-----------------------+-----------------------+-----------------------+-----------------------+-----------------------+------------------------+------------------------+------------------------+-----------------------+-----------------------+-----------------------+-----------------------+-----------------------+-----------------------+-----------------------+-----------------------+-----------------------+-----------------------+-----------------------+-----------------------+-----------------------+-----------------------+-----------------------+-----------------------+-----------------------+-----------------------+-----------------------+-----------------------+-----------------------+-----------------------+-----------------------+-----------------------+------------------------+------------------------+------------------------+-----------------------+-----------------------+------------------------+-----------------------+-----------------------+\n",
            "| petal length (cm)(3.0) | 0.0003471017007983345 | 6.0593574657343216e-05 | 0.00024899158408445826 | 0.00024899158408445826 | 0.0016377333770062241 | 0.0016377333770062246 | 0.0232558139534884    | 0.0232558139534884    | 0.0232558139534884    | 0.0232558139534884    | 0.0232558139534884    | 0.0232558139534884    | 0.0232558139534884    | 0.0232558139534884    | 0.0232558139534884    | 0.0232558139534884    | 0.0232558139534884    | 0.0232558139534884    | 0.0232558139534884    | 0.0232558139534884    | 0.0232558139534884    | 0.0232558139534884    | 0.0232558139534884    | 0.0232558139534884    | 0.0232558139534884    | 0.0232558139534884    | 0.0232558139534884    | 0.0232558139534884    | 0.0002489915840844582 | 0.32569595600870604   | 0.0003471017007983343 | 0.00013473820367026872 | 0.00024899158408445805 | 0.00017485574401119086 | 0.0005728032993470037 | 0.001637733377006224  | 0.001637733377006224  | 0.0232558139534884    | 0.0232558139534884    | 0.0232558139534884    | 0.0232558139534884    | 0.0232558139534884    | 0.0232558139534884    | 0.0232558139534884    | 0.0232558139534884    | 0.0232558139534884    | 0.0232558139534884    | 0.0232558139534884    | 0.0232558139534884    | 0.0232558139534884    | 0.0232558139534884    | 0.0232558139534884    | 0.0232558139534884    | 0.0232558139534884    | 0.001637733377006224  | 0.0008487523340689175 | 0.001637733377006224  | 0.001637733377006224  | 0.00015906849489390136 | 0.00034710170079833407 | 0.00028997274256219933 | 0.0002899727425621993 | 0.0005728032993470041 | 0.00021815960556743322 | 0.0005728032993470039 | 0.0005728032993470041 |\n",
            "+------------------------+-----------------------+------------------------+------------------------+------------------------+-----------------------+-----------------------+-----------------------+-----------------------+-----------------------+-----------------------+-----------------------+-----------------------+-----------------------+-----------------------+-----------------------+-----------------------+-----------------------+-----------------------+-----------------------+-----------------------+-----------------------+-----------------------+-----------------------+-----------------------+-----------------------+-----------------------+-----------------------+-----------------------+-----------------------+-----------------------+-----------------------+------------------------+------------------------+------------------------+-----------------------+-----------------------+-----------------------+-----------------------+-----------------------+-----------------------+-----------------------+-----------------------+-----------------------+-----------------------+-----------------------+-----------------------+-----------------------+-----------------------+-----------------------+-----------------------+-----------------------+-----------------------+-----------------------+-----------------------+-----------------------+-----------------------+-----------------------+-----------------------+------------------------+------------------------+------------------------+-----------------------+-----------------------+------------------------+-----------------------+-----------------------+\n",
            "| petal length (cm)(3.3) | 0.0003471017007983345 | 6.0593574657343216e-05 | 0.00024899158408445826 | 0.00024899158408445826 | 0.0016377333770062241 | 0.0016377333770062246 | 0.0232558139534884    | 0.0232558139534884    | 0.0232558139534884    | 0.0232558139534884    | 0.0232558139534884    | 0.0232558139534884    | 0.0232558139534884    | 0.0232558139534884    | 0.0232558139534884    | 0.0232558139534884    | 0.0232558139534884    | 0.0232558139534884    | 0.0232558139534884    | 0.0232558139534884    | 0.0232558139534884    | 0.0232558139534884    | 0.0232558139534884    | 0.0232558139534884    | 0.0232558139534884    | 0.0232558139534884    | 0.0232558139534884    | 0.0232558139534884    | 0.28290423783676144   | 0.0005728032993470033 | 0.0003471017007983343 | 0.00013473820367026872 | 0.00024899158408445805 | 0.00017485574401119086 | 0.0005728032993470037 | 0.001637733377006224  | 0.001637733377006224  | 0.0232558139534884    | 0.0232558139534884    | 0.0232558139534884    | 0.0232558139534884    | 0.0232558139534884    | 0.0232558139534884    | 0.0232558139534884    | 0.0232558139534884    | 0.0232558139534884    | 0.0232558139534884    | 0.0232558139534884    | 0.0232558139534884    | 0.0232558139534884    | 0.0232558139534884    | 0.0232558139534884    | 0.0232558139534884    | 0.0232558139534884    | 0.001637733377006224  | 0.0008487523340689175 | 0.001637733377006224  | 0.001637733377006224  | 0.00015906849489390136 | 0.00034710170079833407 | 0.00028997274256219933 | 0.0002899727425621993 | 0.0005728032993470041 | 0.00021815960556743322 | 0.0005728032993470039 | 0.0005728032993470041 |\n",
            "+------------------------+-----------------------+------------------------+------------------------+------------------------+-----------------------+-----------------------+-----------------------+-----------------------+-----------------------+-----------------------+-----------------------+-----------------------+-----------------------+-----------------------+-----------------------+-----------------------+-----------------------+-----------------------+-----------------------+-----------------------+-----------------------+-----------------------+-----------------------+-----------------------+-----------------------+-----------------------+-----------------------+-----------------------+-----------------------+-----------------------+-----------------------+------------------------+------------------------+------------------------+-----------------------+-----------------------+-----------------------+-----------------------+-----------------------+-----------------------+-----------------------+-----------------------+-----------------------+-----------------------+-----------------------+-----------------------+-----------------------+-----------------------+-----------------------+-----------------------+-----------------------+-----------------------+-----------------------+-----------------------+-----------------------+-----------------------+-----------------------+-----------------------+------------------------+------------------------+------------------------+-----------------------+-----------------------+------------------------+-----------------------+-----------------------+\n",
            "| petal length (cm)(3.5) | 0.0003471017007983345 | 6.0593574657343216e-05 | 0.00024899158408445826 | 0.00024899158408445826 | 0.0016377333770062241 | 0.0016377333770062246 | 0.0232558139534884    | 0.0232558139534884    | 0.0232558139534884    | 0.0232558139534884    | 0.0232558139534884    | 0.0232558139534884    | 0.0232558139534884    | 0.0232558139534884    | 0.0232558139534884    | 0.0232558139534884    | 0.0232558139534884    | 0.0232558139534884    | 0.0232558139534884    | 0.0232558139534884    | 0.0232558139534884    | 0.0232558139534884    | 0.0232558139534884    | 0.0232558139534884    | 0.0232558139534884    | 0.0232558139534884    | 0.0232558139534884    | 0.0232558139534884    | 0.28290423783676144   | 0.0005728032993470033 | 0.0003471017007983343 | 0.00013473820367026872 | 0.00024899158408445805 | 0.00017485574401119086 | 0.0005728032993470037 | 0.001637733377006224  | 0.001637733377006224  | 0.0232558139534884    | 0.0232558139534884    | 0.0232558139534884    | 0.0232558139534884    | 0.0232558139534884    | 0.0232558139534884    | 0.0232558139534884    | 0.0232558139534884    | 0.0232558139534884    | 0.0232558139534884    | 0.0232558139534884    | 0.0232558139534884    | 0.0232558139534884    | 0.0232558139534884    | 0.0232558139534884    | 0.0232558139534884    | 0.0232558139534884    | 0.001637733377006224  | 0.0008487523340689175 | 0.001637733377006224  | 0.001637733377006224  | 0.00015906849489390136 | 0.00034710170079833407 | 0.00028997274256219933 | 0.0002899727425621993 | 0.0005728032993470041 | 0.00021815960556743322 | 0.0005728032993470039 | 0.0005728032993470041 |\n",
            "+------------------------+-----------------------+------------------------+------------------------+------------------------+-----------------------+-----------------------+-----------------------+-----------------------+-----------------------+-----------------------+-----------------------+-----------------------+-----------------------+-----------------------+-----------------------+-----------------------+-----------------------+-----------------------+-----------------------+-----------------------+-----------------------+-----------------------+-----------------------+-----------------------+-----------------------+-----------------------+-----------------------+-----------------------+-----------------------+-----------------------+-----------------------+------------------------+------------------------+------------------------+-----------------------+-----------------------+-----------------------+-----------------------+-----------------------+-----------------------+-----------------------+-----------------------+-----------------------+-----------------------+-----------------------+-----------------------+-----------------------+-----------------------+-----------------------+-----------------------+-----------------------+-----------------------+-----------------------+-----------------------+-----------------------+-----------------------+-----------------------+-----------------------+------------------------+------------------------+------------------------+-----------------------+-----------------------+------------------------+-----------------------+-----------------------+\n",
            "| petal length (cm)(3.6) | 0.0003471017007983345 | 6.0593574657343216e-05 | 0.00024899158408445826 | 0.00024899158408445826 | 0.0016377333770062241 | 0.0016377333770062246 | 0.0232558139534884    | 0.0232558139534884    | 0.0232558139534884    | 0.0232558139534884    | 0.0232558139534884    | 0.0232558139534884    | 0.0232558139534884    | 0.0232558139534884    | 0.0232558139534884    | 0.0232558139534884    | 0.0232558139534884    | 0.0232558139534884    | 0.0232558139534884    | 0.0232558139534884    | 0.0232558139534884    | 0.0232558139534884    | 0.0232558139534884    | 0.0232558139534884    | 0.0232558139534884    | 0.0232558139534884    | 0.0232558139534884    | 0.0232558139534884    | 0.0002489915840844582 | 0.0005728032993470033 | 0.0003471017007983343 | 0.07661214260691479    | 0.00024899158408445805 | 0.00017485574401119086 | 0.0005728032993470037 | 0.001637733377006224  | 0.001637733377006224  | 0.0232558139534884    | 0.0232558139534884    | 0.0232558139534884    | 0.0232558139534884    | 0.0232558139534884    | 0.0232558139534884    | 0.0232558139534884    | 0.0232558139534884    | 0.0232558139534884    | 0.0232558139534884    | 0.0232558139534884    | 0.0232558139534884    | 0.0232558139534884    | 0.0232558139534884    | 0.0232558139534884    | 0.0232558139534884    | 0.0232558139534884    | 0.001637733377006224  | 0.0008487523340689175 | 0.001637733377006224  | 0.001637733377006224  | 0.00015906849489390136 | 0.00034710170079833407 | 0.00028997274256219933 | 0.0002899727425621993 | 0.0005728032993470041 | 0.00021815960556743322 | 0.0005728032993470039 | 0.0005728032993470041 |\n",
            "+------------------------+-----------------------+------------------------+------------------------+------------------------+-----------------------+-----------------------+-----------------------+-----------------------+-----------------------+-----------------------+-----------------------+-----------------------+-----------------------+-----------------------+-----------------------+-----------------------+-----------------------+-----------------------+-----------------------+-----------------------+-----------------------+-----------------------+-----------------------+-----------------------+-----------------------+-----------------------+-----------------------+-----------------------+-----------------------+-----------------------+-----------------------+------------------------+------------------------+------------------------+-----------------------+-----------------------+-----------------------+-----------------------+-----------------------+-----------------------+-----------------------+-----------------------+-----------------------+-----------------------+-----------------------+-----------------------+-----------------------+-----------------------+-----------------------+-----------------------+-----------------------+-----------------------+-----------------------+-----------------------+-----------------------+-----------------------+-----------------------+-----------------------+------------------------+------------------------+------------------------+-----------------------+-----------------------+------------------------+-----------------------+-----------------------+\n",
            "| petal length (cm)(3.7) | 0.0003471017007983345 | 6.0593574657343216e-05 | 0.00024899158408445826 | 0.00024899158408445826 | 0.0016377333770062241 | 0.0016377333770062246 | 0.0232558139534884    | 0.0232558139534884    | 0.0232558139534884    | 0.0232558139534884    | 0.0232558139534884    | 0.0232558139534884    | 0.0232558139534884    | 0.0232558139534884    | 0.0232558139534884    | 0.0232558139534884    | 0.0232558139534884    | 0.0232558139534884    | 0.0232558139534884    | 0.0232558139534884    | 0.0232558139534884    | 0.0232558139534884    | 0.0232558139534884    | 0.0232558139534884    | 0.0232558139534884    | 0.0232558139534884    | 0.0232558139534884    | 0.0232558139534884    | 0.14157661471042293   | 0.0005728032993470033 | 0.0003471017007983343 | 0.00013473820367026872 | 0.00024899158408445805 | 0.00017485574401119086 | 0.0005728032993470037 | 0.001637733377006224  | 0.001637733377006224  | 0.0232558139534884    | 0.0232558139534884    | 0.0232558139534884    | 0.0232558139534884    | 0.0232558139534884    | 0.0232558139534884    | 0.0232558139534884    | 0.0232558139534884    | 0.0232558139534884    | 0.0232558139534884    | 0.0232558139534884    | 0.0232558139534884    | 0.0232558139534884    | 0.0232558139534884    | 0.0232558139534884    | 0.0232558139534884    | 0.0232558139534884    | 0.001637733377006224  | 0.0008487523340689175 | 0.001637733377006224  | 0.001637733377006224  | 0.00015906849489390136 | 0.00034710170079833407 | 0.00028997274256219933 | 0.0002899727425621993 | 0.0005728032993470041 | 0.00021815960556743322 | 0.0005728032993470039 | 0.0005728032993470041 |\n",
            "+------------------------+-----------------------+------------------------+------------------------+------------------------+-----------------------+-----------------------+-----------------------+-----------------------+-----------------------+-----------------------+-----------------------+-----------------------+-----------------------+-----------------------+-----------------------+-----------------------+-----------------------+-----------------------+-----------------------+-----------------------+-----------------------+-----------------------+-----------------------+-----------------------+-----------------------+-----------------------+-----------------------+-----------------------+-----------------------+-----------------------+-----------------------+------------------------+------------------------+------------------------+-----------------------+-----------------------+-----------------------+-----------------------+-----------------------+-----------------------+-----------------------+-----------------------+-----------------------+-----------------------+-----------------------+-----------------------+-----------------------+-----------------------+-----------------------+-----------------------+-----------------------+-----------------------+-----------------------+-----------------------+-----------------------+-----------------------+-----------------------+-----------------------+------------------------+------------------------+------------------------+-----------------------+-----------------------+------------------------+-----------------------+-----------------------+\n",
            "| petal length (cm)(3.8) | 0.0003471017007983345 | 6.0593574657343216e-05 | 0.00024899158408445826 | 0.00024899158408445826 | 0.0016377333770062241 | 0.0016377333770062246 | 0.0232558139534884    | 0.0232558139534884    | 0.0232558139534884    | 0.0232558139534884    | 0.0232558139534884    | 0.0232558139534884    | 0.0232558139534884    | 0.0232558139534884    | 0.0232558139534884    | 0.0232558139534884    | 0.0232558139534884    | 0.0232558139534884    | 0.0232558139534884    | 0.0232558139534884    | 0.0232558139534884    | 0.0232558139534884    | 0.0232558139534884    | 0.0232558139534884    | 0.0232558139534884    | 0.0232558139534884    | 0.0232558139534884    | 0.0232558139534884    | 0.0002489915840844582 | 0.32569595600870604   | 0.0003471017007983343 | 0.00013473820367026872 | 0.00024899158408445805 | 0.00017485574401119086 | 0.0005728032993470037 | 0.001637733377006224  | 0.001637733377006224  | 0.0232558139534884    | 0.0232558139534884    | 0.0232558139534884    | 0.0232558139534884    | 0.0232558139534884    | 0.0232558139534884    | 0.0232558139534884    | 0.0232558139534884    | 0.0232558139534884    | 0.0232558139534884    | 0.0232558139534884    | 0.0232558139534884    | 0.0232558139534884    | 0.0232558139534884    | 0.0232558139534884    | 0.0232558139534884    | 0.0232558139534884    | 0.001637733377006224  | 0.0008487523340689175 | 0.001637733377006224  | 0.001637733377006224  | 0.00015906849489390136 | 0.00034710170079833407 | 0.00028997274256219933 | 0.0002899727425621993 | 0.0005728032993470041 | 0.00021815960556743322 | 0.0005728032993470039 | 0.0005728032993470041 |\n",
            "+------------------------+-----------------------+------------------------+------------------------+------------------------+-----------------------+-----------------------+-----------------------+-----------------------+-----------------------+-----------------------+-----------------------+-----------------------+-----------------------+-----------------------+-----------------------+-----------------------+-----------------------+-----------------------+-----------------------+-----------------------+-----------------------+-----------------------+-----------------------+-----------------------+-----------------------+-----------------------+-----------------------+-----------------------+-----------------------+-----------------------+-----------------------+------------------------+------------------------+------------------------+-----------------------+-----------------------+-----------------------+-----------------------+-----------------------+-----------------------+-----------------------+-----------------------+-----------------------+-----------------------+-----------------------+-----------------------+-----------------------+-----------------------+-----------------------+-----------------------+-----------------------+-----------------------+-----------------------+-----------------------+-----------------------+-----------------------+-----------------------+-----------------------+------------------------+------------------------+------------------------+-----------------------+-----------------------+------------------------+-----------------------+-----------------------+\n",
            "| petal length (cm)(3.9) | 0.0003471017007983345 | 6.0593574657343216e-05 | 0.00024899158408445826 | 0.00024899158408445826 | 0.0016377333770062241 | 0.0016377333770062246 | 0.0232558139534884    | 0.0232558139534884    | 0.0232558139534884    | 0.0232558139534884    | 0.0232558139534884    | 0.0232558139534884    | 0.0232558139534884    | 0.0232558139534884    | 0.0232558139534884    | 0.0232558139534884    | 0.0232558139534884    | 0.0232558139534884    | 0.0232558139534884    | 0.0232558139534884    | 0.0232558139534884    | 0.0232558139534884    | 0.0232558139534884    | 0.0232558139534884    | 0.0232558139534884    | 0.0232558139534884    | 0.0232558139534884    | 0.0232558139534884    | 0.0002489915840844582 | 0.32569595600870604   | 0.19736202707393286   | 0.00013473820367026872 | 0.14157661471042285    | 0.00017485574401119086 | 0.0005728032993470037 | 0.001637733377006224  | 0.001637733377006224  | 0.0232558139534884    | 0.0232558139534884    | 0.0232558139534884    | 0.0232558139534884    | 0.0232558139534884    | 0.0232558139534884    | 0.0232558139534884    | 0.0232558139534884    | 0.0232558139534884    | 0.0232558139534884    | 0.0232558139534884    | 0.0232558139534884    | 0.0232558139534884    | 0.0232558139534884    | 0.0232558139534884    | 0.0232558139534884    | 0.0232558139534884    | 0.001637733377006224  | 0.0008487523340689175 | 0.001637733377006224  | 0.001637733377006224  | 0.00015906849489390136 | 0.00034710170079833407 | 0.00028997274256219933 | 0.0002899727425621993 | 0.0005728032993470041 | 0.00021815960556743322 | 0.0005728032993470039 | 0.0005728032993470041 |\n",
            "+------------------------+-----------------------+------------------------+------------------------+------------------------+-----------------------+-----------------------+-----------------------+-----------------------+-----------------------+-----------------------+-----------------------+-----------------------+-----------------------+-----------------------+-----------------------+-----------------------+-----------------------+-----------------------+-----------------------+-----------------------+-----------------------+-----------------------+-----------------------+-----------------------+-----------------------+-----------------------+-----------------------+-----------------------+-----------------------+-----------------------+-----------------------+------------------------+------------------------+------------------------+-----------------------+-----------------------+-----------------------+-----------------------+-----------------------+-----------------------+-----------------------+-----------------------+-----------------------+-----------------------+-----------------------+-----------------------+-----------------------+-----------------------+-----------------------+-----------------------+-----------------------+-----------------------+-----------------------+-----------------------+-----------------------+-----------------------+-----------------------+-----------------------+------------------------+------------------------+------------------------+-----------------------+-----------------------+------------------------+-----------------------+-----------------------+\n",
            "| petal length (cm)(4.0) | 0.0003471017007983345 | 6.0593574657343216e-05 | 0.00024899158408445826 | 0.00024899158408445826 | 0.0016377333770062241 | 0.0016377333770062246 | 0.0232558139534884    | 0.0232558139534884    | 0.0232558139534884    | 0.0232558139534884    | 0.0232558139534884    | 0.0232558139534884    | 0.0232558139534884    | 0.0232558139534884    | 0.0232558139534884    | 0.0232558139534884    | 0.0232558139534884    | 0.0232558139534884    | 0.0232558139534884    | 0.0232558139534884    | 0.0232558139534884    | 0.0232558139534884    | 0.0232558139534884    | 0.0232558139534884    | 0.0232558139534884    | 0.0232558139534884    | 0.0232558139534884    | 0.0232558139534884    | 0.14157661471042293   | 0.0005728032993470033 | 0.19736202707393286   | 0.22956695141340386    | 0.00024899158408445805 | 0.00017485574401119086 | 0.0005728032993470037 | 0.001637733377006224  | 0.001637733377006224  | 0.0232558139534884    | 0.0232558139534884    | 0.0232558139534884    | 0.0232558139534884    | 0.0232558139534884    | 0.0232558139534884    | 0.0232558139534884    | 0.0232558139534884    | 0.0232558139534884    | 0.0232558139534884    | 0.0232558139534884    | 0.0232558139534884    | 0.0232558139534884    | 0.0232558139534884    | 0.0232558139534884    | 0.0232558139534884    | 0.0232558139534884    | 0.001637733377006224  | 0.0008487523340689175 | 0.001637733377006224  | 0.001637733377006224  | 0.00015906849489390136 | 0.00034710170079833407 | 0.00028997274256219933 | 0.0002899727425621993 | 0.0005728032993470041 | 0.00021815960556743322 | 0.0005728032993470039 | 0.0005728032993470041 |\n",
            "+------------------------+-----------------------+------------------------+------------------------+------------------------+-----------------------+-----------------------+-----------------------+-----------------------+-----------------------+-----------------------+-----------------------+-----------------------+-----------------------+-----------------------+-----------------------+-----------------------+-----------------------+-----------------------+-----------------------+-----------------------+-----------------------+-----------------------+-----------------------+-----------------------+-----------------------+-----------------------+-----------------------+-----------------------+-----------------------+-----------------------+-----------------------+------------------------+------------------------+------------------------+-----------------------+-----------------------+-----------------------+-----------------------+-----------------------+-----------------------+-----------------------+-----------------------+-----------------------+-----------------------+-----------------------+-----------------------+-----------------------+-----------------------+-----------------------+-----------------------+-----------------------+-----------------------+-----------------------+-----------------------+-----------------------+-----------------------+-----------------------+-----------------------+------------------------+------------------------+------------------------+-----------------------+-----------------------+------------------------+-----------------------+-----------------------+\n",
            "| petal length (cm)(4.1) | 0.0003471017007983345 | 6.0593574657343216e-05 | 0.00024899158408445826 | 0.00024899158408445826 | 0.0016377333770062241 | 0.0016377333770062246 | 0.0232558139534884    | 0.0232558139534884    | 0.0232558139534884    | 0.0232558139534884    | 0.0232558139534884    | 0.0232558139534884    | 0.0232558139534884    | 0.0232558139534884    | 0.0232558139534884    | 0.0232558139534884    | 0.0232558139534884    | 0.0232558139534884    | 0.0232558139534884    | 0.0232558139534884    | 0.0232558139534884    | 0.0232558139534884    | 0.0232558139534884    | 0.0232558139534884    | 0.0232558139534884    | 0.0232558139534884    | 0.0232558139534884    | 0.0232558139534884    | 0.14157661471042293   | 0.0005728032993470033 | 0.0003471017007983343 | 0.15308954701015934    | 0.00024899158408445805 | 0.00017485574401119086 | 0.0005728032993470037 | 0.001637733377006224  | 0.001637733377006224  | 0.0232558139534884    | 0.0232558139534884    | 0.0232558139534884    | 0.0232558139534884    | 0.0232558139534884    | 0.0232558139534884    | 0.0232558139534884    | 0.0232558139534884    | 0.0232558139534884    | 0.0232558139534884    | 0.0232558139534884    | 0.0232558139534884    | 0.0232558139534884    | 0.0232558139534884    | 0.0232558139534884    | 0.0232558139534884    | 0.0232558139534884    | 0.001637733377006224  | 0.0008487523340689175 | 0.001637733377006224  | 0.001637733377006224  | 0.00015906849489390136 | 0.00034710170079833407 | 0.00028997274256219933 | 0.0002899727425621993 | 0.0005728032993470041 | 0.00021815960556743322 | 0.0005728032993470039 | 0.0005728032993470041 |\n",
            "+------------------------+-----------------------+------------------------+------------------------+------------------------+-----------------------+-----------------------+-----------------------+-----------------------+-----------------------+-----------------------+-----------------------+-----------------------+-----------------------+-----------------------+-----------------------+-----------------------+-----------------------+-----------------------+-----------------------+-----------------------+-----------------------+-----------------------+-----------------------+-----------------------+-----------------------+-----------------------+-----------------------+-----------------------+-----------------------+-----------------------+-----------------------+------------------------+------------------------+------------------------+-----------------------+-----------------------+-----------------------+-----------------------+-----------------------+-----------------------+-----------------------+-----------------------+-----------------------+-----------------------+-----------------------+-----------------------+-----------------------+-----------------------+-----------------------+-----------------------+-----------------------+-----------------------+-----------------------+-----------------------+-----------------------+-----------------------+-----------------------+-----------------------+------------------------+------------------------+------------------------+-----------------------+-----------------------+------------------------+-----------------------+-----------------------+\n",
            "| petal length (cm)(4.2) | 0.0003471017007983345 | 6.0593574657343216e-05 | 0.00024899158408445826 | 0.00024899158408445826 | 0.0016377333770062241 | 0.0016377333770062246 | 0.0232558139534884    | 0.0232558139534884    | 0.0232558139534884    | 0.0232558139534884    | 0.0232558139534884    | 0.0232558139534884    | 0.0232558139534884    | 0.0232558139534884    | 0.0232558139534884    | 0.0232558139534884    | 0.0232558139534884    | 0.0232558139534884    | 0.0232558139534884    | 0.0232558139534884    | 0.0232558139534884    | 0.0232558139534884    | 0.0232558139534884    | 0.0232558139534884    | 0.0232558139534884    | 0.0232558139534884    | 0.0232558139534884    | 0.0232558139534884    | 0.0002489915840844582 | 0.0005728032993470033 | 0.19736202707393286   | 0.15308954701015934    | 0.00024899158408445805 | 0.09942297604476312    | 0.0005728032993470037 | 0.001637733377006224  | 0.001637733377006224  | 0.0232558139534884    | 0.0232558139534884    | 0.0232558139534884    | 0.0232558139534884    | 0.0232558139534884    | 0.0232558139534884    | 0.0232558139534884    | 0.0232558139534884    | 0.0232558139534884    | 0.0232558139534884    | 0.0232558139534884    | 0.0232558139534884    | 0.0232558139534884    | 0.0232558139534884    | 0.0232558139534884    | 0.0232558139534884    | 0.0232558139534884    | 0.001637733377006224  | 0.0008487523340689175 | 0.001637733377006224  | 0.001637733377006224  | 0.00015906849489390136 | 0.00034710170079833407 | 0.00028997274256219933 | 0.0002899727425621993 | 0.0005728032993470041 | 0.00021815960556743322 | 0.0005728032993470039 | 0.0005728032993470041 |\n",
            "+------------------------+-----------------------+------------------------+------------------------+------------------------+-----------------------+-----------------------+-----------------------+-----------------------+-----------------------+-----------------------+-----------------------+-----------------------+-----------------------+-----------------------+-----------------------+-----------------------+-----------------------+-----------------------+-----------------------+-----------------------+-----------------------+-----------------------+-----------------------+-----------------------+-----------------------+-----------------------+-----------------------+-----------------------+-----------------------+-----------------------+-----------------------+------------------------+------------------------+------------------------+-----------------------+-----------------------+-----------------------+-----------------------+-----------------------+-----------------------+-----------------------+-----------------------+-----------------------+-----------------------+-----------------------+-----------------------+-----------------------+-----------------------+-----------------------+-----------------------+-----------------------+-----------------------+-----------------------+-----------------------+-----------------------+-----------------------+-----------------------+-----------------------+------------------------+------------------------+------------------------+-----------------------+-----------------------+------------------------+-----------------------+-----------------------+\n",
            "| petal length (cm)(4.3) | 0.0003471017007983345 | 6.0593574657343216e-05 | 0.00024899158408445826 | 0.00024899158408445826 | 0.0016377333770062241 | 0.0016377333770062246 | 0.0232558139534884    | 0.0232558139534884    | 0.0232558139534884    | 0.0232558139534884    | 0.0232558139534884    | 0.0232558139534884    | 0.0232558139534884    | 0.0232558139534884    | 0.0232558139534884    | 0.0232558139534884    | 0.0232558139534884    | 0.0232558139534884    | 0.0232558139534884    | 0.0232558139534884    | 0.0232558139534884    | 0.0232558139534884    | 0.0232558139534884    | 0.0232558139534884    | 0.0232558139534884    | 0.0232558139534884    | 0.0232558139534884    | 0.0232558139534884    | 0.0002489915840844582 | 0.0005728032993470033 | 0.0003471017007983343 | 0.15308954701015934    | 0.00024899158408445805 | 0.00017485574401119086 | 0.0005728032993470037 | 0.001637733377006224  | 0.001637733377006224  | 0.0232558139534884    | 0.0232558139534884    | 0.0232558139534884    | 0.0232558139534884    | 0.0232558139534884    | 0.0232558139534884    | 0.0232558139534884    | 0.0232558139534884    | 0.0232558139534884    | 0.0232558139534884    | 0.0232558139534884    | 0.0232558139534884    | 0.0232558139534884    | 0.0232558139534884    | 0.0232558139534884    | 0.0232558139534884    | 0.0232558139534884    | 0.001637733377006224  | 0.0008487523340689175 | 0.001637733377006224  | 0.001637733377006224  | 0.00015906849489390136 | 0.00034710170079833407 | 0.00028997274256219933 | 0.0002899727425621993 | 0.0005728032993470041 | 0.00021815960556743322 | 0.0005728032993470039 | 0.0005728032993470041 |\n",
            "+------------------------+-----------------------+------------------------+------------------------+------------------------+-----------------------+-----------------------+-----------------------+-----------------------+-----------------------+-----------------------+-----------------------+-----------------------+-----------------------+-----------------------+-----------------------+-----------------------+-----------------------+-----------------------+-----------------------+-----------------------+-----------------------+-----------------------+-----------------------+-----------------------+-----------------------+-----------------------+-----------------------+-----------------------+-----------------------+-----------------------+-----------------------+------------------------+------------------------+------------------------+-----------------------+-----------------------+-----------------------+-----------------------+-----------------------+-----------------------+-----------------------+-----------------------+-----------------------+-----------------------+-----------------------+-----------------------+-----------------------+-----------------------+-----------------------+-----------------------+-----------------------+-----------------------+-----------------------+-----------------------+-----------------------+-----------------------+-----------------------+-----------------------+------------------------+------------------------+------------------------+-----------------------+-----------------------+------------------------+-----------------------+-----------------------+\n",
            "| petal length (cm)(4.4) | 0.0003471017007983345 | 6.0593574657343216e-05 | 0.00024899158408445826 | 0.00024899158408445826 | 0.0016377333770062241 | 0.0016377333770062246 | 0.0232558139534884    | 0.0232558139534884    | 0.0232558139534884    | 0.0232558139534884    | 0.0232558139534884    | 0.0232558139534884    | 0.0232558139534884    | 0.0232558139534884    | 0.0232558139534884    | 0.0232558139534884    | 0.0232558139534884    | 0.0232558139534884    | 0.0232558139534884    | 0.0232558139534884    | 0.0232558139534884    | 0.0232558139534884    | 0.0232558139534884    | 0.0232558139534884    | 0.0232558139534884    | 0.0232558139534884    | 0.0232558139534884    | 0.0232558139534884    | 0.0002489915840844582 | 0.0005728032993470033 | 0.19736202707393286   | 0.07661214260691479    | 0.2829042378367613     | 0.00017485574401119086 | 0.0005728032993470037 | 0.001637733377006224  | 0.001637733377006224  | 0.0232558139534884    | 0.0232558139534884    | 0.0232558139534884    | 0.0232558139534884    | 0.0232558139534884    | 0.0232558139534884    | 0.0232558139534884    | 0.0232558139534884    | 0.0232558139534884    | 0.0232558139534884    | 0.0232558139534884    | 0.0232558139534884    | 0.0232558139534884    | 0.0232558139534884    | 0.0232558139534884    | 0.0232558139534884    | 0.0232558139534884    | 0.001637733377006224  | 0.0008487523340689175 | 0.001637733377006224  | 0.001637733377006224  | 0.00015906849489390136 | 0.00034710170079833407 | 0.00028997274256219933 | 0.0002899727425621993 | 0.0005728032993470041 | 0.00021815960556743322 | 0.0005728032993470039 | 0.0005728032993470041 |\n",
            "+------------------------+-----------------------+------------------------+------------------------+------------------------+-----------------------+-----------------------+-----------------------+-----------------------+-----------------------+-----------------------+-----------------------+-----------------------+-----------------------+-----------------------+-----------------------+-----------------------+-----------------------+-----------------------+-----------------------+-----------------------+-----------------------+-----------------------+-----------------------+-----------------------+-----------------------+-----------------------+-----------------------+-----------------------+-----------------------+-----------------------+-----------------------+------------------------+------------------------+------------------------+-----------------------+-----------------------+-----------------------+-----------------------+-----------------------+-----------------------+-----------------------+-----------------------+-----------------------+-----------------------+-----------------------+-----------------------+-----------------------+-----------------------+-----------------------+-----------------------+-----------------------+-----------------------+-----------------------+-----------------------+-----------------------+-----------------------+-----------------------+-----------------------+------------------------+------------------------+------------------------+-----------------------+-----------------------+------------------------+-----------------------+-----------------------+\n",
            "| petal length (cm)(4.5) | 0.0003471017007983345 | 6.0593574657343216e-05 | 0.00024899158408445826 | 0.00024899158408445826 | 0.0016377333770062241 | 0.0016377333770062246 | 0.0232558139534884    | 0.0232558139534884    | 0.0232558139534884    | 0.0232558139534884    | 0.0232558139534884    | 0.0232558139534884    | 0.0232558139534884    | 0.0232558139534884    | 0.0232558139534884    | 0.0232558139534884    | 0.0232558139534884    | 0.0232558139534884    | 0.0232558139534884    | 0.0232558139534884    | 0.0232558139534884    | 0.0232558139534884    | 0.0232558139534884    | 0.0232558139534884    | 0.0232558139534884    | 0.0232558139534884    | 0.0232558139534884    | 0.0232558139534884    | 0.0002489915840844582 | 0.0005728032993470033 | 0.0003471017007983343 | 0.07661214260691479    | 0.00024899158408445805 | 0.4964154572477708     | 0.3256959560087062    | 0.001637733377006224  | 0.001637733377006224  | 0.0232558139534884    | 0.0232558139534884    | 0.0232558139534884    | 0.0232558139534884    | 0.0232558139534884    | 0.0232558139534884    | 0.0232558139534884    | 0.0232558139534884    | 0.0232558139534884    | 0.0232558139534884    | 0.0232558139534884    | 0.0232558139534884    | 0.0232558139534884    | 0.0232558139534884    | 0.0232558139534884    | 0.0232558139534884    | 0.0232558139534884    | 0.001637733377006224  | 0.0008487523340689175 | 0.001637733377006224  | 0.9312151981657388    | 0.00015906849489390136 | 0.00034710170079833407 | 0.00028997274256219933 | 0.0002899727425621993 | 0.0005728032993470041 | 0.00021815960556743322 | 0.0005728032993470039 | 0.0005728032993470041 |\n",
            "+------------------------+-----------------------+------------------------+------------------------+------------------------+-----------------------+-----------------------+-----------------------+-----------------------+-----------------------+-----------------------+-----------------------+-----------------------+-----------------------+-----------------------+-----------------------+-----------------------+-----------------------+-----------------------+-----------------------+-----------------------+-----------------------+-----------------------+-----------------------+-----------------------+-----------------------+-----------------------+-----------------------+-----------------------+-----------------------+-----------------------+-----------------------+------------------------+------------------------+------------------------+-----------------------+-----------------------+-----------------------+-----------------------+-----------------------+-----------------------+-----------------------+-----------------------+-----------------------+-----------------------+-----------------------+-----------------------+-----------------------+-----------------------+-----------------------+-----------------------+-----------------------+-----------------------+-----------------------+-----------------------+-----------------------+-----------------------+-----------------------+-----------------------+------------------------+------------------------+------------------------+-----------------------+-----------------------+------------------------+-----------------------+-----------------------+\n",
            "| petal length (cm)(4.6) | 0.0003471017007983345 | 6.0593574657343216e-05 | 0.00024899158408445826 | 0.00024899158408445826 | 0.0016377333770062241 | 0.0016377333770062246 | 0.0232558139534884    | 0.0232558139534884    | 0.0232558139534884    | 0.0232558139534884    | 0.0232558139534884    | 0.0232558139534884    | 0.0232558139534884    | 0.0232558139534884    | 0.0232558139534884    | 0.0232558139534884    | 0.0232558139534884    | 0.0232558139534884    | 0.0232558139534884    | 0.0232558139534884    | 0.0232558139534884    | 0.0232558139534884    | 0.0232558139534884    | 0.0232558139534884    | 0.0232558139534884    | 0.0232558139534884    | 0.0232558139534884    | 0.0232558139534884    | 0.0002489915840844582 | 0.0005728032993470033 | 0.0003471017007983343 | 0.07661214260691479    | 0.14157661471042285    | 0.09942297604476312    | 0.0005728032993470037 | 0.001637733377006224  | 0.001637733377006224  | 0.0232558139534884    | 0.0232558139534884    | 0.0232558139534884    | 0.0232558139534884    | 0.0232558139534884    | 0.0232558139534884    | 0.0232558139534884    | 0.0232558139534884    | 0.0232558139534884    | 0.0232558139534884    | 0.0232558139534884    | 0.0232558139534884    | 0.0232558139534884    | 0.0232558139534884    | 0.0232558139534884    | 0.0232558139534884    | 0.0232558139534884    | 0.001637733377006224  | 0.0008487523340689175 | 0.001637733377006224  | 0.001637733377006224  | 0.00015906849489390136 | 0.00034710170079833407 | 0.00028997274256219933 | 0.0002899727425621993 | 0.0005728032993470041 | 0.00021815960556743322 | 0.0005728032993470039 | 0.0005728032993470041 |\n",
            "+------------------------+-----------------------+------------------------+------------------------+------------------------+-----------------------+-----------------------+-----------------------+-----------------------+-----------------------+-----------------------+-----------------------+-----------------------+-----------------------+-----------------------+-----------------------+-----------------------+-----------------------+-----------------------+-----------------------+-----------------------+-----------------------+-----------------------+-----------------------+-----------------------+-----------------------+-----------------------+-----------------------+-----------------------+-----------------------+-----------------------+-----------------------+------------------------+------------------------+------------------------+-----------------------+-----------------------+-----------------------+-----------------------+-----------------------+-----------------------+-----------------------+-----------------------+-----------------------+-----------------------+-----------------------+-----------------------+-----------------------+-----------------------+-----------------------+-----------------------+-----------------------+-----------------------+-----------------------+-----------------------+-----------------------+-----------------------+-----------------------+-----------------------+------------------------+------------------------+------------------------+-----------------------+-----------------------+------------------------+-----------------------+-----------------------+\n",
            "| petal length (cm)(4.7) | 0.0003471017007983345 | 6.0593574657343216e-05 | 0.00024899158408445826 | 0.00024899158408445826 | 0.0016377333770062241 | 0.0016377333770062246 | 0.0232558139534884    | 0.0232558139534884    | 0.0232558139534884    | 0.0232558139534884    | 0.0232558139534884    | 0.0232558139534884    | 0.0232558139534884    | 0.0232558139534884    | 0.0232558139534884    | 0.0232558139534884    | 0.0232558139534884    | 0.0232558139534884    | 0.0232558139534884    | 0.0232558139534884    | 0.0232558139534884    | 0.0232558139534884    | 0.0232558139534884    | 0.0232558139534884    | 0.0232558139534884    | 0.0232558139534884    | 0.0232558139534884    | 0.0232558139534884    | 0.0002489915840844582 | 0.0005728032993470033 | 0.19736202707393286   | 0.00013473820367026872 | 0.2829042378367613     | 0.09942297604476312    | 0.3256959560087062    | 0.001637733377006224  | 0.001637733377006224  | 0.0232558139534884    | 0.0232558139534884    | 0.0232558139534884    | 0.0232558139534884    | 0.0232558139534884    | 0.0232558139534884    | 0.0232558139534884    | 0.0232558139534884    | 0.0232558139534884    | 0.0232558139534884    | 0.0232558139534884    | 0.0232558139534884    | 0.0232558139534884    | 0.0232558139534884    | 0.0232558139534884    | 0.0232558139534884    | 0.0232558139534884    | 0.001637733377006224  | 0.0008487523340689175 | 0.001637733377006224  | 0.001637733377006224  | 0.00015906849489390136 | 0.00034710170079833407 | 0.00028997274256219933 | 0.0002899727425621993 | 0.0005728032993470041 | 0.00021815960556743322 | 0.0005728032993470039 | 0.0005728032993470041 |\n",
            "+------------------------+-----------------------+------------------------+------------------------+------------------------+-----------------------+-----------------------+-----------------------+-----------------------+-----------------------+-----------------------+-----------------------+-----------------------+-----------------------+-----------------------+-----------------------+-----------------------+-----------------------+-----------------------+-----------------------+-----------------------+-----------------------+-----------------------+-----------------------+-----------------------+-----------------------+-----------------------+-----------------------+-----------------------+-----------------------+-----------------------+-----------------------+------------------------+------------------------+------------------------+-----------------------+-----------------------+-----------------------+-----------------------+-----------------------+-----------------------+-----------------------+-----------------------+-----------------------+-----------------------+-----------------------+-----------------------+-----------------------+-----------------------+-----------------------+-----------------------+-----------------------+-----------------------+-----------------------+-----------------------+-----------------------+-----------------------+-----------------------+-----------------------+------------------------+------------------------+------------------------+-----------------------+-----------------------+------------------------+-----------------------+-----------------------+\n",
            "| petal length (cm)(4.8) | 0.0003471017007983345 | 6.0593574657343216e-05 | 0.00024899158408445826 | 0.00024899158408445826 | 0.0016377333770062241 | 0.0016377333770062246 | 0.0232558139534884    | 0.0232558139534884    | 0.0232558139534884    | 0.0232558139534884    | 0.0232558139534884    | 0.0232558139534884    | 0.0232558139534884    | 0.0232558139534884    | 0.0232558139534884    | 0.0232558139534884    | 0.0232558139534884    | 0.0232558139534884    | 0.0232558139534884    | 0.0232558139534884    | 0.0232558139534884    | 0.0232558139534884    | 0.0232558139534884    | 0.0232558139534884    | 0.0232558139534884    | 0.0232558139534884    | 0.0232558139534884    | 0.0232558139534884    | 0.0002489915840844582 | 0.0005728032993470033 | 0.0003471017007983343 | 0.00013473820367026872 | 0.14157661471042285    | 0.00017485574401119086 | 0.0005728032993470037 | 0.001637733377006224  | 0.9312151981657388    | 0.0232558139534884    | 0.0232558139534884    | 0.0232558139534884    | 0.0232558139534884    | 0.0232558139534884    | 0.0232558139534884    | 0.0232558139534884    | 0.0232558139534884    | 0.0232558139534884    | 0.0232558139534884    | 0.0232558139534884    | 0.0232558139534884    | 0.0232558139534884    | 0.0232558139534884    | 0.0232558139534884    | 0.0232558139534884    | 0.0232558139534884    | 0.001637733377006224  | 0.0008487523340689175 | 0.001637733377006224  | 0.001637733377006224  | 0.18073362389845074    | 0.00034710170079833407 | 0.00028997274256219933 | 0.0002899727425621993 | 0.0005728032993470041 | 0.00021815960556743322 | 0.0005728032993470039 | 0.0005728032993470041 |\n",
            "+------------------------+-----------------------+------------------------+------------------------+------------------------+-----------------------+-----------------------+-----------------------+-----------------------+-----------------------+-----------------------+-----------------------+-----------------------+-----------------------+-----------------------+-----------------------+-----------------------+-----------------------+-----------------------+-----------------------+-----------------------+-----------------------+-----------------------+-----------------------+-----------------------+-----------------------+-----------------------+-----------------------+-----------------------+-----------------------+-----------------------+-----------------------+------------------------+------------------------+------------------------+-----------------------+-----------------------+-----------------------+-----------------------+-----------------------+-----------------------+-----------------------+-----------------------+-----------------------+-----------------------+-----------------------+-----------------------+-----------------------+-----------------------+-----------------------+-----------------------+-----------------------+-----------------------+-----------------------+-----------------------+-----------------------+-----------------------+-----------------------+-----------------------+------------------------+------------------------+------------------------+-----------------------+-----------------------+------------------------+-----------------------+-----------------------+\n",
            "| petal length (cm)(4.9) | 0.0003471017007983345 | 6.0593574657343216e-05 | 0.00024899158408445826 | 0.00024899158408445826 | 0.0016377333770062241 | 0.0016377333770062246 | 0.0232558139534884    | 0.0232558139534884    | 0.0232558139534884    | 0.0232558139534884    | 0.0232558139534884    | 0.0232558139534884    | 0.0232558139534884    | 0.0232558139534884    | 0.0232558139534884    | 0.0232558139534884    | 0.0232558139534884    | 0.0232558139534884    | 0.0232558139534884    | 0.0232558139534884    | 0.0232558139534884    | 0.0232558139534884    | 0.0232558139534884    | 0.0232558139534884    | 0.0232558139534884    | 0.0232558139534884    | 0.0232558139534884    | 0.0232558139534884    | 0.0002489915840844582 | 0.0005728032993470033 | 0.0003471017007983343 | 0.00013473820367026872 | 0.00024899158408445805 | 0.19867109634551508    | 0.0005728032993470037 | 0.001637733377006224  | 0.001637733377006224  | 0.0232558139534884    | 0.0232558139534884    | 0.0232558139534884    | 0.0232558139534884    | 0.0232558139534884    | 0.0232558139534884    | 0.0232558139534884    | 0.0232558139534884    | 0.0232558139534884    | 0.0232558139534884    | 0.0232558139534884    | 0.0232558139534884    | 0.0232558139534884    | 0.0232558139534884    | 0.0232558139534884    | 0.0232558139534884    | 0.0232558139534884    | 0.001637733377006224  | 0.0008487523340689175 | 0.001637733377006224  | 0.001637733377006224  | 0.18073362389845074    | 0.00034710170079833407 | 0.16487850142086655    | 0.0002899727425621993 | 0.0005728032993470041 | 0.00021815960556743322 | 0.0005728032993470039 | 0.0005728032993470041 |\n",
            "+------------------------+-----------------------+------------------------+------------------------+------------------------+-----------------------+-----------------------+-----------------------+-----------------------+-----------------------+-----------------------+-----------------------+-----------------------+-----------------------+-----------------------+-----------------------+-----------------------+-----------------------+-----------------------+-----------------------+-----------------------+-----------------------+-----------------------+-----------------------+-----------------------+-----------------------+-----------------------+-----------------------+-----------------------+-----------------------+-----------------------+-----------------------+------------------------+------------------------+------------------------+-----------------------+-----------------------+-----------------------+-----------------------+-----------------------+-----------------------+-----------------------+-----------------------+-----------------------+-----------------------+-----------------------+-----------------------+-----------------------+-----------------------+-----------------------+-----------------------+-----------------------+-----------------------+-----------------------+-----------------------+-----------------------+-----------------------+-----------------------+-----------------------+------------------------+------------------------+------------------------+-----------------------+-----------------------+------------------------+-----------------------+-----------------------+\n",
            "| petal length (cm)(5.0) | 0.0003471017007983345 | 6.0593574657343216e-05 | 0.00024899158408445826 | 0.00024899158408445826 | 0.0016377333770062241 | 0.0016377333770062246 | 0.0232558139534884    | 0.0232558139534884    | 0.0232558139534884    | 0.0232558139534884    | 0.0232558139534884    | 0.0232558139534884    | 0.0232558139534884    | 0.0232558139534884    | 0.0232558139534884    | 0.0232558139534884    | 0.0232558139534884    | 0.0232558139534884    | 0.0232558139534884    | 0.0232558139534884    | 0.0232558139534884    | 0.0232558139534884    | 0.0232558139534884    | 0.0232558139534884    | 0.0232558139534884    | 0.0232558139534884    | 0.0232558139534884    | 0.0232558139534884    | 0.0002489915840844582 | 0.0005728032993470033 | 0.0003471017007983343 | 0.00013473820367026872 | 0.00024899158408445805 | 0.00017485574401119086 | 0.0005728032993470037 | 0.9312151981657388    | 0.001637733377006224  | 0.0232558139534884    | 0.0232558139534884    | 0.0232558139534884    | 0.0232558139534884    | 0.0232558139534884    | 0.0232558139534884    | 0.0232558139534884    | 0.0232558139534884    | 0.0232558139534884    | 0.0232558139534884    | 0.0232558139534884    | 0.0232558139534884    | 0.0232558139534884    | 0.0232558139534884    | 0.0232558139534884    | 0.0232558139534884    | 0.0232558139534884    | 0.001637733377006224  | 0.48260057715158644   | 0.001637733377006224  | 0.001637733377006224  | 0.00015906849489390136 | 0.19736202707393274    | 0.16487850142086655    | 0.0002899727425621993 | 0.0005728032993470041 | 0.00021815960556743322 | 0.0005728032993470039 | 0.0005728032993470041 |\n",
            "+------------------------+-----------------------+------------------------+------------------------+------------------------+-----------------------+-----------------------+-----------------------+-----------------------+-----------------------+-----------------------+-----------------------+-----------------------+-----------------------+-----------------------+-----------------------+-----------------------+-----------------------+-----------------------+-----------------------+-----------------------+-----------------------+-----------------------+-----------------------+-----------------------+-----------------------+-----------------------+-----------------------+-----------------------+-----------------------+-----------------------+-----------------------+------------------------+------------------------+------------------------+-----------------------+-----------------------+-----------------------+-----------------------+-----------------------+-----------------------+-----------------------+-----------------------+-----------------------+-----------------------+-----------------------+-----------------------+-----------------------+-----------------------+-----------------------+-----------------------+-----------------------+-----------------------+-----------------------+-----------------------+-----------------------+-----------------------+-----------------------+-----------------------+------------------------+------------------------+------------------------+-----------------------+-----------------------+------------------------+-----------------------+-----------------------+\n",
            "| petal length (cm)(5.1) | 0.0003471017007983345 | 6.0593574657343216e-05 | 0.00024899158408445826 | 0.00024899158408445826 | 0.0016377333770062241 | 0.0016377333770062246 | 0.0232558139534884    | 0.0232558139534884    | 0.0232558139534884    | 0.0232558139534884    | 0.0232558139534884    | 0.0232558139534884    | 0.0232558139534884    | 0.0232558139534884    | 0.0232558139534884    | 0.0232558139534884    | 0.0232558139534884    | 0.0232558139534884    | 0.0232558139534884    | 0.0232558139534884    | 0.0232558139534884    | 0.0232558139534884    | 0.0232558139534884    | 0.0232558139534884    | 0.0232558139534884    | 0.0232558139534884    | 0.0232558139534884    | 0.0232558139534884    | 0.0002489915840844582 | 0.0005728032993470033 | 0.0003471017007983343 | 0.00013473820367026872 | 0.00024899158408445805 | 0.00017485574401119086 | 0.3256959560087062    | 0.001637733377006224  | 0.001637733377006224  | 0.0232558139534884    | 0.0232558139534884    | 0.0232558139534884    | 0.0232558139534884    | 0.0232558139534884    | 0.0232558139534884    | 0.0232558139534884    | 0.0232558139534884    | 0.0232558139534884    | 0.0232558139534884    | 0.0232558139534884    | 0.0232558139534884    | 0.0232558139534884    | 0.0232558139534884    | 0.0232558139534884    | 0.0232558139534884    | 0.0232558139534884    | 0.001637733377006224  | 0.48260057715158644   | 0.001637733377006224  | 0.001637733377006224  | 0.09044634619667231    | 0.3943769524470672     | 0.16487850142086655    | 0.0002899727425621993 | 0.0005728032993470041 | 0.12404555172564252    | 0.3256959560087064    | 0.0005728032993470041 |\n",
            "+------------------------+-----------------------+------------------------+------------------------+------------------------+-----------------------+-----------------------+-----------------------+-----------------------+-----------------------+-----------------------+-----------------------+-----------------------+-----------------------+-----------------------+-----------------------+-----------------------+-----------------------+-----------------------+-----------------------+-----------------------+-----------------------+-----------------------+-----------------------+-----------------------+-----------------------+-----------------------+-----------------------+-----------------------+-----------------------+-----------------------+-----------------------+------------------------+------------------------+------------------------+-----------------------+-----------------------+-----------------------+-----------------------+-----------------------+-----------------------+-----------------------+-----------------------+-----------------------+-----------------------+-----------------------+-----------------------+-----------------------+-----------------------+-----------------------+-----------------------+-----------------------+-----------------------+-----------------------+-----------------------+-----------------------+-----------------------+-----------------------+-----------------------+------------------------+------------------------+------------------------+-----------------------+-----------------------+------------------------+-----------------------+-----------------------+\n",
            "| petal length (cm)(5.2) | 0.0003471017007983345 | 6.0593574657343216e-05 | 0.00024899158408445826 | 0.00024899158408445826 | 0.0016377333770062241 | 0.0016377333770062246 | 0.0232558139534884    | 0.0232558139534884    | 0.0232558139534884    | 0.0232558139534884    | 0.0232558139534884    | 0.0232558139534884    | 0.0232558139534884    | 0.0232558139534884    | 0.0232558139534884    | 0.0232558139534884    | 0.0232558139534884    | 0.0232558139534884    | 0.0232558139534884    | 0.0232558139534884    | 0.0232558139534884    | 0.0232558139534884    | 0.0232558139534884    | 0.0232558139534884    | 0.0232558139534884    | 0.0232558139534884    | 0.0232558139534884    | 0.0232558139534884    | 0.0002489915840844582 | 0.0005728032993470033 | 0.0003471017007983343 | 0.00013473820367026872 | 0.00024899158408445805 | 0.00017485574401119086 | 0.0005728032993470037 | 0.001637733377006224  | 0.001637733377006224  | 0.0232558139534884    | 0.0232558139534884    | 0.0232558139534884    | 0.0232558139534884    | 0.0232558139534884    | 0.0232558139534884    | 0.0232558139534884    | 0.0232558139534884    | 0.0232558139534884    | 0.0232558139534884    | 0.0232558139534884    | 0.0232558139534884    | 0.0232558139534884    | 0.0232558139534884    | 0.0232558139534884    | 0.0232558139534884    | 0.0232558139534884    | 0.001637733377006224  | 0.0008487523340689175 | 0.001637733377006224  | 0.001637733377006224  | 0.00015906849489390136 | 0.00034710170079833407 | 0.16487850142086655    | 0.0002899727425621993 | 0.0005728032993470041 | 0.12404555172564252    | 0.0005728032993470039 | 0.0005728032993470041 |\n",
            "+------------------------+-----------------------+------------------------+------------------------+------------------------+-----------------------+-----------------------+-----------------------+-----------------------+-----------------------+-----------------------+-----------------------+-----------------------+-----------------------+-----------------------+-----------------------+-----------------------+-----------------------+-----------------------+-----------------------+-----------------------+-----------------------+-----------------------+-----------------------+-----------------------+-----------------------+-----------------------+-----------------------+-----------------------+-----------------------+-----------------------+-----------------------+------------------------+------------------------+------------------------+-----------------------+-----------------------+-----------------------+-----------------------+-----------------------+-----------------------+-----------------------+-----------------------+-----------------------+-----------------------+-----------------------+-----------------------+-----------------------+-----------------------+-----------------------+-----------------------+-----------------------+-----------------------+-----------------------+-----------------------+-----------------------+-----------------------+-----------------------+-----------------------+------------------------+------------------------+------------------------+-----------------------+-----------------------+------------------------+-----------------------+-----------------------+\n",
            "| petal length (cm)(5.3) | 0.0003471017007983345 | 6.0593574657343216e-05 | 0.00024899158408445826 | 0.00024899158408445826 | 0.0016377333770062241 | 0.0016377333770062246 | 0.0232558139534884    | 0.0232558139534884    | 0.0232558139534884    | 0.0232558139534884    | 0.0232558139534884    | 0.0232558139534884    | 0.0232558139534884    | 0.0232558139534884    | 0.0232558139534884    | 0.0232558139534884    | 0.0232558139534884    | 0.0232558139534884    | 0.0232558139534884    | 0.0232558139534884    | 0.0232558139534884    | 0.0232558139534884    | 0.0232558139534884    | 0.0232558139534884    | 0.0232558139534884    | 0.0232558139534884    | 0.0232558139534884    | 0.0232558139534884    | 0.0002489915840844582 | 0.0005728032993470033 | 0.0003471017007983343 | 0.00013473820367026872 | 0.00024899158408445805 | 0.00017485574401119086 | 0.0005728032993470037 | 0.001637733377006224  | 0.001637733377006224  | 0.0232558139534884    | 0.0232558139534884    | 0.0232558139534884    | 0.0232558139534884    | 0.0232558139534884    | 0.0232558139534884    | 0.0232558139534884    | 0.0232558139534884    | 0.0232558139534884    | 0.0232558139534884    | 0.0232558139534884    | 0.0232558139534884    | 0.0232558139534884    | 0.0232558139534884    | 0.0232558139534884    | 0.0232558139534884    | 0.0232558139534884    | 0.001637733377006224  | 0.0008487523340689175 | 0.001637733377006224  | 0.001637733377006224  | 0.00015906849489390136 | 0.19736202707393274    | 0.00028997274256219933 | 0.0002899727425621993 | 0.0005728032993470041 | 0.12404555172564252    | 0.0005728032993470039 | 0.0005728032993470041 |\n",
            "+------------------------+-----------------------+------------------------+------------------------+------------------------+-----------------------+-----------------------+-----------------------+-----------------------+-----------------------+-----------------------+-----------------------+-----------------------+-----------------------+-----------------------+-----------------------+-----------------------+-----------------------+-----------------------+-----------------------+-----------------------+-----------------------+-----------------------+-----------------------+-----------------------+-----------------------+-----------------------+-----------------------+-----------------------+-----------------------+-----------------------+-----------------------+------------------------+------------------------+------------------------+-----------------------+-----------------------+-----------------------+-----------------------+-----------------------+-----------------------+-----------------------+-----------------------+-----------------------+-----------------------+-----------------------+-----------------------+-----------------------+-----------------------+-----------------------+-----------------------+-----------------------+-----------------------+-----------------------+-----------------------+-----------------------+-----------------------+-----------------------+-----------------------+------------------------+------------------------+------------------------+-----------------------+-----------------------+------------------------+-----------------------+-----------------------+\n",
            "| petal length (cm)(5.4) | 0.0003471017007983345 | 6.0593574657343216e-05 | 0.00024899158408445826 | 0.00024899158408445826 | 0.0016377333770062241 | 0.0016377333770062246 | 0.0232558139534884    | 0.0232558139534884    | 0.0232558139534884    | 0.0232558139534884    | 0.0232558139534884    | 0.0232558139534884    | 0.0232558139534884    | 0.0232558139534884    | 0.0232558139534884    | 0.0232558139534884    | 0.0232558139534884    | 0.0232558139534884    | 0.0232558139534884    | 0.0232558139534884    | 0.0232558139534884    | 0.0232558139534884    | 0.0232558139534884    | 0.0232558139534884    | 0.0232558139534884    | 0.0232558139534884    | 0.0232558139534884    | 0.0232558139534884    | 0.0002489915840844582 | 0.0005728032993470033 | 0.0003471017007983343 | 0.00013473820367026872 | 0.00024899158408445805 | 0.00017485574401119086 | 0.0005728032993470037 | 0.001637733377006224  | 0.001637733377006224  | 0.0232558139534884    | 0.0232558139534884    | 0.0232558139534884    | 0.0232558139534884    | 0.0232558139534884    | 0.0232558139534884    | 0.0232558139534884    | 0.0232558139534884    | 0.0232558139534884    | 0.0232558139534884    | 0.0232558139534884    | 0.0232558139534884    | 0.0232558139534884    | 0.0232558139534884    | 0.0232558139534884    | 0.0232558139534884    | 0.0232558139534884    | 0.001637733377006224  | 0.0008487523340689175 | 0.001637733377006224  | 0.001637733377006224  | 0.00015906849489390136 | 0.00034710170079833407 | 0.00028997274256219933 | 0.1648785014208665    | 0.0005728032993470041 | 0.12404555172564252    | 0.0005728032993470039 | 0.0005728032993470041 |\n",
            "+------------------------+-----------------------+------------------------+------------------------+------------------------+-----------------------+-----------------------+-----------------------+-----------------------+-----------------------+-----------------------+-----------------------+-----------------------+-----------------------+-----------------------+-----------------------+-----------------------+-----------------------+-----------------------+-----------------------+-----------------------+-----------------------+-----------------------+-----------------------+-----------------------+-----------------------+-----------------------+-----------------------+-----------------------+-----------------------+-----------------------+-----------------------+------------------------+------------------------+------------------------+-----------------------+-----------------------+-----------------------+-----------------------+-----------------------+-----------------------+-----------------------+-----------------------+-----------------------+-----------------------+-----------------------+-----------------------+-----------------------+-----------------------+-----------------------+-----------------------+-----------------------+-----------------------+-----------------------+-----------------------+-----------------------+-----------------------+-----------------------+-----------------------+------------------------+------------------------+------------------------+-----------------------+-----------------------+------------------------+-----------------------+-----------------------+\n",
            "| petal length (cm)(5.5) | 0.0003471017007983345 | 6.0593574657343216e-05 | 0.00024899158408445826 | 0.00024899158408445826 | 0.0016377333770062241 | 0.0016377333770062246 | 0.0232558139534884    | 0.0232558139534884    | 0.0232558139534884    | 0.0232558139534884    | 0.0232558139534884    | 0.0232558139534884    | 0.0232558139534884    | 0.0232558139534884    | 0.0232558139534884    | 0.0232558139534884    | 0.0232558139534884    | 0.0232558139534884    | 0.0232558139534884    | 0.0232558139534884    | 0.0232558139534884    | 0.0232558139534884    | 0.0232558139534884    | 0.0232558139534884    | 0.0232558139534884    | 0.0232558139534884    | 0.0232558139534884    | 0.0232558139534884    | 0.0002489915840844582 | 0.0005728032993470033 | 0.0003471017007983343 | 0.00013473820367026872 | 0.00024899158408445805 | 0.00017485574401119086 | 0.0005728032993470037 | 0.001637733377006224  | 0.001637733377006224  | 0.0232558139534884    | 0.0232558139534884    | 0.0232558139534884    | 0.0232558139534884    | 0.0232558139534884    | 0.0232558139534884    | 0.0232558139534884    | 0.0232558139534884    | 0.0232558139534884    | 0.0232558139534884    | 0.0232558139534884    | 0.0232558139534884    | 0.0232558139534884    | 0.0232558139534884    | 0.0232558139534884    | 0.0232558139534884    | 0.0232558139534884    | 0.001637733377006224  | 0.0008487523340689175 | 0.001637733377006224  | 0.001637733377006224  | 0.18073362389845074    | 0.00034710170079833407 | 0.00028997274256219933 | 0.1648785014208665    | 0.0005728032993470041 | 0.00021815960556743322 | 0.0005728032993470039 | 0.0005728032993470041 |\n",
            "+------------------------+-----------------------+------------------------+------------------------+------------------------+-----------------------+-----------------------+-----------------------+-----------------------+-----------------------+-----------------------+-----------------------+-----------------------+-----------------------+-----------------------+-----------------------+-----------------------+-----------------------+-----------------------+-----------------------+-----------------------+-----------------------+-----------------------+-----------------------+-----------------------+-----------------------+-----------------------+-----------------------+-----------------------+-----------------------+-----------------------+-----------------------+------------------------+------------------------+------------------------+-----------------------+-----------------------+-----------------------+-----------------------+-----------------------+-----------------------+-----------------------+-----------------------+-----------------------+-----------------------+-----------------------+-----------------------+-----------------------+-----------------------+-----------------------+-----------------------+-----------------------+-----------------------+-----------------------+-----------------------+-----------------------+-----------------------+-----------------------+-----------------------+------------------------+------------------------+------------------------+-----------------------+-----------------------+------------------------+-----------------------+-----------------------+\n",
            "| petal length (cm)(5.6) | 0.0003471017007983345 | 6.0593574657343216e-05 | 0.00024899158408445826 | 0.00024899158408445826 | 0.0016377333770062241 | 0.0016377333770062246 | 0.0232558139534884    | 0.0232558139534884    | 0.0232558139534884    | 0.0232558139534884    | 0.0232558139534884    | 0.0232558139534884    | 0.0232558139534884    | 0.0232558139534884    | 0.0232558139534884    | 0.0232558139534884    | 0.0232558139534884    | 0.0232558139534884    | 0.0232558139534884    | 0.0232558139534884    | 0.0232558139534884    | 0.0232558139534884    | 0.0232558139534884    | 0.0232558139534884    | 0.0232558139534884    | 0.0232558139534884    | 0.0232558139534884    | 0.0232558139534884    | 0.0002489915840844582 | 0.0005728032993470033 | 0.0003471017007983343 | 0.00013473820367026872 | 0.00024899158408445805 | 0.00017485574401119086 | 0.0005728032993470037 | 0.001637733377006224  | 0.001637733377006224  | 0.0232558139534884    | 0.0232558139534884    | 0.0232558139534884    | 0.0232558139534884    | 0.0232558139534884    | 0.0232558139534884    | 0.0232558139534884    | 0.0232558139534884    | 0.0232558139534884    | 0.0232558139534884    | 0.0232558139534884    | 0.0232558139534884    | 0.0232558139534884    | 0.0232558139534884    | 0.0232558139534884    | 0.0232558139534884    | 0.0232558139534884    | 0.9312151981657388    | 0.0008487523340689175 | 0.001637733377006224  | 0.001637733377006224  | 0.09044634619667231    | 0.00034710170079833407 | 0.00028997274256219933 | 0.1648785014208665    | 0.32569595600870654   | 0.00021815960556743322 | 0.6508191087180658    | 0.0005728032993470041 |\n",
            "+------------------------+-----------------------+------------------------+------------------------+------------------------+-----------------------+-----------------------+-----------------------+-----------------------+-----------------------+-----------------------+-----------------------+-----------------------+-----------------------+-----------------------+-----------------------+-----------------------+-----------------------+-----------------------+-----------------------+-----------------------+-----------------------+-----------------------+-----------------------+-----------------------+-----------------------+-----------------------+-----------------------+-----------------------+-----------------------+-----------------------+-----------------------+------------------------+------------------------+------------------------+-----------------------+-----------------------+-----------------------+-----------------------+-----------------------+-----------------------+-----------------------+-----------------------+-----------------------+-----------------------+-----------------------+-----------------------+-----------------------+-----------------------+-----------------------+-----------------------+-----------------------+-----------------------+-----------------------+-----------------------+-----------------------+-----------------------+-----------------------+-----------------------+------------------------+------------------------+------------------------+-----------------------+-----------------------+------------------------+-----------------------+-----------------------+\n",
            "| petal length (cm)(5.7) | 0.0003471017007983345 | 6.0593574657343216e-05 | 0.00024899158408445826 | 0.00024899158408445826 | 0.0016377333770062241 | 0.0016377333770062246 | 0.0232558139534884    | 0.0232558139534884    | 0.0232558139534884    | 0.0232558139534884    | 0.0232558139534884    | 0.0232558139534884    | 0.0232558139534884    | 0.0232558139534884    | 0.0232558139534884    | 0.0232558139534884    | 0.0232558139534884    | 0.0232558139534884    | 0.0232558139534884    | 0.0232558139534884    | 0.0232558139534884    | 0.0232558139534884    | 0.0232558139534884    | 0.0232558139534884    | 0.0232558139534884    | 0.0232558139534884    | 0.0232558139534884    | 0.0232558139534884    | 0.0002489915840844582 | 0.0005728032993470033 | 0.0003471017007983343 | 0.00013473820367026872 | 0.00024899158408445805 | 0.00017485574401119086 | 0.0005728032993470037 | 0.001637733377006224  | 0.001637733377006224  | 0.0232558139534884    | 0.0232558139534884    | 0.0232558139534884    | 0.0232558139534884    | 0.0232558139534884    | 0.0232558139534884    | 0.0232558139534884    | 0.0232558139534884    | 0.0232558139534884    | 0.0232558139534884    | 0.0232558139534884    | 0.0232558139534884    | 0.0232558139534884    | 0.0232558139534884    | 0.0232558139534884    | 0.0232558139534884    | 0.0232558139534884    | 0.001637733377006224  | 0.0008487523340689175 | 0.001637733377006224  | 0.001637733377006224  | 0.00015906849489390136 | 0.00034710170079833407 | 0.00028997274256219933 | 0.1648785014208665    | 0.0005728032993470041 | 0.12404555172564252    | 0.0005728032993470039 | 0.32569595600870654   |\n",
            "+------------------------+-----------------------+------------------------+------------------------+------------------------+-----------------------+-----------------------+-----------------------+-----------------------+-----------------------+-----------------------+-----------------------+-----------------------+-----------------------+-----------------------+-----------------------+-----------------------+-----------------------+-----------------------+-----------------------+-----------------------+-----------------------+-----------------------+-----------------------+-----------------------+-----------------------+-----------------------+-----------------------+-----------------------+-----------------------+-----------------------+-----------------------+------------------------+------------------------+------------------------+-----------------------+-----------------------+-----------------------+-----------------------+-----------------------+-----------------------+-----------------------+-----------------------+-----------------------+-----------------------+-----------------------+-----------------------+-----------------------+-----------------------+-----------------------+-----------------------+-----------------------+-----------------------+-----------------------+-----------------------+-----------------------+-----------------------+-----------------------+-----------------------+------------------------+------------------------+------------------------+-----------------------+-----------------------+------------------------+-----------------------+-----------------------+\n",
            "| petal length (cm)(5.8) | 0.0003471017007983345 | 6.0593574657343216e-05 | 0.00024899158408445826 | 0.00024899158408445826 | 0.0016377333770062241 | 0.0016377333770062246 | 0.0232558139534884    | 0.0232558139534884    | 0.0232558139534884    | 0.0232558139534884    | 0.0232558139534884    | 0.0232558139534884    | 0.0232558139534884    | 0.0232558139534884    | 0.0232558139534884    | 0.0232558139534884    | 0.0232558139534884    | 0.0232558139534884    | 0.0232558139534884    | 0.0232558139534884    | 0.0232558139534884    | 0.0232558139534884    | 0.0232558139534884    | 0.0232558139534884    | 0.0232558139534884    | 0.0232558139534884    | 0.0232558139534884    | 0.0232558139534884    | 0.0002489915840844582 | 0.0005728032993470033 | 0.0003471017007983343 | 0.00013473820367026872 | 0.00024899158408445805 | 0.00017485574401119086 | 0.0005728032993470037 | 0.001637733377006224  | 0.001637733377006224  | 0.0232558139534884    | 0.0232558139534884    | 0.0232558139534884    | 0.0232558139534884    | 0.0232558139534884    | 0.0232558139534884    | 0.0232558139534884    | 0.0232558139534884    | 0.0232558139534884    | 0.0232558139534884    | 0.0232558139534884    | 0.0232558139534884    | 0.0232558139534884    | 0.0232558139534884    | 0.0232558139534884    | 0.0232558139534884    | 0.0232558139534884    | 0.001637733377006224  | 0.0008487523340689175 | 0.9312151981657388    | 0.001637733377006224  | 0.09044634619667231    | 0.00034710170079833407 | 0.00028997274256219933 | 0.0002899727425621993 | 0.32569595600870654   | 0.00021815960556743322 | 0.0005728032993470039 | 0.0005728032993470041 |\n",
            "+------------------------+-----------------------+------------------------+------------------------+------------------------+-----------------------+-----------------------+-----------------------+-----------------------+-----------------------+-----------------------+-----------------------+-----------------------+-----------------------+-----------------------+-----------------------+-----------------------+-----------------------+-----------------------+-----------------------+-----------------------+-----------------------+-----------------------+-----------------------+-----------------------+-----------------------+-----------------------+-----------------------+-----------------------+-----------------------+-----------------------+-----------------------+------------------------+------------------------+------------------------+-----------------------+-----------------------+-----------------------+-----------------------+-----------------------+-----------------------+-----------------------+-----------------------+-----------------------+-----------------------+-----------------------+-----------------------+-----------------------+-----------------------+-----------------------+-----------------------+-----------------------+-----------------------+-----------------------+-----------------------+-----------------------+-----------------------+-----------------------+-----------------------+------------------------+------------------------+------------------------+-----------------------+-----------------------+------------------------+-----------------------+-----------------------+\n",
            "| petal length (cm)(5.9) | 0.0003471017007983345 | 6.0593574657343216e-05 | 0.00024899158408445826 | 0.00024899158408445826 | 0.0016377333770062241 | 0.0016377333770062246 | 0.0232558139534884    | 0.0232558139534884    | 0.0232558139534884    | 0.0232558139534884    | 0.0232558139534884    | 0.0232558139534884    | 0.0232558139534884    | 0.0232558139534884    | 0.0232558139534884    | 0.0232558139534884    | 0.0232558139534884    | 0.0232558139534884    | 0.0232558139534884    | 0.0232558139534884    | 0.0232558139534884    | 0.0232558139534884    | 0.0232558139534884    | 0.0232558139534884    | 0.0232558139534884    | 0.0232558139534884    | 0.0232558139534884    | 0.0232558139534884    | 0.0002489915840844582 | 0.0005728032993470033 | 0.0003471017007983343 | 0.00013473820367026872 | 0.00024899158408445805 | 0.00017485574401119086 | 0.0005728032993470037 | 0.001637733377006224  | 0.001637733377006224  | 0.0232558139534884    | 0.0232558139534884    | 0.0232558139534884    | 0.0232558139534884    | 0.0232558139534884    | 0.0232558139534884    | 0.0232558139534884    | 0.0232558139534884    | 0.0232558139534884    | 0.0232558139534884    | 0.0232558139534884    | 0.0232558139534884    | 0.0232558139534884    | 0.0232558139534884    | 0.0232558139534884    | 0.0232558139534884    | 0.0232558139534884    | 0.001637733377006224  | 0.0008487523340689175 | 0.001637733377006224  | 0.001637733377006224  | 0.00015906849489390136 | 0.00034710170079833407 | 0.00028997274256219933 | 0.1648785014208665    | 0.0005728032993470041 | 0.12404555172564252    | 0.0005728032993470039 | 0.0005728032993470041 |\n",
            "+------------------------+-----------------------+------------------------+------------------------+------------------------+-----------------------+-----------------------+-----------------------+-----------------------+-----------------------+-----------------------+-----------------------+-----------------------+-----------------------+-----------------------+-----------------------+-----------------------+-----------------------+-----------------------+-----------------------+-----------------------+-----------------------+-----------------------+-----------------------+-----------------------+-----------------------+-----------------------+-----------------------+-----------------------+-----------------------+-----------------------+-----------------------+------------------------+------------------------+------------------------+-----------------------+-----------------------+-----------------------+-----------------------+-----------------------+-----------------------+-----------------------+-----------------------+-----------------------+-----------------------+-----------------------+-----------------------+-----------------------+-----------------------+-----------------------+-----------------------+-----------------------+-----------------------+-----------------------+-----------------------+-----------------------+-----------------------+-----------------------+-----------------------+------------------------+------------------------+------------------------+-----------------------+-----------------------+------------------------+-----------------------+-----------------------+\n",
            "| petal length (cm)(6.0) | 0.0003471017007983345 | 6.0593574657343216e-05 | 0.00024899158408445826 | 0.00024899158408445826 | 0.0016377333770062241 | 0.0016377333770062246 | 0.0232558139534884    | 0.0232558139534884    | 0.0232558139534884    | 0.0232558139534884    | 0.0232558139534884    | 0.0232558139534884    | 0.0232558139534884    | 0.0232558139534884    | 0.0232558139534884    | 0.0232558139534884    | 0.0232558139534884    | 0.0232558139534884    | 0.0232558139534884    | 0.0232558139534884    | 0.0232558139534884    | 0.0232558139534884    | 0.0232558139534884    | 0.0232558139534884    | 0.0232558139534884    | 0.0232558139534884    | 0.0232558139534884    | 0.0232558139534884    | 0.0002489915840844582 | 0.0005728032993470033 | 0.0003471017007983343 | 0.00013473820367026872 | 0.00024899158408445805 | 0.00017485574401119086 | 0.0005728032993470037 | 0.001637733377006224  | 0.001637733377006224  | 0.0232558139534884    | 0.0232558139534884    | 0.0232558139534884    | 0.0232558139534884    | 0.0232558139534884    | 0.0232558139534884    | 0.0232558139534884    | 0.0232558139534884    | 0.0232558139534884    | 0.0232558139534884    | 0.0232558139534884    | 0.0232558139534884    | 0.0232558139534884    | 0.0232558139534884    | 0.0232558139534884    | 0.0232558139534884    | 0.0232558139534884    | 0.001637733377006224  | 0.0008487523340689175 | 0.001637733377006224  | 0.001637733377006224  | 0.09044634619667231    | 0.00034710170079833407 | 0.00028997274256219933 | 0.0002899727425621993 | 0.0005728032993470041 | 0.00021815960556743322 | 0.0005728032993470039 | 0.32569595600870654   |\n",
            "+------------------------+-----------------------+------------------------+------------------------+------------------------+-----------------------+-----------------------+-----------------------+-----------------------+-----------------------+-----------------------+-----------------------+-----------------------+-----------------------+-----------------------+-----------------------+-----------------------+-----------------------+-----------------------+-----------------------+-----------------------+-----------------------+-----------------------+-----------------------+-----------------------+-----------------------+-----------------------+-----------------------+-----------------------+-----------------------+-----------------------+-----------------------+------------------------+------------------------+------------------------+-----------------------+-----------------------+-----------------------+-----------------------+-----------------------+-----------------------+-----------------------+-----------------------+-----------------------+-----------------------+-----------------------+-----------------------+-----------------------+-----------------------+-----------------------+-----------------------+-----------------------+-----------------------+-----------------------+-----------------------+-----------------------+-----------------------+-----------------------+-----------------------+------------------------+------------------------+------------------------+-----------------------+-----------------------+------------------------+-----------------------+-----------------------+\n",
            "| petal length (cm)(6.1) | 0.0003471017007983345 | 6.0593574657343216e-05 | 0.00024899158408445826 | 0.00024899158408445826 | 0.0016377333770062241 | 0.0016377333770062246 | 0.0232558139534884    | 0.0232558139534884    | 0.0232558139534884    | 0.0232558139534884    | 0.0232558139534884    | 0.0232558139534884    | 0.0232558139534884    | 0.0232558139534884    | 0.0232558139534884    | 0.0232558139534884    | 0.0232558139534884    | 0.0232558139534884    | 0.0232558139534884    | 0.0232558139534884    | 0.0232558139534884    | 0.0232558139534884    | 0.0232558139534884    | 0.0232558139534884    | 0.0232558139534884    | 0.0232558139534884    | 0.0232558139534884    | 0.0232558139534884    | 0.0002489915840844582 | 0.0005728032993470033 | 0.0003471017007983343 | 0.00013473820367026872 | 0.00024899158408445805 | 0.00017485574401119086 | 0.0005728032993470037 | 0.001637733377006224  | 0.001637733377006224  | 0.0232558139534884    | 0.0232558139534884    | 0.0232558139534884    | 0.0232558139534884    | 0.0232558139534884    | 0.0232558139534884    | 0.0232558139534884    | 0.0232558139534884    | 0.0232558139534884    | 0.0232558139534884    | 0.0232558139534884    | 0.0232558139534884    | 0.0232558139534884    | 0.0232558139534884    | 0.0232558139534884    | 0.0232558139534884    | 0.0232558139534884    | 0.001637733377006224  | 0.0008487523340689175 | 0.001637733377006224  | 0.001637733377006224  | 0.00015906849489390136 | 0.19736202707393274    | 0.00028997274256219933 | 0.0002899727425621993 | 0.0005728032993470041 | 0.12404555172564252    | 0.0005728032993470039 | 0.32569595600870654   |\n",
            "+------------------------+-----------------------+------------------------+------------------------+------------------------+-----------------------+-----------------------+-----------------------+-----------------------+-----------------------+-----------------------+-----------------------+-----------------------+-----------------------+-----------------------+-----------------------+-----------------------+-----------------------+-----------------------+-----------------------+-----------------------+-----------------------+-----------------------+-----------------------+-----------------------+-----------------------+-----------------------+-----------------------+-----------------------+-----------------------+-----------------------+-----------------------+------------------------+------------------------+------------------------+-----------------------+-----------------------+-----------------------+-----------------------+-----------------------+-----------------------+-----------------------+-----------------------+-----------------------+-----------------------+-----------------------+-----------------------+-----------------------+-----------------------+-----------------------+-----------------------+-----------------------+-----------------------+-----------------------+-----------------------+-----------------------+-----------------------+-----------------------+-----------------------+------------------------+------------------------+------------------------+-----------------------+-----------------------+------------------------+-----------------------+-----------------------+\n",
            "| petal length (cm)(6.3) | 0.0003471017007983345 | 6.0593574657343216e-05 | 0.00024899158408445826 | 0.00024899158408445826 | 0.0016377333770062241 | 0.0016377333770062246 | 0.0232558139534884    | 0.0232558139534884    | 0.0232558139534884    | 0.0232558139534884    | 0.0232558139534884    | 0.0232558139534884    | 0.0232558139534884    | 0.0232558139534884    | 0.0232558139534884    | 0.0232558139534884    | 0.0232558139534884    | 0.0232558139534884    | 0.0232558139534884    | 0.0232558139534884    | 0.0232558139534884    | 0.0232558139534884    | 0.0232558139534884    | 0.0232558139534884    | 0.0232558139534884    | 0.0232558139534884    | 0.0232558139534884    | 0.0232558139534884    | 0.0002489915840844582 | 0.0005728032993470033 | 0.0003471017007983343 | 0.00013473820367026872 | 0.00024899158408445805 | 0.00017485574401119086 | 0.0005728032993470037 | 0.001637733377006224  | 0.001637733377006224  | 0.0232558139534884    | 0.0232558139534884    | 0.0232558139534884    | 0.0232558139534884    | 0.0232558139534884    | 0.0232558139534884    | 0.0232558139534884    | 0.0232558139534884    | 0.0232558139534884    | 0.0232558139534884    | 0.0232558139534884    | 0.0232558139534884    | 0.0232558139534884    | 0.0232558139534884    | 0.0232558139534884    | 0.0232558139534884    | 0.0232558139534884    | 0.001637733377006224  | 0.0008487523340689175 | 0.001637733377006224  | 0.001637733377006224  | 0.09044634619667231    | 0.00034710170079833407 | 0.00028997274256219933 | 0.0002899727425621993 | 0.0005728032993470041 | 0.00021815960556743322 | 0.0005728032993470039 | 0.0005728032993470041 |\n",
            "+------------------------+-----------------------+------------------------+------------------------+------------------------+-----------------------+-----------------------+-----------------------+-----------------------+-----------------------+-----------------------+-----------------------+-----------------------+-----------------------+-----------------------+-----------------------+-----------------------+-----------------------+-----------------------+-----------------------+-----------------------+-----------------------+-----------------------+-----------------------+-----------------------+-----------------------+-----------------------+-----------------------+-----------------------+-----------------------+-----------------------+-----------------------+------------------------+------------------------+------------------------+-----------------------+-----------------------+-----------------------+-----------------------+-----------------------+-----------------------+-----------------------+-----------------------+-----------------------+-----------------------+-----------------------+-----------------------+-----------------------+-----------------------+-----------------------+-----------------------+-----------------------+-----------------------+-----------------------+-----------------------+-----------------------+-----------------------+-----------------------+-----------------------+------------------------+------------------------+------------------------+-----------------------+-----------------------+------------------------+-----------------------+-----------------------+\n",
            "| petal length (cm)(6.4) | 0.0003471017007983345 | 6.0593574657343216e-05 | 0.00024899158408445826 | 0.00024899158408445826 | 0.0016377333770062241 | 0.0016377333770062246 | 0.0232558139534884    | 0.0232558139534884    | 0.0232558139534884    | 0.0232558139534884    | 0.0232558139534884    | 0.0232558139534884    | 0.0232558139534884    | 0.0232558139534884    | 0.0232558139534884    | 0.0232558139534884    | 0.0232558139534884    | 0.0232558139534884    | 0.0232558139534884    | 0.0232558139534884    | 0.0232558139534884    | 0.0232558139534884    | 0.0232558139534884    | 0.0232558139534884    | 0.0232558139534884    | 0.0232558139534884    | 0.0232558139534884    | 0.0232558139534884    | 0.0002489915840844582 | 0.0005728032993470033 | 0.0003471017007983343 | 0.00013473820367026872 | 0.00024899158408445805 | 0.00017485574401119086 | 0.0005728032993470037 | 0.001637733377006224  | 0.001637733377006224  | 0.0232558139534884    | 0.0232558139534884    | 0.0232558139534884    | 0.0232558139534884    | 0.0232558139534884    | 0.0232558139534884    | 0.0232558139534884    | 0.0232558139534884    | 0.0232558139534884    | 0.0232558139534884    | 0.0232558139534884    | 0.0232558139534884    | 0.0232558139534884    | 0.0232558139534884    | 0.0232558139534884    | 0.0232558139534884    | 0.0232558139534884    | 0.001637733377006224  | 0.0008487523340689175 | 0.001637733377006224  | 0.001637733377006224  | 0.00015906849489390136 | 0.00034710170079833407 | 0.16487850142086655    | 0.0002899727425621993 | 0.0005728032993470041 | 0.00021815960556743322 | 0.0005728032993470039 | 0.0005728032993470041 |\n",
            "+------------------------+-----------------------+------------------------+------------------------+------------------------+-----------------------+-----------------------+-----------------------+-----------------------+-----------------------+-----------------------+-----------------------+-----------------------+-----------------------+-----------------------+-----------------------+-----------------------+-----------------------+-----------------------+-----------------------+-----------------------+-----------------------+-----------------------+-----------------------+-----------------------+-----------------------+-----------------------+-----------------------+-----------------------+-----------------------+-----------------------+-----------------------+------------------------+------------------------+------------------------+-----------------------+-----------------------+-----------------------+-----------------------+-----------------------+-----------------------+-----------------------+-----------------------+-----------------------+-----------------------+-----------------------+-----------------------+-----------------------+-----------------------+-----------------------+-----------------------+-----------------------+-----------------------+-----------------------+-----------------------+-----------------------+-----------------------+-----------------------+-----------------------+------------------------+------------------------+------------------------+-----------------------+-----------------------+------------------------+-----------------------+-----------------------+\n",
            "| petal length (cm)(6.6) | 0.0003471017007983345 | 6.0593574657343216e-05 | 0.00024899158408445826 | 0.00024899158408445826 | 0.0016377333770062241 | 0.0016377333770062246 | 0.0232558139534884    | 0.0232558139534884    | 0.0232558139534884    | 0.0232558139534884    | 0.0232558139534884    | 0.0232558139534884    | 0.0232558139534884    | 0.0232558139534884    | 0.0232558139534884    | 0.0232558139534884    | 0.0232558139534884    | 0.0232558139534884    | 0.0232558139534884    | 0.0232558139534884    | 0.0232558139534884    | 0.0232558139534884    | 0.0232558139534884    | 0.0232558139534884    | 0.0232558139534884    | 0.0232558139534884    | 0.0232558139534884    | 0.0232558139534884    | 0.0002489915840844582 | 0.0005728032993470033 | 0.0003471017007983343 | 0.00013473820367026872 | 0.00024899158408445805 | 0.00017485574401119086 | 0.0005728032993470037 | 0.001637733377006224  | 0.001637733377006224  | 0.0232558139534884    | 0.0232558139534884    | 0.0232558139534884    | 0.0232558139534884    | 0.0232558139534884    | 0.0232558139534884    | 0.0232558139534884    | 0.0232558139534884    | 0.0232558139534884    | 0.0232558139534884    | 0.0232558139534884    | 0.0232558139534884    | 0.0232558139534884    | 0.0232558139534884    | 0.0232558139534884    | 0.0232558139534884    | 0.0232558139534884    | 0.001637733377006224  | 0.0008487523340689175 | 0.001637733377006224  | 0.001637733377006224  | 0.00015906849489390136 | 0.00034710170079833407 | 0.00028997274256219933 | 0.1648785014208665    | 0.0005728032993470041 | 0.00021815960556743322 | 0.0005728032993470039 | 0.0005728032993470041 |\n",
            "+------------------------+-----------------------+------------------------+------------------------+------------------------+-----------------------+-----------------------+-----------------------+-----------------------+-----------------------+-----------------------+-----------------------+-----------------------+-----------------------+-----------------------+-----------------------+-----------------------+-----------------------+-----------------------+-----------------------+-----------------------+-----------------------+-----------------------+-----------------------+-----------------------+-----------------------+-----------------------+-----------------------+-----------------------+-----------------------+-----------------------+-----------------------+------------------------+------------------------+------------------------+-----------------------+-----------------------+-----------------------+-----------------------+-----------------------+-----------------------+-----------------------+-----------------------+-----------------------+-----------------------+-----------------------+-----------------------+-----------------------+-----------------------+-----------------------+-----------------------+-----------------------+-----------------------+-----------------------+-----------------------+-----------------------+-----------------------+-----------------------+-----------------------+------------------------+------------------------+------------------------+-----------------------+-----------------------+------------------------+-----------------------+-----------------------+\n",
            "| petal length (cm)(6.7) | 0.0003471017007983345 | 6.0593574657343216e-05 | 0.00024899158408445826 | 0.00024899158408445826 | 0.0016377333770062241 | 0.0016377333770062246 | 0.0232558139534884    | 0.0232558139534884    | 0.0232558139534884    | 0.0232558139534884    | 0.0232558139534884    | 0.0232558139534884    | 0.0232558139534884    | 0.0232558139534884    | 0.0232558139534884    | 0.0232558139534884    | 0.0232558139534884    | 0.0232558139534884    | 0.0232558139534884    | 0.0232558139534884    | 0.0232558139534884    | 0.0232558139534884    | 0.0232558139534884    | 0.0232558139534884    | 0.0232558139534884    | 0.0232558139534884    | 0.0232558139534884    | 0.0232558139534884    | 0.0002489915840844582 | 0.0005728032993470033 | 0.0003471017007983343 | 0.00013473820367026872 | 0.00024899158408445805 | 0.00017485574401119086 | 0.0005728032993470037 | 0.001637733377006224  | 0.001637733377006224  | 0.0232558139534884    | 0.0232558139534884    | 0.0232558139534884    | 0.0232558139534884    | 0.0232558139534884    | 0.0232558139534884    | 0.0232558139534884    | 0.0232558139534884    | 0.0232558139534884    | 0.0232558139534884    | 0.0232558139534884    | 0.0232558139534884    | 0.0232558139534884    | 0.0232558139534884    | 0.0232558139534884    | 0.0232558139534884    | 0.0232558139534884    | 0.001637733377006224  | 0.0008487523340689175 | 0.001637733377006224  | 0.001637733377006224  | 0.00015906849489390136 | 0.00034710170079833407 | 0.16487850142086655    | 0.0002899727425621993 | 0.32569595600870654   | 0.00021815960556743322 | 0.0005728032993470039 | 0.0005728032993470041 |\n",
            "+------------------------+-----------------------+------------------------+------------------------+------------------------+-----------------------+-----------------------+-----------------------+-----------------------+-----------------------+-----------------------+-----------------------+-----------------------+-----------------------+-----------------------+-----------------------+-----------------------+-----------------------+-----------------------+-----------------------+-----------------------+-----------------------+-----------------------+-----------------------+-----------------------+-----------------------+-----------------------+-----------------------+-----------------------+-----------------------+-----------------------+-----------------------+------------------------+------------------------+------------------------+-----------------------+-----------------------+-----------------------+-----------------------+-----------------------+-----------------------+-----------------------+-----------------------+-----------------------+-----------------------+-----------------------+-----------------------+-----------------------+-----------------------+-----------------------+-----------------------+-----------------------+-----------------------+-----------------------+-----------------------+-----------------------+-----------------------+-----------------------+-----------------------+------------------------+------------------------+------------------------+-----------------------+-----------------------+------------------------+-----------------------+-----------------------+\n",
            "| petal length (cm)(6.9) | 0.0003471017007983345 | 6.0593574657343216e-05 | 0.00024899158408445826 | 0.00024899158408445826 | 0.0016377333770062241 | 0.0016377333770062246 | 0.0232558139534884    | 0.0232558139534884    | 0.0232558139534884    | 0.0232558139534884    | 0.0232558139534884    | 0.0232558139534884    | 0.0232558139534884    | 0.0232558139534884    | 0.0232558139534884    | 0.0232558139534884    | 0.0232558139534884    | 0.0232558139534884    | 0.0232558139534884    | 0.0232558139534884    | 0.0232558139534884    | 0.0232558139534884    | 0.0232558139534884    | 0.0232558139534884    | 0.0232558139534884    | 0.0232558139534884    | 0.0232558139534884    | 0.0232558139534884    | 0.0002489915840844582 | 0.0005728032993470033 | 0.0003471017007983343 | 0.00013473820367026872 | 0.00024899158408445805 | 0.00017485574401119086 | 0.0005728032993470037 | 0.001637733377006224  | 0.001637733377006224  | 0.0232558139534884    | 0.0232558139534884    | 0.0232558139534884    | 0.0232558139534884    | 0.0232558139534884    | 0.0232558139534884    | 0.0232558139534884    | 0.0232558139534884    | 0.0232558139534884    | 0.0232558139534884    | 0.0232558139534884    | 0.0232558139534884    | 0.0232558139534884    | 0.0232558139534884    | 0.0232558139534884    | 0.0232558139534884    | 0.0232558139534884    | 0.001637733377006224  | 0.0008487523340689175 | 0.001637733377006224  | 0.001637733377006224  | 0.00015906849489390136 | 0.00034710170079833407 | 0.00028997274256219933 | 0.0002899727425621993 | 0.0005728032993470041 | 0.12404555172564252    | 0.0005728032993470039 | 0.0005728032993470041 |\n",
            "+------------------------+-----------------------+------------------------+------------------------+------------------------+-----------------------+-----------------------+-----------------------+-----------------------+-----------------------+-----------------------+-----------------------+-----------------------+-----------------------+-----------------------+-----------------------+-----------------------+-----------------------+-----------------------+-----------------------+-----------------------+-----------------------+-----------------------+-----------------------+-----------------------+-----------------------+-----------------------+-----------------------+-----------------------+-----------------------+-----------------------+-----------------------+------------------------+------------------------+------------------------+-----------------------+-----------------------+-----------------------+-----------------------+-----------------------+-----------------------+-----------------------+-----------------------+-----------------------+-----------------------+-----------------------+-----------------------+-----------------------+-----------------------+-----------------------+-----------------------+-----------------------+-----------------------+-----------------------+-----------------------+-----------------------+-----------------------+-----------------------+-----------------------+------------------------+------------------------+------------------------+-----------------------+-----------------------+------------------------+-----------------------+-----------------------+\n",
            "+-----------------------+-----------------------+-----------------------+-----------------------+\n",
            "| Type                  | Type(0)               | Type(1)               | Type(2)               |\n",
            "+-----------------------+-----------------------+-----------------------+-----------------------+\n",
            "| petal width (cm)(0.1) | 0.09824046920821107   | 0.0014662756598240463 | 0.0014662756598240467 |\n",
            "+-----------------------+-----------------------+-----------------------+-----------------------+\n",
            "| petal width (cm)(0.2) | 0.5627565982404688    | 0.0014662756598240463 | 0.0014662756598240467 |\n",
            "+-----------------------+-----------------------+-----------------------+-----------------------+\n",
            "| petal width (cm)(0.3) | 0.13695014662756588   | 0.0014662756598240463 | 0.0014662756598240467 |\n",
            "+-----------------------+-----------------------+-----------------------+-----------------------+\n",
            "| petal width (cm)(0.4) | 0.13695014662756588   | 0.0014662756598240463 | 0.0014662756598240467 |\n",
            "+-----------------------+-----------------------+-----------------------+-----------------------+\n",
            "| petal width (cm)(0.5) | 0.02082111436950145   | 0.0014662756598240463 | 0.0014662756598240467 |\n",
            "+-----------------------+-----------------------+-----------------------+-----------------------+\n",
            "| petal width (cm)(0.6) | 0.02082111436950145   | 0.0014662756598240463 | 0.0014662756598240467 |\n",
            "+-----------------------+-----------------------+-----------------------+-----------------------+\n",
            "| petal width (cm)(1.0) | 0.0014662756598240458 | 0.1369501466275659    | 0.0014662756598240467 |\n",
            "+-----------------------+-----------------------+-----------------------+-----------------------+\n",
            "| petal width (cm)(1.1) | 0.0014662756598240458 | 0.05953079178885627   | 0.0014662756598240467 |\n",
            "+-----------------------+-----------------------+-----------------------+-----------------------+\n",
            "| petal width (cm)(1.2) | 0.0014662756598240458 | 0.0982404692082111    | 0.0014662756598240467 |\n",
            "+-----------------------+-----------------------+-----------------------+-----------------------+\n",
            "| petal width (cm)(1.3) | 0.0014662756598240458 | 0.25307917888563036   | 0.0014662756598240467 |\n",
            "+-----------------------+-----------------------+-----------------------+-----------------------+\n",
            "| petal width (cm)(1.4) | 0.0014662756598240458 | 0.1369501466275659    | 0.02082111436950146   |\n",
            "+-----------------------+-----------------------+-----------------------+-----------------------+\n",
            "| petal width (cm)(1.5) | 0.0014662756598240458 | 0.19501466275659815   | 0.04017595307917887   |\n",
            "+-----------------------+-----------------------+-----------------------+-----------------------+\n",
            "| petal width (cm)(1.6) | 0.0014662756598240458 | 0.05953079178885627   | 0.02082111436950146   |\n",
            "+-----------------------+-----------------------+-----------------------+-----------------------+\n",
            "| petal width (cm)(1.7) | 0.0014662756598240458 | 0.020821114369501455  | 0.02082111436950146   |\n",
            "+-----------------------+-----------------------+-----------------------+-----------------------+\n",
            "| petal width (cm)(1.8) | 0.0014662756598240458 | 0.020821114369501455  | 0.21436950146627562   |\n",
            "+-----------------------+-----------------------+-----------------------+-----------------------+\n",
            "| petal width (cm)(1.9) | 0.0014662756598240458 | 0.0014662756598240463 | 0.09824046920821113   |\n",
            "+-----------------------+-----------------------+-----------------------+-----------------------+\n",
            "| petal width (cm)(2.0) | 0.0014662756598240458 | 0.0014662756598240463 | 0.11759530791788854   |\n",
            "+-----------------------+-----------------------+-----------------------+-----------------------+\n",
            "| petal width (cm)(2.1) | 0.0014662756598240458 | 0.0014662756598240463 | 0.11759530791788854   |\n",
            "+-----------------------+-----------------------+-----------------------+-----------------------+\n",
            "| petal width (cm)(2.2) | 0.0014662756598240458 | 0.0014662756598240463 | 0.05953079178885629   |\n",
            "+-----------------------+-----------------------+-----------------------+-----------------------+\n",
            "| petal width (cm)(2.3) | 0.0014662756598240458 | 0.0014662756598240463 | 0.15630498533724338   |\n",
            "+-----------------------+-----------------------+-----------------------+-----------------------+\n",
            "| petal width (cm)(2.4) | 0.0014662756598240458 | 0.0014662756598240463 | 0.05953079178885629   |\n",
            "+-----------------------+-----------------------+-----------------------+-----------------------+\n",
            "| petal width (cm)(2.5) | 0.0014662756598240458 | 0.0014662756598240463 | 0.05953079178885629   |\n",
            "+-----------------------+-----------------------+-----------------------+-----------------------+\n",
            "+---------+----------+\n",
            "| Type(0) | 0.333333 |\n",
            "+---------+----------+\n",
            "| Type(1) | 0.333333 |\n",
            "+---------+----------+\n",
            "| Type(2) | 0.333333 |\n",
            "+---------+----------+\n"
          ],
          "name": "stdout"
        }
      ]
    },
    {
      "cell_type": "code",
      "metadata": {
        "id": "1fhyUUAIQEOm",
        "colab_type": "code",
        "colab": {}
      },
      "source": [
        "from pgmpy.estimators import ExhaustiveSearch\n",
        "\n",
        "#Exhaust all possible networks and rate them according to the scoring method\n",
        "es = ExhaustiveSearch(df, scoring_method=bdeu)\n",
        "\n",
        "best_model = es.estimate() #returns the model with highest score\n",
        "print(\"best model: \")\n",
        "print(best_model.edges())\n",
        "\n",
        "print(\"\\nAll DAGs by score:\")\n",
        "for score, dag in es.all_scores(): #es.all_score() returns tuple (score, DAG)\n",
        "    print(score, dag.edges())"
      ],
      "execution_count": 0,
      "outputs": []
    },
    {
      "cell_type": "markdown",
      "metadata": {
        "id": "Ph6AvyU1B-Nf",
        "colab_type": "text"
      },
      "source": [
        "# PGMLearner Library"
      ]
    },
    {
      "cell_type": "code",
      "metadata": {
        "id": "wT_EF4weCGT8",
        "colab_type": "code",
        "colab": {}
      },
      "source": [
        "import json\n",
        "\n",
        "from libpgm.nodedata import NodeData\n",
        "from libpgm.graphskeleton import GraphSkeleton\n",
        "from libpgm.lgbayesiannetwork import LGBayesianNetwork\n",
        "from libpgm.discretebayesiannetwork import DiscreteBayesianNetwork\n",
        "from libpgm.pgmlearner import PGMLearner\n",
        "\n",
        "\n",
        "\n",
        "# instantiate my learner \n",
        "learner = PGMLearner()\n",
        "\n",
        "# learn bayesian network\n",
        "result = learner.lg_estimatebn(data)\n",
        "\n",
        "# output\n",
        "print json.dumps(result.E, indent=2)\n",
        "print json.dumps(result.Vdata, indent=2)\n",
        "\n",
        "# DISCRETE\n",
        "\n",
        "# generate some data to use\n",
        "nd = NodeData()\n",
        "nd.load(\"../tests/unittestdict.txt\")    # an input file\n",
        "skel = GraphSkeleton()\n",
        "skel.load(\"../tests/unittestdict.txt\")\n",
        "skel.toporder()\n",
        "bn = DiscreteBayesianNetwork(skel, nd)\n",
        "data = bn.randomsample(8000)\n",
        "\n",
        "# instantiate my learner \n",
        "learner = PGMLearner()\n",
        "\n",
        "# learn bayesian network\n",
        "result = learner.discrete_estimatebn(data)\n",
        "\n",
        "# output\n",
        "print json.dumps(result.E, indent=2)\n",
        "print json.dumps(result.Vdata, indent=2)"
      ],
      "execution_count": 0,
      "outputs": []
    },
    {
      "cell_type": "markdown",
      "metadata": {
        "id": "K-OMpqYHMLgR",
        "colab_type": "text"
      },
      "source": [
        "# Reference\n",
        "\n",
        "https://github.com/pgmpy/pgmpy_notebook/blob/master/notebooks/9.%20Learning%20Bayesian%20Networks%20from%20Data.ipynb\n",
        "\n",
        "\n",
        "---\n",
        "\n",
        "\n",
        "\n",
        "[1] [Koller & Friedman, Probabilistic Graphical Models - Principles and Techniques, 2009](https://drive.google.com/file/d/1C1O6L_7CrFL2TPEi7Ei6RfTQd93MNRUT/view?usp=sharing)\n",
        "\n",
        "[2] [Neapolitan, Learning Bayesian Networks, 2003](http://www.cs.technion.ac.il/~dang/books/Learning%20Bayesian%20Networks&#40;Neapolitan,%20Richard&#41;.pdf)\n",
        "\n",
        "[3] [Tsamardinos et al., The max-min hill-climbing BN structure learning algorithm, 2005](http://www.dsl-lab.org/supplements/mmhc_paper/paper_online.pdf)\n",
        "\n",
        "\n",
        "---\n",
        "\n",
        "Others:\n",
        "\n",
        "http://pgmpy.chrisittner.de/2016/08/17/pc.html#pc\n",
        "\n"
      ]
    },
    {
      "cell_type": "code",
      "metadata": {
        "id": "A_VtrbwYIXRs",
        "colab_type": "code",
        "outputId": "0fdfe478-60be-4b92-a7fc-32cd76b76384",
        "colab": {
          "base_uri": "https://localhost:8080/",
          "height": 363
        }
      },
      "source": [
        "from pgmpy.utils.mathext import powerset\n",
        "from pgmpy.base import UndirectedGraph\n",
        "from pgmpy.models import BayesianModel\n",
        "from pgmpy.estimators import StructureEstimator, HillClimbSearch, BdeuScore\n",
        "from pgmpy.independencies import Independencies, IndependenceAssertion\n",
        "\n",
        "\n",
        "class MmhcEstimator(StructureEstimator):\n",
        "    def __init__(self, data, **kwargs):\n",
        "        \"\"\"\n",
        "        Implements the MMHC hybrid structure estimation procedure for\n",
        "        learning BayesianModels from discrete data.\n",
        "        Parameters\n",
        "        ----------\n",
        "        data: pandas DataFrame object\n",
        "            datafame object where each column represents one variable.\n",
        "            (If some values in the data are missing the data cells should be set to `numpy.NaN`.\n",
        "            Note that pandas converts each column containing `numpy.NaN`s to dtype `float`.)\n",
        "        state_names: dict (optional)\n",
        "            A dict indicating, for each variable, the discrete set of states (or values)\n",
        "            that the variable can take. If unspecified, the observed values in the data set\n",
        "            are taken to be the only possible states.\n",
        "        complete_samples_only: bool (optional, default `True`)\n",
        "            Specifies how to deal with missing data, if present. If set to `True` all rows\n",
        "            that contain `np.Nan` somewhere are ignored. If `False` then, for each variable,\n",
        "            every row where neither the variable nor its parents are `np.NaN` is used.\n",
        "            This sets the behavior of the `state_count`-method.\n",
        "        Reference\n",
        "        ---------\n",
        "        Tsamardinos et al., The max-min hill-climbing Bayesian network structure learning algorithm (2005)\n",
        "        http://www.dsl-lab.org/supplements/mmhc_paper/paper_online.pdf\n",
        "        \"\"\"\n",
        "        super(MmhcEstimator, self).__init__(data, **kwargs)\n",
        "\n",
        "    def estimate(self, significance_level=0.01):\n",
        "        \"\"\"\n",
        "        Estimates a BayesianModel for the data set, using MMHC. First estimates a\n",
        "        graph skeleton using MMPC and then orients the edges using score-based local\n",
        "        search (hill climbing).\n",
        "        Parameters\n",
        "        ----------\n",
        "        significance_level: float, default: 0.01\n",
        "            The significance level to use for conditional independence tests in the data set. See `mmpc`-method.\n",
        "        Returns\n",
        "        -------\n",
        "        model: BayesianModel()-instance, not yet parametrized.\n",
        "        Reference\n",
        "        ---------\n",
        "        Tsamardinos et al., The max-min hill-climbing Bayesian network structure learning algorithm (2005),\n",
        "        Algorithm 3\n",
        "        http://www.dsl-lab.org/supplements/mmhc_paper/paper_online.pdf\n",
        "        Examples\n",
        "        --------\n",
        "        >>> import pandas as pd\n",
        "        >>> import numpy as np\n",
        "        >>> from pgmpy.estimators import ConstraintBasedEstimator\n",
        "        >>> data = pd.DataFrame(np.random.randint(0, 2, size=(2500, 4)), columns=list('XYZW'))\n",
        "        >>> data['sum'] = data.sum(axis=1)\n",
        "        >>> est = MmhcEstimator(data)\n",
        "        >>> model = est.estimate()\n",
        "        >>> print(model.edges())\n",
        "        [('Z', 'sum'), ('X', 'sum'), ('W', 'sum'), ('Y', 'sum')]\n",
        "        \"\"\"\n",
        "\n",
        "        skel = self.mmpc(significance_level)\n",
        "\n",
        "        hc = HillClimbSearch(self.data, scoring_method=BdeuScore(self.data, equivalent_sample_size=10))\n",
        "        model = hc.estimate(white_list=skel.to_directed().edges(), tabu_length=10)\n",
        "\n",
        "        return model\n",
        "\n",
        "    def mmpc(self, significance_level=0.01):\n",
        "        \"\"\"Estimates a graph skeleton (UndirectedGraph) for the data set, using then\n",
        "        MMPC (max-min parents-and-children) algorithm.\n",
        "        Parameters\n",
        "        ----------\n",
        "        significance_level: float, default=0.01\n",
        "            The significance level to use for conditional independence tests in the data set.\n",
        "            `significance_level` is the desired Type 1 error probability of\n",
        "            falsely rejecting the null hypothesis that variables are independent,\n",
        "            given that they are. The lower `significance_level`, the less likely\n",
        "            we are to accept dependencies, resulting in a sparser graph.\n",
        "        Returns\n",
        "        -------\n",
        "        skeleton: UndirectedGraph\n",
        "            An estimate for the undirected graph skeleton of the BN underlying the data.\n",
        "        seperating_sets: dict\n",
        "            A dict containing for each pair of not directly connected nodes a\n",
        "            seperating set (\"witnessing set\") of variables that makes then\n",
        "            conditionally independent. (needed for edge orientation)\n",
        "        Reference\n",
        "        ---------\n",
        "        Tsamardinos et al., The max-min hill-climbing Bayesian network structure learning algorithm (2005),\n",
        "        Algorithm 1 & 2\n",
        "        http://www.dsl-lab.org/supplements/mmhc_paper/paper_online.pdf\n",
        "        Examples\n",
        "        --------\n",
        "        >>> import pandas as pd\n",
        "        >>> import numpy as np\n",
        "        >>> from pgmpy.estimators import ConstraintBasedEstimator\n",
        "        >>>\n",
        "        >>> data = pd.DataFrame(np.random.randint(0, 2, size=(5000, 5)), columns=list('ABCDE'))\n",
        "        >>> data['F'] = data['A'] + data['B'] + data ['C']\n",
        "        >>> est = ConstraintBasedEstimator(data)\n",
        "        >>> skel, sep_sets = est.estimate_skeleton()\n",
        "        >>> skel.edges()\n",
        "        [('A', 'F'), ('B', 'F'), ('C', 'F')]\n",
        "        >>> # all independencies are unconditional:\n",
        "        >>> sep_sets\n",
        "        {('D', 'A'): (), ('C', 'A'): (), ('C', 'E'): (), ('E', 'F'): (), ('B', 'D'): (),\n",
        "         ('B', 'E'): (), ('D', 'F'): (), ('D', 'E'): (), ('A', 'E'): (), ('B', 'A'): (),\n",
        "         ('B', 'C'): (), ('C', 'D'): ()}\n",
        "        >>>\n",
        "        >>> data = pd.DataFrame(np.random.randint(0, 2, size=(5000, 3)), columns=list('XYZ'))\n",
        "        >>> data['X'] += data['Z']\n",
        "        >>> data['Y'] += data['Z']\n",
        "        >>> est = ConstraintBasedEstimator(data)\n",
        "        >>> skel, sep_sets = est.estimate_skeleton()\n",
        "        >>> skel.edges()\n",
        "        [('X', 'Z'), ('Y', 'Z')]\n",
        "        >>> # X, Y dependent, but conditionally independent given Z:\n",
        "        >>> sep_sets\n",
        "        {('X', 'Y'): ('Z',)}\n",
        "        \"\"\"\n",
        "\n",
        "        nodes = self.state_names.keys()\n",
        "\n",
        "        "
      ],
      "execution_count": 0,
      "outputs": [
        {
          "output_type": "error",
          "ename": "ModuleNotFoundError",
          "evalue": "ignored",
          "traceback": [
            "\u001b[0;31m---------------------------------------------------------------------------\u001b[0m",
            "\u001b[0;31mModuleNotFoundError\u001b[0m                       Traceback (most recent call last)",
            "\u001b[0;32m<ipython-input-4-8b869a9324af>\u001b[0m in \u001b[0;36m<module>\u001b[0;34m()\u001b[0m\n\u001b[0;32m----> 1\u001b[0;31m \u001b[0;32mfrom\u001b[0m \u001b[0mpgmpy\u001b[0m\u001b[0;34m.\u001b[0m\u001b[0mutils\u001b[0m\u001b[0;34m.\u001b[0m\u001b[0mmathext\u001b[0m \u001b[0;32mimport\u001b[0m \u001b[0mpowerset\u001b[0m\u001b[0;34m\u001b[0m\u001b[0;34m\u001b[0m\u001b[0m\n\u001b[0m\u001b[1;32m      2\u001b[0m \u001b[0;32mfrom\u001b[0m \u001b[0mpgmpy\u001b[0m\u001b[0;34m.\u001b[0m\u001b[0mbase\u001b[0m \u001b[0;32mimport\u001b[0m \u001b[0mUndirectedGraph\u001b[0m\u001b[0;34m\u001b[0m\u001b[0;34m\u001b[0m\u001b[0m\n\u001b[1;32m      3\u001b[0m \u001b[0;32mfrom\u001b[0m \u001b[0mpgmpy\u001b[0m\u001b[0;34m.\u001b[0m\u001b[0mmodels\u001b[0m \u001b[0;32mimport\u001b[0m \u001b[0mBayesianModel\u001b[0m\u001b[0;34m\u001b[0m\u001b[0;34m\u001b[0m\u001b[0m\n\u001b[1;32m      4\u001b[0m \u001b[0;32mfrom\u001b[0m \u001b[0mpgmpy\u001b[0m\u001b[0;34m.\u001b[0m\u001b[0mestimators\u001b[0m \u001b[0;32mimport\u001b[0m \u001b[0mStructureEstimator\u001b[0m\u001b[0;34m,\u001b[0m \u001b[0mHillClimbSearch\u001b[0m\u001b[0;34m,\u001b[0m \u001b[0mBdeuScore\u001b[0m\u001b[0;34m\u001b[0m\u001b[0;34m\u001b[0m\u001b[0m\n\u001b[1;32m      5\u001b[0m \u001b[0;32mfrom\u001b[0m \u001b[0mpgmpy\u001b[0m\u001b[0;34m.\u001b[0m\u001b[0mindependencies\u001b[0m \u001b[0;32mimport\u001b[0m \u001b[0mIndependencies\u001b[0m\u001b[0;34m,\u001b[0m \u001b[0mIndependenceAssertion\u001b[0m\u001b[0;34m\u001b[0m\u001b[0;34m\u001b[0m\u001b[0m\n",
            "\u001b[0;31mModuleNotFoundError\u001b[0m: No module named 'pgmpy'",
            "",
            "\u001b[0;31m---------------------------------------------------------------------------\u001b[0;32m\nNOTE: If your import is failing due to a missing package, you can\nmanually install dependencies using either !pip or !apt.\n\nTo view examples of installing some common dependencies, click the\n\"Open Examples\" button below.\n\u001b[0;31m---------------------------------------------------------------------------\u001b[0m\n"
          ]
        }
      ]
    }
  ]
}
