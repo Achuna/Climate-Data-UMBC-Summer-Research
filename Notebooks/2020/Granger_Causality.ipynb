{
  "nbformat": 4,
  "nbformat_minor": 0,
  "metadata": {
    "colab": {
      "name": "Granger Causality.ipynb",
      "provenance": [],
      "collapsed_sections": [],
      "toc_visible": true,
      "authorship_tag": "ABX9TyNtYlqQNhiceghk0EdtBfZ5",
      "include_colab_link": true
    },
    "kernelspec": {
      "name": "python3",
      "display_name": "Python 3"
    }
  },
  "cells": [
    {
      "cell_type": "markdown",
      "metadata": {
        "id": "view-in-github",
        "colab_type": "text"
      },
      "source": [
        "<a href=\"https://colab.research.google.com/github/Achuna/Climate-Data-UMBC-Summer-Research/blob/master/Notebooks/2020/Granger_Causality.ipynb\" target=\"_parent\"><img src=\"https://colab.research.google.com/assets/colab-badge.svg\" alt=\"Open In Colab\"/></a>"
      ]
    },
    {
      "cell_type": "markdown",
      "metadata": {
        "id": "P1EhZku_2fRQ",
        "colab_type": "text"
      },
      "source": [
        "#GAMs & Granger Causality\n",
        "\n",
        "In this causality approach, I will use generalized additive models to compute the regression functions of different relationships and later compute the F score in an attempt to reject the null hypothesis and discover granger causation.\n",
        "\n",
        "**Granger Causality**\n",
        "\n",
        "Granger causality is a way to investigate causality between two variables in a time series. The method is a probabilistic account of causality; it uses empirical data sets to find. With granger causality, **you aren’t testing a true cause-and-effect relationship**; What you want to know is if a particular variable comes before another in the time series.\n",
        "\n",
        "**Generalized Additive Models**\n",
        "\n",
        "Generalized Additive Models (GAMs) are essentially an extension of generalized linear models (GLM), those of which consist of three main components: the linear predictor, probability distribution, and a link function which converts the expected value to scale with the linear predictor. GAMs are more flexible than GLM and do not necessarily have to be linear. GAMs consists of a sum of smoothing functions which aims to capture patterns in the data. Backfitting is used to fit the GAM with the data by iteratively smoothing partial residuals and adjusting coefficients. Several smoothing techniques can be used to accomplish this.\n"
      ]
    },
    {
      "cell_type": "markdown",
      "metadata": {
        "id": "o-ERK1Q1xLBt",
        "colab_type": "text"
      },
      "source": [
        "#Walkthrough\n",
        "\n",
        "The next few sections will show step by step my approach to discovering Granger causality using generalized additive models"
      ]
    },
    {
      "cell_type": "markdown",
      "metadata": {
        "id": "iPfuaSEKGfJa",
        "colab_type": "text"
      },
      "source": [
        "##Data Preperation"
      ]
    },
    {
      "cell_type": "code",
      "metadata": {
        "id": "r-wq_eSd2Y0b",
        "colab_type": "code",
        "colab": {
          "resources": {
            "http://localhost:8080/nbextensions/google.colab/files.js": {
              "data": "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",
              "ok": true,
              "headers": [
                [
                  "content-type",
                  "application/javascript"
                ]
              ],
              "status": 200,
              "status_text": ""
            }
          },
          "base_uri": "https://localhost:8080/",
          "height": 575
        },
        "outputId": "603533af-7d17-41c2-9c2a-65244998a9bc"
      },
      "source": [
        "import pandas as pd\n",
        "import dask.dataframe as dd #for parallel processing\n",
        "import numpy as np\n",
        "import matplotlib.pyplot as plt\n",
        "from google.colab import files\n",
        "import glob\n",
        "\n",
        "#Takes in a 1D array and makes subsets of the array, returning a matrix\n",
        "#Chunk size - how big each subset of the array will be\n",
        "#numFiles - defines the columns\n",
        "def getMatrix(array, chunkSize, numFiles):\n",
        "  low = 0\n",
        "  matrix = []\n",
        "  for i in range(0, numFiles):\n",
        "    matrix.append(array[low:low+chunkSize])\n",
        "    low = low + chunkSize\n",
        "  return np.transpose(matrix)\n",
        "\n",
        "\n",
        "files.upload() #Upload Files from local directory\n",
        "\n",
        "filelist = glob.glob('eof_ts*') #get all files starting with eof\n",
        "\n",
        "print(filelist)\n",
        "\n",
        "#reading in files\n",
        "df = dd.read_csv(filelist, names=[\"Initial\"]) #use parallel processing to read in all the files (much faster)\n",
        "df = df.compute() #create dataframe\n",
        "\n",
        "#Dask reads in all the data into a 2D array, storing all the values in their own 1D arrays. Ex. [ [21], [23], [59] ....]\n",
        "#Here I am extracting the data and putting it all in a 1D array\n",
        "temp = df.values\n",
        "array = []\n",
        "for i in range(0, len(temp)):\n",
        "  array.append(temp[i][0])\n",
        "  \n",
        "#set the column names  \n",
        "columnNames = [filename[filename.rfind('_')+1 : len(filename)] for filename in filelist]\n",
        "\n",
        "#To reconstruct he matrix in our desired way, call the getMatrix function  \n",
        "matrix = getMatrix(array, 480, len(filelist)) #480 because we are looking at 480 months ~40 yrs\n",
        "\n",
        "df = pd.DataFrame(matrix, columns = columnNames) #assign matrix to the dataframe\n",
        "\n",
        "df #print dataframe\n"
      ],
      "execution_count": 1,
      "outputs": [
        {
          "output_type": "display_data",
          "data": {
            "text/html": [
              "\n",
              "     <input type=\"file\" id=\"files-4e9ddf79-dbdb-46fe-a3ea-8d3a7e4735bd\" name=\"files[]\" multiple disabled\n",
              "        style=\"border:none\" />\n",
              "     <output id=\"result-4e9ddf79-dbdb-46fe-a3ea-8d3a7e4735bd\">\n",
              "      Upload widget is only available when the cell has been executed in the\n",
              "      current browser session. Please rerun this cell to enable.\n",
              "      </output>\n",
              "      <script src=\"/nbextensions/google.colab/files.js\"></script> "
            ],
            "text/plain": [
              "<IPython.core.display.HTML object>"
            ]
          },
          "metadata": {
            "tags": []
          }
        },
        {
          "output_type": "stream",
          "text": [
            "Saving eof_ts_msl-01 to eof_ts_msl-01\n",
            "Saving eof_ts_si10-00 to eof_ts_si10-00\n",
            "Saving eof_ts_sst-00 to eof_ts_sst-00\n",
            "Saving eof_ts_t2m-02 to eof_ts_t2m-02\n",
            "['eof_ts_t2m-02', 'eof_ts_msl-01', 'eof_ts_sst-00', 'eof_ts_si10-00']\n"
          ],
          "name": "stdout"
        },
        {
          "output_type": "execute_result",
          "data": {
            "text/html": [
              "<div>\n",
              "<style scoped>\n",
              "    .dataframe tbody tr th:only-of-type {\n",
              "        vertical-align: middle;\n",
              "    }\n",
              "\n",
              "    .dataframe tbody tr th {\n",
              "        vertical-align: top;\n",
              "    }\n",
              "\n",
              "    .dataframe thead th {\n",
              "        text-align: right;\n",
              "    }\n",
              "</style>\n",
              "<table border=\"1\" class=\"dataframe\">\n",
              "  <thead>\n",
              "    <tr style=\"text-align: right;\">\n",
              "      <th></th>\n",
              "      <th>t2m-02</th>\n",
              "      <th>msl-01</th>\n",
              "      <th>sst-00</th>\n",
              "      <th>si10-00</th>\n",
              "    </tr>\n",
              "  </thead>\n",
              "  <tbody>\n",
              "    <tr>\n",
              "      <th>0</th>\n",
              "      <td>1.923936</td>\n",
              "      <td>-0.499200</td>\n",
              "      <td>-0.034950</td>\n",
              "      <td>-0.061642</td>\n",
              "    </tr>\n",
              "    <tr>\n",
              "      <th>1</th>\n",
              "      <td>1.090690</td>\n",
              "      <td>-0.359078</td>\n",
              "      <td>-0.112926</td>\n",
              "      <td>0.271446</td>\n",
              "    </tr>\n",
              "    <tr>\n",
              "      <th>2</th>\n",
              "      <td>1.509008</td>\n",
              "      <td>-1.042020</td>\n",
              "      <td>-0.120599</td>\n",
              "      <td>0.903523</td>\n",
              "    </tr>\n",
              "    <tr>\n",
              "      <th>3</th>\n",
              "      <td>2.307873</td>\n",
              "      <td>-0.844485</td>\n",
              "      <td>0.072819</td>\n",
              "      <td>0.714178</td>\n",
              "    </tr>\n",
              "    <tr>\n",
              "      <th>4</th>\n",
              "      <td>1.432568</td>\n",
              "      <td>-0.972610</td>\n",
              "      <td>-0.009774</td>\n",
              "      <td>0.846069</td>\n",
              "    </tr>\n",
              "    <tr>\n",
              "      <th>...</th>\n",
              "      <td>...</td>\n",
              "      <td>...</td>\n",
              "      <td>...</td>\n",
              "      <td>...</td>\n",
              "    </tr>\n",
              "    <tr>\n",
              "      <th>475</th>\n",
              "      <td>-1.716517</td>\n",
              "      <td>0.577803</td>\n",
              "      <td>0.946698</td>\n",
              "      <td>-0.276251</td>\n",
              "    </tr>\n",
              "    <tr>\n",
              "      <th>476</th>\n",
              "      <td>-2.854198</td>\n",
              "      <td>-0.750976</td>\n",
              "      <td>1.027206</td>\n",
              "      <td>0.418820</td>\n",
              "    </tr>\n",
              "    <tr>\n",
              "      <th>477</th>\n",
              "      <td>-2.510073</td>\n",
              "      <td>0.157638</td>\n",
              "      <td>1.263357</td>\n",
              "      <td>0.090285</td>\n",
              "    </tr>\n",
              "    <tr>\n",
              "      <th>478</th>\n",
              "      <td>-2.666805</td>\n",
              "      <td>-0.763912</td>\n",
              "      <td>1.282465</td>\n",
              "      <td>0.958832</td>\n",
              "    </tr>\n",
              "    <tr>\n",
              "      <th>479</th>\n",
              "      <td>-2.115379</td>\n",
              "      <td>-0.382399</td>\n",
              "      <td>1.261036</td>\n",
              "      <td>0.265470</td>\n",
              "    </tr>\n",
              "  </tbody>\n",
              "</table>\n",
              "<p>480 rows × 4 columns</p>\n",
              "</div>"
            ],
            "text/plain": [
              "       t2m-02    msl-01    sst-00   si10-00\n",
              "0    1.923936 -0.499200 -0.034950 -0.061642\n",
              "1    1.090690 -0.359078 -0.112926  0.271446\n",
              "2    1.509008 -1.042020 -0.120599  0.903523\n",
              "3    2.307873 -0.844485  0.072819  0.714178\n",
              "4    1.432568 -0.972610 -0.009774  0.846069\n",
              "..        ...       ...       ...       ...\n",
              "475 -1.716517  0.577803  0.946698 -0.276251\n",
              "476 -2.854198 -0.750976  1.027206  0.418820\n",
              "477 -2.510073  0.157638  1.263357  0.090285\n",
              "478 -2.666805 -0.763912  1.282465  0.958832\n",
              "479 -2.115379 -0.382399  1.261036  0.265470\n",
              "\n",
              "[480 rows x 4 columns]"
            ]
          },
          "metadata": {
            "tags": []
          },
          "execution_count": 1
        }
      ]
    },
    {
      "cell_type": "markdown",
      "metadata": {
        "id": "vvUCp-kInKk9",
        "colab_type": "text"
      },
      "source": [
        "##Time Lag\n",
        "\n",
        "When testing for causality, we want to see if lagged variables (or variables in the past) have a role in improving the predictive power of the response variable. Here we apply a lag of 4 months to each variable. We do this by shifting the colum down a fixed amount and removing the empty rows"
      ]
    },
    {
      "cell_type": "code",
      "metadata": {
        "id": "Ey-p9EwOnJym",
        "colab_type": "code",
        "colab": {
          "base_uri": "https://localhost:8080/",
          "height": 402
        },
        "outputId": "a39a7d82-3316-41c4-cbc2-07f52b55ef9c"
      },
      "source": [
        "#takes columns and shift it downwards with lag = n, creating a new column. Aftwards it deletes rows containing NaN\n",
        "def timeLag(dataframe, variables = [], maxLag = 4): #lag in months*\n",
        "  \n",
        "  data = dataframe.copy() #make a copy of dataframe\n",
        "  for variable in variables:\n",
        "    \n",
        "    columnData = pd.DataFrame(dataframe[variable]) #look at the column we want to shift\n",
        "\n",
        "    tempLag = columnData.shift(maxLag)\n",
        "\n",
        "    newCol = pd.DataFrame(tempLag)\n",
        "\n",
        "    newName = variable+\"_L\" #label 'L' for lagged variable\n",
        "    data[newName] = newCol\n",
        "\n",
        "  data = data.dropna() #drop the rows with NaN\n",
        "  data.index = np.arange(0, len(data)) #fix the indexing after shifting\n",
        "  return data\n",
        "\n",
        "###Functions for retrieving lag information###\n",
        "\n",
        "def getLag(string):\n",
        "  if \"_\" in string:\n",
        "    return str(string[string.rfind('_')+1 : len(string)])\n",
        "  else:\n",
        "    return str(0)\n",
        "  \n",
        "def withoutLag(string):\n",
        "  if \"_\" in string:\n",
        "    return str(string[0: string.rfind('_')])\n",
        "  \n",
        "def getLocation(string):\n",
        "  if '_' in string:\n",
        "    return str(string[string.rfind('-')+1 : string.rfind('_')])\n",
        "  else:\n",
        "    return str(string[string.rfind('-')+1 : len(string)])\n",
        "\n",
        "#Use to rename new colums when lag is applied\n",
        "def renameColumn(column, appendString):\n",
        "  return column +\"_\"+ appendString\n",
        "\n",
        "lagData = timeLag(df, df.columns, 4)\n",
        "lagData"
      ],
      "execution_count": 21,
      "outputs": [
        {
          "output_type": "execute_result",
          "data": {
            "text/html": [
              "<div>\n",
              "<style scoped>\n",
              "    .dataframe tbody tr th:only-of-type {\n",
              "        vertical-align: middle;\n",
              "    }\n",
              "\n",
              "    .dataframe tbody tr th {\n",
              "        vertical-align: top;\n",
              "    }\n",
              "\n",
              "    .dataframe thead th {\n",
              "        text-align: right;\n",
              "    }\n",
              "</style>\n",
              "<table border=\"1\" class=\"dataframe\">\n",
              "  <thead>\n",
              "    <tr style=\"text-align: right;\">\n",
              "      <th></th>\n",
              "      <th>t2m-02</th>\n",
              "      <th>msl-01</th>\n",
              "      <th>sst-00</th>\n",
              "      <th>si10-00</th>\n",
              "      <th>t2m-02_L</th>\n",
              "      <th>msl-01_L</th>\n",
              "      <th>sst-00_L</th>\n",
              "      <th>si10-00_L</th>\n",
              "    </tr>\n",
              "  </thead>\n",
              "  <tbody>\n",
              "    <tr>\n",
              "      <th>0</th>\n",
              "      <td>1.432568</td>\n",
              "      <td>-0.972610</td>\n",
              "      <td>-0.009774</td>\n",
              "      <td>0.846069</td>\n",
              "      <td>1.923936</td>\n",
              "      <td>-0.499200</td>\n",
              "      <td>-0.034950</td>\n",
              "      <td>-0.061642</td>\n",
              "    </tr>\n",
              "    <tr>\n",
              "      <th>1</th>\n",
              "      <td>0.912408</td>\n",
              "      <td>-1.497780</td>\n",
              "      <td>0.123207</td>\n",
              "      <td>0.729229</td>\n",
              "      <td>1.090690</td>\n",
              "      <td>-0.359078</td>\n",
              "      <td>-0.112926</td>\n",
              "      <td>0.271446</td>\n",
              "    </tr>\n",
              "    <tr>\n",
              "      <th>2</th>\n",
              "      <td>0.115253</td>\n",
              "      <td>-2.333303</td>\n",
              "      <td>-0.020594</td>\n",
              "      <td>1.790234</td>\n",
              "      <td>1.509008</td>\n",
              "      <td>-1.042020</td>\n",
              "      <td>-0.120599</td>\n",
              "      <td>0.903523</td>\n",
              "    </tr>\n",
              "    <tr>\n",
              "      <th>3</th>\n",
              "      <td>1.089567</td>\n",
              "      <td>-0.509094</td>\n",
              "      <td>0.131408</td>\n",
              "      <td>1.780666</td>\n",
              "      <td>2.307873</td>\n",
              "      <td>-0.844485</td>\n",
              "      <td>0.072819</td>\n",
              "      <td>0.714178</td>\n",
              "    </tr>\n",
              "    <tr>\n",
              "      <th>4</th>\n",
              "      <td>1.420504</td>\n",
              "      <td>-0.641116</td>\n",
              "      <td>0.250609</td>\n",
              "      <td>0.902878</td>\n",
              "      <td>1.432568</td>\n",
              "      <td>-0.972610</td>\n",
              "      <td>-0.009774</td>\n",
              "      <td>0.846069</td>\n",
              "    </tr>\n",
              "    <tr>\n",
              "      <th>...</th>\n",
              "      <td>...</td>\n",
              "      <td>...</td>\n",
              "      <td>...</td>\n",
              "      <td>...</td>\n",
              "      <td>...</td>\n",
              "      <td>...</td>\n",
              "      <td>...</td>\n",
              "      <td>...</td>\n",
              "    </tr>\n",
              "    <tr>\n",
              "      <th>471</th>\n",
              "      <td>-1.716517</td>\n",
              "      <td>0.577803</td>\n",
              "      <td>0.946698</td>\n",
              "      <td>-0.276251</td>\n",
              "      <td>-1.800670</td>\n",
              "      <td>0.819801</td>\n",
              "      <td>0.710448</td>\n",
              "      <td>-1.321030</td>\n",
              "    </tr>\n",
              "    <tr>\n",
              "      <th>472</th>\n",
              "      <td>-2.854198</td>\n",
              "      <td>-0.750976</td>\n",
              "      <td>1.027206</td>\n",
              "      <td>0.418820</td>\n",
              "      <td>-1.824383</td>\n",
              "      <td>0.259479</td>\n",
              "      <td>0.909621</td>\n",
              "      <td>-0.562471</td>\n",
              "    </tr>\n",
              "    <tr>\n",
              "      <th>473</th>\n",
              "      <td>-2.510073</td>\n",
              "      <td>0.157638</td>\n",
              "      <td>1.263357</td>\n",
              "      <td>0.090285</td>\n",
              "      <td>-1.766306</td>\n",
              "      <td>0.501073</td>\n",
              "      <td>0.941405</td>\n",
              "      <td>-0.532906</td>\n",
              "    </tr>\n",
              "    <tr>\n",
              "      <th>474</th>\n",
              "      <td>-2.666805</td>\n",
              "      <td>-0.763912</td>\n",
              "      <td>1.282465</td>\n",
              "      <td>0.958832</td>\n",
              "      <td>-2.012271</td>\n",
              "      <td>0.020921</td>\n",
              "      <td>0.940579</td>\n",
              "      <td>-0.544551</td>\n",
              "    </tr>\n",
              "    <tr>\n",
              "      <th>475</th>\n",
              "      <td>-2.115379</td>\n",
              "      <td>-0.382399</td>\n",
              "      <td>1.261036</td>\n",
              "      <td>0.265470</td>\n",
              "      <td>-1.716517</td>\n",
              "      <td>0.577803</td>\n",
              "      <td>0.946698</td>\n",
              "      <td>-0.276251</td>\n",
              "    </tr>\n",
              "  </tbody>\n",
              "</table>\n",
              "<p>476 rows × 8 columns</p>\n",
              "</div>"
            ],
            "text/plain": [
              "       t2m-02    msl-01    sst-00  ...  msl-01_L  sst-00_L  si10-00_L\n",
              "0    1.432568 -0.972610 -0.009774  ... -0.499200 -0.034950  -0.061642\n",
              "1    0.912408 -1.497780  0.123207  ... -0.359078 -0.112926   0.271446\n",
              "2    0.115253 -2.333303 -0.020594  ... -1.042020 -0.120599   0.903523\n",
              "3    1.089567 -0.509094  0.131408  ... -0.844485  0.072819   0.714178\n",
              "4    1.420504 -0.641116  0.250609  ... -0.972610 -0.009774   0.846069\n",
              "..        ...       ...       ...  ...       ...       ...        ...\n",
              "471 -1.716517  0.577803  0.946698  ...  0.819801  0.710448  -1.321030\n",
              "472 -2.854198 -0.750976  1.027206  ...  0.259479  0.909621  -0.562471\n",
              "473 -2.510073  0.157638  1.263357  ...  0.501073  0.941405  -0.532906\n",
              "474 -2.666805 -0.763912  1.282465  ...  0.020921  0.940579  -0.544551\n",
              "475 -2.115379 -0.382399  1.261036  ...  0.577803  0.946698  -0.276251\n",
              "\n",
              "[476 rows x 8 columns]"
            ]
          },
          "metadata": {
            "tags": []
          },
          "execution_count": 21
        }
      ]
    },
    {
      "cell_type": "markdown",
      "metadata": {
        "id": "KFtYXuZTrkzI",
        "colab_type": "text"
      },
      "source": [
        "##Visualize Data"
      ]
    },
    {
      "cell_type": "code",
      "metadata": {
        "id": "9EjrrFqit_g0",
        "colab_type": "code",
        "colab": {
          "base_uri": "https://localhost:8080/",
          "height": 971
        },
        "outputId": "72332ce7-6666-4e76-b140-a8e546d830a7"
      },
      "source": [
        "fig, axs = plt.subplots(len(df.columns))\n",
        "\n",
        "fig.suptitle('Atmospheric Variables')\n",
        "\n",
        "fig.set_figheight(15)\n",
        "fig.set_figwidth(15)\n",
        "\n",
        "for i, ax in enumerate(axs):\n",
        "    df[df.columns[i]].plot(ax=axs[i], legend=True)"
      ],
      "execution_count": 85,
      "outputs": [
        {
          "output_type": "display_data",
          "data": {
            "image/png": "[encoded data removed]",
            "text/plain": [
              "<Figure size 1080x1080 with 4 Axes>"
            ]
          },
          "metadata": {
            "tags": [],
            "needs_background": "light"
          }
        }
      ]
    },
    {
      "cell_type": "code",
      "metadata": {
        "id": "46EKw5iyroIY",
        "colab_type": "code",
        "colab": {}
      },
      "source": [
        "# fig, axs = plt.subplots(len(lagData.columns))\n",
        "\n",
        "# fig.set_figheight(15)\n",
        "# fig.set_figwidth(15)\n",
        "\n",
        "\n",
        "# for i, ax in enumerate(axs):\n",
        "#     lagData[lagData.columns[i]].plot(ax=axs[i], legend=True)\n"
      ],
      "execution_count": null,
      "outputs": []
    },
    {
      "cell_type": "markdown",
      "metadata": {
        "id": "wGL0q8sXVYlJ",
        "colab_type": "text"
      },
      "source": [
        "##Causality\n",
        "\n",
        "In this example, I will focus on one relationship to discover granger causality\n",
        "\n",
        "**Approach**\n",
        "\n",
        "\n",
        "1) I'm using some data from last summer (as a starting point) and applied a fixed lag of 4 months on each variable by shifting the column down one step:\n",
        "\n",
        "\n",
        "2) I select one unlagged variable to use as my response variable (y). I use pyGAM to fit the GAM using a lagged time series of that response variable (functioning as explanatory variables) (X1). ex. gam.fit(X1, y)\n",
        "\n",
        "\n",
        "3) After learning the model, with all its smooth functions and corresponding coefficients, I ADD a second lagged explanatory variable (X2) and create a second GAM. ex. gam.fit(X2, y)\n",
        "\n",
        "\n",
        "4) Afterwards, I store the model predictions of X1 and X2 and calculate the mean squared error of both predictions. I use these values in my F-test to output a p-value in order to reject null-hypothesis “X2 does not granger cause y” (given that the p value < 0.05 (significance level) ). Since I am trying to find if adding a new variable, X2, improves the predictive power of the response variable. \n",
        "\n",
        "\n",
        "5) I repeat the steps above with different combinations of response and explanatory variables to discover granger causality (NOT 'true cause', just to show if a variable shows precedence on another)\n",
        "\n",
        "\n"
      ]
    },
    {
      "cell_type": "code",
      "metadata": {
        "id": "BThcaZtkViU-",
        "colab_type": "code",
        "colab": {
          "base_uri": "https://localhost:8080/",
          "height": 222
        },
        "outputId": "95127842-4db9-4fc6-d706-de5d10154bb6"
      },
      "source": [
        "!pip install pygam"
      ],
      "execution_count": 14,
      "outputs": [
        {
          "output_type": "stream",
          "text": [
            "Collecting pygam\n",
            "\u001b[?25l  Downloading https://files.pythonhosted.org/packages/13/be/775033ef08a8945bec6ad7973b161ca909f852442e0d7cfb8d1a214de1ac/pygam-0.8.0-py2.py3-none-any.whl (1.8MB)\n",
            "\u001b[K     |████████████████████████████████| 1.8MB 3.4MB/s \n",
            "\u001b[?25hRequirement already satisfied: scipy in /usr/local/lib/python3.6/dist-packages (from pygam) (1.4.1)\n",
            "Requirement already satisfied: numpy in /usr/local/lib/python3.6/dist-packages (from pygam) (1.18.5)\n",
            "Requirement already satisfied: future in /usr/local/lib/python3.6/dist-packages (from pygam) (0.16.0)\n",
            "Requirement already satisfied: progressbar2 in /usr/local/lib/python3.6/dist-packages (from pygam) (3.38.0)\n",
            "Requirement already satisfied: six in /usr/local/lib/python3.6/dist-packages (from progressbar2->pygam) (1.12.0)\n",
            "Requirement already satisfied: python-utils>=2.3.0 in /usr/local/lib/python3.6/dist-packages (from progressbar2->pygam) (2.4.0)\n",
            "Installing collected packages: pygam\n",
            "Successfully installed pygam-0.8.0\n"
          ],
          "name": "stdout"
        }
      ]
    },
    {
      "cell_type": "markdown",
      "metadata": {
        "id": "98eweE0PRaj-",
        "colab_type": "text"
      },
      "source": [
        "Here we specify the the response variable and 2 sets of explanatory variables X1 and X2\n",
        "\n",
        "X1 being a set of lagged versions of the response variable\n",
        "\n",
        "X2 being the same as X1 with an additional lagged variable added"
      ]
    },
    {
      "cell_type": "code",
      "metadata": {
        "id": "M-8hoRIVil4-",
        "colab_type": "code",
        "colab": {}
      },
      "source": [
        "from pygam import LinearGAM\n",
        "\n",
        "#Using lagged versions of the response variable as explanatory variables\n",
        "t_self = timeLag(df, ['sst-00'], 4)\n",
        "X1 = (t_self.drop(df.columns, axis=1)).values\n",
        "\n",
        "# #Adding an aditional variable \n",
        "t_new = timeLag(df, ['sst-00','t2m-02'], 4)\n",
        "X2 = (t_new.drop(df.columns, axis=1)).values\n",
        "\n",
        "y = t_self['sst-00'] #response variable\n",
        "\n",
        "\n",
        "# print(X1)\n",
        "# print(X2)\n"
      ],
      "execution_count": 22,
      "outputs": []
    },
    {
      "cell_type": "markdown",
      "metadata": {
        "id": "Vd8Gl1duB9pC",
        "colab_type": "text"
      },
      "source": [
        "Now, we use pyGAM to fit the data using the Linear GAM class. To save us time guessing the smoothing penalty, we will use pyGAM's built-in gridsearch function which utilizes generalized cross validation and  \n",
        "\n",
        "Note: there are other options when fiting the data"
      ]
    },
    {
      "cell_type": "code",
      "metadata": {
        "id": "Mr2VFCwzULlN",
        "colab_type": "code",
        "colab": {
          "base_uri": "https://localhost:8080/",
          "height": 1000
        },
        "outputId": "0b5818d7-0f2f-408a-b1de-696598c494e9"
      },
      "source": [
        "#LinearGAM uses a normal distribution with an identity link function\n",
        "from pygam import GAM, s, f, LinearGAM\n",
        "\n",
        "# n_splines = refers to the number of splines to use in each of the smooth function that is going to be fitted.\n",
        "# lam = is the penalization term that is multiplied to the second derivative in the overall objective function.\n",
        "\n",
        "#the more splines the more flexible and wiggly the model is\n",
        "#lam = smoothing penalty\n",
        "\n",
        "gamModel1 = LinearGAM(n_splines=50).gridsearch(X1, y) #Learned GAM with first explanatory variable\n",
        "gamModel2 = LinearGAM(n_splines=50).gridsearch(X2, y) #Learned GAM with additional explanatory variable added\n",
        "\n",
        "#View model summary\n",
        "gamModel1.summary()\n",
        "gamModel2.summary()\n",
        "\n",
        "# print(gamModel2.statistics_['p_values'])\n",
        "\n",
        "\n",
        "#Plot partial dependence\n",
        "#df['sst-00'].plot(legend=True) #actual values\n",
        "\n",
        "# XX = gamModel2.generate_X_grid(term=0)\n",
        "\n",
        "# plt.plot(XX, gamModel2.predict(XX), 'r--') #GAM\n",
        "\n",
        "# # here we define a 95% prediction interval (in blue)\n",
        "# plt.plot(XX, gamModel2.prediction_intervals(XX, width=.95), color='b', ls='--')"
      ],
      "execution_count": 28,
      "outputs": [
        {
          "output_type": "stream",
          "text": [
            "100% (11 of 11) |########################| Elapsed Time: 0:00:00 Time:  0:00:00\n",
            "100% (11 of 11) |########################| Elapsed Time: 0:00:00 Time:  0:00:00\n"
          ],
          "name": "stderr"
        },
        {
          "output_type": "stream",
          "text": [
            "LinearGAM                                                                                                 \n",
            "=============================================== ==========================================================\n",
            "Distribution:                        NormalDist Effective DoF:                                      7.7831\n",
            "Link Function:                     IdentityLink Log Likelihood:                                  -589.2055\n",
            "Number of Samples:                          476 AIC:                                             1195.9771\n",
            "                                                AICc:                                            1196.3458\n",
            "                                                GCV:                                                0.4027\n",
            "                                                Scale:                                              0.3909\n",
            "                                                Pseudo R-Squared:                                   0.6179\n",
            "==========================================================================================================\n",
            "Feature Function                  Lambda               Rank         EDoF         P > x        Sig. Code   \n",
            "================================= ==================== ============ ============ ============ ============\n",
            "s(0)                              [251.1886]           50           7.8          1.11e-16     ***         \n",
            "intercept                                              1            0.0          3.70e-10     ***         \n",
            "==========================================================================================================\n",
            "Significance codes:  0 '***' 0.001 '**' 0.01 '*' 0.05 '.' 0.1 ' ' 1\n",
            "\n",
            "WARNING: Fitting splines and a linear function to a feature introduces a model identifiability problem\n",
            "         which can cause p-values to appear significant when they are not.\n",
            "\n",
            "WARNING: p-values calculated in this manner behave correctly for un-penalized models or models with\n",
            "         known smoothing parameters, but when smoothing parameters have been estimated, the p-values\n",
            "         are typically lower than they should be, meaning that the tests reject the null too readily.\n",
            "LinearGAM                                                                                                 \n",
            "=============================================== ==========================================================\n",
            "Distribution:                        NormalDist Effective DoF:                                     10.4399\n",
            "Link Function:                     IdentityLink Log Likelihood:                                  -585.2689\n",
            "Number of Samples:                          476 AIC:                                             1193.4175\n",
            "                                                AICc:                                            1194.0314\n",
            "                                                GCV:                                                0.4088\n",
            "                                                Scale:                                              0.3927\n",
            "                                                Pseudo R-Squared:                                   0.6183\n",
            "==========================================================================================================\n",
            "Feature Function                  Lambda               Rank         EDoF         P > x        Sig. Code   \n",
            "================================= ==================== ============ ============ ============ ============\n",
            "s(0)                              [1000.]              50           6.3          1.11e-16     ***         \n",
            "s(1)                              [1000.]              50           4.1          7.13e-01                 \n",
            "intercept                                              1            0.0          8.62e-05     ***         \n",
            "==========================================================================================================\n",
            "Significance codes:  0 '***' 0.001 '**' 0.01 '*' 0.05 '.' 0.1 ' ' 1\n",
            "\n",
            "WARNING: Fitting splines and a linear function to a feature introduces a model identifiability problem\n",
            "         which can cause p-values to appear significant when they are not.\n",
            "\n",
            "WARNING: p-values calculated in this manner behave correctly for un-penalized models or models with\n",
            "         known smoothing parameters, but when smoothing parameters have been estimated, the p-values\n",
            "         are typically lower than they should be, meaning that the tests reject the null too readily.\n"
          ],
          "name": "stdout"
        },
        {
          "output_type": "stream",
          "text": [
            "/usr/local/lib/python3.6/dist-packages/ipykernel_launcher.py:14: UserWarning: KNOWN BUG: p-values computed in this summary are likely much smaller than they should be. \n",
            " \n",
            "Please do not make inferences based on these values! \n",
            "\n",
            "Collaborate on a solution, and stay up to date at: \n",
            "github.com/dswah/pyGAM/issues/163 \n",
            "\n",
            "  \n",
            "/usr/local/lib/python3.6/dist-packages/ipykernel_launcher.py:15: UserWarning: KNOWN BUG: p-values computed in this summary are likely much smaller than they should be. \n",
            " \n",
            "Please do not make inferences based on these values! \n",
            "\n",
            "Collaborate on a solution, and stay up to date at: \n",
            "github.com/dswah/pyGAM/issues/163 \n",
            "\n",
            "  from ipykernel import kernelapp as app\n"
          ],
          "name": "stderr"
        }
      ]
    },
    {
      "cell_type": "markdown",
      "metadata": {
        "id": "CyCRN96053eu",
        "colab_type": "text"
      },
      "source": [
        "Store predictions in their own variables. these will be our estimated response values\n",
        "\n",
        "Now calculate the mean squared error\n",
        "\n",
        "https://www.statisticshowto.com/mean-squared-error/\n",
        "\n",
        "1. Find the regression line.\n",
        "\n",
        "2. Insert your X values into the linear regression equation to find the new Y values (Y’).\n",
        "\n",
        "3. Subtract the new Y value from the original to get the error.\n",
        "\n",
        "4. Square the errors.\n",
        "\n",
        "5. Add up the errors.\n",
        "\n",
        "6. Find the mean."
      ]
    },
    {
      "cell_type": "code",
      "metadata": {
        "id": "NpkaXp3m4AZh",
        "colab_type": "code",
        "colab": {
          "base_uri": "https://localhost:8080/",
          "height": 50
        },
        "outputId": "651c6089-588d-46b1-a9ec-0285dc652e5c"
      },
      "source": [
        "# are the estimated y values of both models\n",
        "modelPred1 = gamModel1.predict(X1)\n",
        "modelPred2 = gamModel2.predict(X2)\n",
        "\n",
        "#Calculate and store the mean squared error\n",
        "mse1 = np.mean((modelPred1 - y)**2)\n",
        "mse2 = np.mean((modelPred2 - y)**2)\n",
        "\n",
        "print(mse1)\n",
        "print(mse2)"
      ],
      "execution_count": 90,
      "outputs": [
        {
          "output_type": "stream",
          "text": [
            "0.38449838893124394\n",
            "0.3840622340075368\n"
          ],
          "name": "stdout"
        }
      ]
    },
    {
      "cell_type": "code",
      "metadata": {
        "id": "l-qgNEbmLp7G",
        "colab_type": "code",
        "colab": {}
      },
      "source": [
        "#SAME AS ABOVE\n",
        "#This is how tht MSE is calculated but more in depth\n",
        "\n",
        "# summation = 0  #variable to store the summation of differences\n",
        "# n = len(y) #finding total number of items in list\n",
        "# for i in range (0,n):  #looping through each element of the list\n",
        "#   difference = y[i] - modelPred1[i]  #finding the difference between observed and predicted value\n",
        "#   squared_difference = difference**2  #taking square of the differene \n",
        "#   summation = summation + squared_difference  #taking a sum of all the differences\n",
        "# MSE = summation/n  #dividing summation by total values to obtain average\n",
        "# print(MSE)"
      ],
      "execution_count": 132,
      "outputs": []
    },
    {
      "cell_type": "markdown",
      "metadata": {
        "id": "p90VxcLmMtG2",
        "colab_type": "text"
      },
      "source": [
        "Now we use the mean square error to calculate the f score and p value"
      ]
    },
    {
      "cell_type": "code",
      "metadata": {
        "id": "wtiwbsbZMN2F",
        "colab_type": "code",
        "colab": {
          "base_uri": "https://localhost:8080/",
          "height": 50
        },
        "outputId": "2a5090d2-4e3d-4104-c958-a5f56219a6ce"
      },
      "source": [
        "from sklearn.metrics import mean_squared_error\n",
        "import scipy\n",
        "\n",
        "maxlag = 4 \n",
        "n = df.shape[0]\n",
        "k = 2\n",
        "\n",
        "\n",
        "f_score = ((mse1-mse2)/mse2)*((n-k*maxlag)/maxlag)\n",
        "print('f score: ', f_score)\n",
        "p_value = scipy.stats.f.sf(f_score, maxlag, n-k*maxlag)\n",
        "print(\"p_value: \", p_value)"
      ],
      "execution_count": 91,
      "outputs": [
        {
          "output_type": "stream",
          "text": [
            "f score:  0.13400505553595174\n",
            "p_value:  0.969815915979183\n"
          ],
          "name": "stdout"
        }
      ]
    },
    {
      "cell_type": "markdown",
      "metadata": {
        "id": "f0yplp2nyExG",
        "colab_type": "text"
      },
      "source": [
        "We test if the p value is less than the alpha value. If so, we reject the null hypothesis, otherwise the null hypothesis holds true"
      ]
    },
    {
      "cell_type": "code",
      "metadata": {
        "id": "0KNP0UApXDhF",
        "colab_type": "code",
        "colab": {
          "base_uri": "https://localhost:8080/",
          "height": 34
        },
        "outputId": "f006060c-e92a-4984-cc3f-95947b84c01c"
      },
      "source": [
        "alpha = 0.05\n",
        "\n",
        "if p_value < alpha:\n",
        "  print(\"Null hypothesis is rejected. X2 granger causes X1\")\n",
        "else:\n",
        "  print(\"Null hypothesis holds. X2 does NOT granger causes X1\")"
      ],
      "execution_count": 82,
      "outputs": [
        {
          "output_type": "stream",
          "text": [
            "Null hypothesis holds. X2 does not granger causes X1\n"
          ],
          "name": "stdout"
        }
      ]
    },
    {
      "cell_type": "markdown",
      "metadata": {
        "id": "gHyIkTfXRrYi",
        "colab_type": "text"
      },
      "source": [
        "#Discovering Granger Causality \n",
        "\n",
        "Here we will bring all the steps previously defined in the walkthrough and make it more modular. I will loop through different cause-effect pairs to find any granger causes. After doing so, it will output a graph alongside all the causal links"
      ]
    },
    {
      "cell_type": "code",
      "metadata": {
        "id": "yDJBE8VpLmRV",
        "colab_type": "code",
        "colab": {
          "base_uri": "https://localhost:8080/",
          "height": 238
        },
        "outputId": "76987f8d-fcd0-4d1d-976f-82ecc330c9bd"
      },
      "source": [
        "!pip install pygam\n",
        "!pip install graphviz"
      ],
      "execution_count": 1,
      "outputs": [
        {
          "output_type": "stream",
          "text": [
            "Collecting pygam\n",
            "\u001b[?25l  Downloading https://files.pythonhosted.org/packages/13/be/775033ef08a8945bec6ad7973b161ca909f852442e0d7cfb8d1a214de1ac/pygam-0.8.0-py2.py3-none-any.whl (1.8MB)\n",
            "\u001b[K     |████████████████████████████████| 1.8MB 2.7MB/s \n",
            "\u001b[?25hRequirement already satisfied: scipy in /usr/local/lib/python3.6/dist-packages (from pygam) (1.4.1)\n",
            "Requirement already satisfied: numpy in /usr/local/lib/python3.6/dist-packages (from pygam) (1.18.5)\n",
            "Requirement already satisfied: future in /usr/local/lib/python3.6/dist-packages (from pygam) (0.16.0)\n",
            "Requirement already satisfied: progressbar2 in /usr/local/lib/python3.6/dist-packages (from pygam) (3.38.0)\n",
            "Requirement already satisfied: python-utils>=2.3.0 in /usr/local/lib/python3.6/dist-packages (from progressbar2->pygam) (2.4.0)\n",
            "Requirement already satisfied: six in /usr/local/lib/python3.6/dist-packages (from progressbar2->pygam) (1.12.0)\n",
            "Installing collected packages: pygam\n",
            "Successfully installed pygam-0.8.0\n",
            "Requirement already satisfied: graphviz in /usr/local/lib/python3.6/dist-packages (0.10.1)\n"
          ],
          "name": "stdout"
        }
      ]
    },
    {
      "cell_type": "markdown",
      "metadata": {
        "id": "bv2R4HS5LyH0",
        "colab_type": "text"
      },
      "source": [
        "Preparing the Data"
      ]
    },
    {
      "cell_type": "code",
      "metadata": {
        "id": "pcrWiTQEL03W",
        "colab_type": "code",
        "colab": {
          "resources": {
            "http://localhost:8080/nbextensions/google.colab/files.js": {
              "data": "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",
              "ok": true,
              "headers": [
                [
                  "content-type",
                  "application/javascript"
                ]
              ],
              "status": 200,
              "status_text": ""
            }
          },
          "base_uri": "https://localhost:8080/",
          "height": 575
        },
        "outputId": "a639fde6-1853-45e7-af3f-46404ad206ed"
      },
      "source": [
        "import pandas as pd\n",
        "import dask.dataframe as dd #for parallel processing\n",
        "import numpy as np\n",
        "import matplotlib.pyplot as plt\n",
        "from google.colab import files\n",
        "import glob\n",
        "\n",
        "#Takes in a 1D array and makes subsets of the array, returning a matrix\n",
        "#Chunk size - how big each subset of the array will be\n",
        "#numFiles - defines the columns\n",
        "def getMatrix(array, chunkSize, numFiles):\n",
        "  low = 0\n",
        "  matrix = []\n",
        "  for i in range(0, numFiles):\n",
        "    matrix.append(array[low:low+chunkSize])\n",
        "    low = low + chunkSize\n",
        "  return np.transpose(matrix)\n",
        "\n",
        "\n",
        "files.upload() #Upload Files from local directory\n",
        "filelist = glob.glob('eof_ts*') #get all files starting with eof\n",
        "print(filelist)\n",
        "\n",
        "#reading in files\n",
        "df = dd.read_csv(filelist, names=[\"Initial\"]) #use parallel processing to read in all the files (much faster)\n",
        "df = df.compute() #create dataframe\n",
        "\n",
        "#Dask reads in all the data into a 2D array, storing all the values in their own 1D arrays. Ex. [ [21], [23], [59] ....]\n",
        "#Here I am extracting the data and putting it all in a 1D array\n",
        "temp = df.values\n",
        "array = []\n",
        "for i in range(0, len(temp)):\n",
        "  array.append(temp[i][0])\n",
        "  \n",
        "#set the column names  \n",
        "columnNames = [filename[filename.rfind('_')+1 : len(filename)] for filename in filelist]\n",
        "\n",
        "#To reconstruct he matrix in our desired way, call the getMatrix function  \n",
        "matrix = getMatrix(array, 480, len(filelist)) #480 because we are looking at 480 months ~40 yrs\n",
        "\n",
        "df = pd.DataFrame(matrix, columns = columnNames) #assign matrix to the dataframe\n",
        "\n",
        "df #print dataframe"
      ],
      "execution_count": 2,
      "outputs": [
        {
          "output_type": "display_data",
          "data": {
            "text/html": [
              "\n",
              "     <input type=\"file\" id=\"files-e52f9b1d-7d3b-4d16-bda0-3db8cfba1dac\" name=\"files[]\" multiple disabled\n",
              "        style=\"border:none\" />\n",
              "     <output id=\"result-e52f9b1d-7d3b-4d16-bda0-3db8cfba1dac\">\n",
              "      Upload widget is only available when the cell has been executed in the\n",
              "      current browser session. Please rerun this cell to enable.\n",
              "      </output>\n",
              "      <script src=\"/nbextensions/google.colab/files.js\"></script> "
            ],
            "text/plain": [
              "<IPython.core.display.HTML object>"
            ]
          },
          "metadata": {
            "tags": []
          }
        },
        {
          "output_type": "stream",
          "text": [
            "Saving eof_ts_msl-01 to eof_ts_msl-01\n",
            "Saving eof_ts_si10-00 to eof_ts_si10-00\n",
            "Saving eof_ts_sst-00 to eof_ts_sst-00\n",
            "Saving eof_ts_t2m-02 to eof_ts_t2m-02\n",
            "['eof_ts_t2m-02', 'eof_ts_msl-01', 'eof_ts_sst-00', 'eof_ts_si10-00']\n"
          ],
          "name": "stdout"
        },
        {
          "output_type": "execute_result",
          "data": {
            "text/html": [
              "<div>\n",
              "<style scoped>\n",
              "    .dataframe tbody tr th:only-of-type {\n",
              "        vertical-align: middle;\n",
              "    }\n",
              "\n",
              "    .dataframe tbody tr th {\n",
              "        vertical-align: top;\n",
              "    }\n",
              "\n",
              "    .dataframe thead th {\n",
              "        text-align: right;\n",
              "    }\n",
              "</style>\n",
              "<table border=\"1\" class=\"dataframe\">\n",
              "  <thead>\n",
              "    <tr style=\"text-align: right;\">\n",
              "      <th></th>\n",
              "      <th>t2m-02</th>\n",
              "      <th>msl-01</th>\n",
              "      <th>sst-00</th>\n",
              "      <th>si10-00</th>\n",
              "    </tr>\n",
              "  </thead>\n",
              "  <tbody>\n",
              "    <tr>\n",
              "      <th>0</th>\n",
              "      <td>1.923936</td>\n",
              "      <td>-0.499200</td>\n",
              "      <td>-0.034950</td>\n",
              "      <td>-0.061642</td>\n",
              "    </tr>\n",
              "    <tr>\n",
              "      <th>1</th>\n",
              "      <td>1.090690</td>\n",
              "      <td>-0.359078</td>\n",
              "      <td>-0.112926</td>\n",
              "      <td>0.271446</td>\n",
              "    </tr>\n",
              "    <tr>\n",
              "      <th>2</th>\n",
              "      <td>1.509008</td>\n",
              "      <td>-1.042020</td>\n",
              "      <td>-0.120599</td>\n",
              "      <td>0.903523</td>\n",
              "    </tr>\n",
              "    <tr>\n",
              "      <th>3</th>\n",
              "      <td>2.307873</td>\n",
              "      <td>-0.844485</td>\n",
              "      <td>0.072819</td>\n",
              "      <td>0.714178</td>\n",
              "    </tr>\n",
              "    <tr>\n",
              "      <th>4</th>\n",
              "      <td>1.432568</td>\n",
              "      <td>-0.972610</td>\n",
              "      <td>-0.009774</td>\n",
              "      <td>0.846069</td>\n",
              "    </tr>\n",
              "    <tr>\n",
              "      <th>...</th>\n",
              "      <td>...</td>\n",
              "      <td>...</td>\n",
              "      <td>...</td>\n",
              "      <td>...</td>\n",
              "    </tr>\n",
              "    <tr>\n",
              "      <th>475</th>\n",
              "      <td>-1.716517</td>\n",
              "      <td>0.577803</td>\n",
              "      <td>0.946698</td>\n",
              "      <td>-0.276251</td>\n",
              "    </tr>\n",
              "    <tr>\n",
              "      <th>476</th>\n",
              "      <td>-2.854198</td>\n",
              "      <td>-0.750976</td>\n",
              "      <td>1.027206</td>\n",
              "      <td>0.418820</td>\n",
              "    </tr>\n",
              "    <tr>\n",
              "      <th>477</th>\n",
              "      <td>-2.510073</td>\n",
              "      <td>0.157638</td>\n",
              "      <td>1.263357</td>\n",
              "      <td>0.090285</td>\n",
              "    </tr>\n",
              "    <tr>\n",
              "      <th>478</th>\n",
              "      <td>-2.666805</td>\n",
              "      <td>-0.763912</td>\n",
              "      <td>1.282465</td>\n",
              "      <td>0.958832</td>\n",
              "    </tr>\n",
              "    <tr>\n",
              "      <th>479</th>\n",
              "      <td>-2.115379</td>\n",
              "      <td>-0.382399</td>\n",
              "      <td>1.261036</td>\n",
              "      <td>0.265470</td>\n",
              "    </tr>\n",
              "  </tbody>\n",
              "</table>\n",
              "<p>480 rows × 4 columns</p>\n",
              "</div>"
            ],
            "text/plain": [
              "       t2m-02    msl-01    sst-00   si10-00\n",
              "0    1.923936 -0.499200 -0.034950 -0.061642\n",
              "1    1.090690 -0.359078 -0.112926  0.271446\n",
              "2    1.509008 -1.042020 -0.120599  0.903523\n",
              "3    2.307873 -0.844485  0.072819  0.714178\n",
              "4    1.432568 -0.972610 -0.009774  0.846069\n",
              "..        ...       ...       ...       ...\n",
              "475 -1.716517  0.577803  0.946698 -0.276251\n",
              "476 -2.854198 -0.750976  1.027206  0.418820\n",
              "477 -2.510073  0.157638  1.263357  0.090285\n",
              "478 -2.666805 -0.763912  1.282465  0.958832\n",
              "479 -2.115379 -0.382399  1.261036  0.265470\n",
              "\n",
              "[480 rows x 4 columns]"
            ]
          },
          "metadata": {
            "tags": []
          },
          "execution_count": 2
        }
      ]
    },
    {
      "cell_type": "code",
      "metadata": {
        "id": "h7ReBveNmMwg",
        "colab_type": "code",
        "colab": {
          "base_uri": "https://localhost:8080/",
          "height": 1000
        },
        "outputId": "16f27360-6820-4b4d-88c0-343329b72409"
      },
      "source": [
        "from pygam import LinearGAM\n",
        "from graphviz import Digraph\n",
        "from sklearn.metrics import mean_squared_error\n",
        "import scipy\n",
        "\n",
        "#takes columns and shift it downwards with lag = n, creating a new column. Aftwards it deletes rows containing NaN\n",
        "def timeLag(dataframe, variables = [], maxLag = 4): #lag in months*\n",
        "  data = dataframe.copy() #make a copy of dataframe\n",
        "  for variable in variables:\n",
        "    columnData = pd.DataFrame(dataframe[variable]) #look at the column we want to shift\n",
        "    tempLag = columnData.shift(maxLag)\n",
        "    newCol = pd.DataFrame(tempLag)\n",
        "    newName = variable+\"_L\" #label 'L' for lagged variable\n",
        "    data[newName] = newCol\n",
        "  data = data.dropna() #drop the rows with NaN\n",
        "  data.index = np.arange(0, len(data)) #fix the indexing after shifting\n",
        "  return data\n",
        "\n",
        "\n",
        "####INPUTS####\n",
        "# Dataframe object\n",
        "# Max time lag applied variable\n",
        "# n_splines: function estimates used for GAMs. the more splines the more flexible and wiggly the models are\n",
        "# alpha: significance value to compare with p value\n",
        "###OUTPUTS###\n",
        "#Summary of discovered granger causes#\n",
        "#list of tuples containing causal pairs\n",
        "#Digraph showing causal\n",
        "def granger_causal_gam(data, maxlag=4, splines=50, alpha=0.05):\n",
        "  columnNames = data.columns\n",
        "\n",
        "  n = df.shape[0]\n",
        "  k = 2 #amount of feature groups we are addressing\n",
        "  links = []\n",
        "\n",
        "  for col1 in columnNames:\n",
        "    for col2 in columnNames:\n",
        "      print(\"\\n================================================================================================\\n\")\n",
        "      print(\"Testing {} can granger cause {}, with lag: {}\\n\".format(col1, col2, maxlag))\n",
        "\n",
        "      #Using lagged versions of the response variable as explanatory variables\n",
        "      t_self = timeLag(data, [col2], maxlag)\n",
        "      X1 = (t_self.drop(data.columns, axis=1)).values\n",
        "\n",
        "      # #Adding an aditional variable \n",
        "      t_new = timeLag(data, [col2,col1], maxlag)\n",
        "      X2 = (t_new.drop(data.columns, axis=1)).values\n",
        "\n",
        "      y = t_self[col2] #response variable\n",
        "\n",
        "      #Use generalized cross validation to find the best smoothing penalty to fit the GAM\n",
        "      gamModel1 = LinearGAM(n_splines=splines).gridsearch(X1, y) #Learned GAM with first explanatory variable\n",
        "      gamModel2 = LinearGAM(n_splines=splines).gridsearch(X2, y) #Learned GAM with additional explanatory variable added\n",
        "\n",
        "      # XX = gamModel2.generate_X_grid(term=0)\n",
        "      # plt.plot(XX, gamModel2.predict(XX), 'r--') #GAM\n",
        "\n",
        "      # are the estimated y values of both models\n",
        "      modelPred1 = gamModel1.predict(X1)\n",
        "      modelPred2 = gamModel2.predict(X2)\n",
        "\n",
        "      #Calculate and store the mean squared error\n",
        "      mse1 = np.mean((modelPred1 - y)**2)\n",
        "      mse2 = np.mean((modelPred2 - y)**2)\n",
        "\n",
        "      print(\"\\n\\n---------------------------------------------------------Results:\")\n",
        "      print(\"\\nMSE of predicted y: {}\".format(mse1))\n",
        "      print(\"MSE of predicted y w/ additional variable: {}\".format(mse2))\n",
        "\n",
        "      #Compute f_score and p value\n",
        "      f_score = ((mse1-mse2)/mse2)*((n-k*maxlag)/maxlag)\n",
        "      print('\\nf score: ', f_score)\n",
        "      p_value = scipy.stats.f.sf(f_score, maxlag, n-k*maxlag)\n",
        "      print(\"p_value: \", p_value)\n",
        "\n",
        "      if p_value < alpha:\n",
        "        print(\"\\nLag rejected H0. {} granger causes {}, with p value: {}\".format(col1, col2, p_value))\n",
        "        links.append((col1, col2)) #append to causal links\n",
        "      else:\n",
        "        print(\"\\n{} does NOT granger causes {}, with p value: {}\".format(col1, col2, p_value))\n",
        "\n",
        "  g = Digraph('Granger Causal Graph', filename='causal graph') #name, filename\n",
        "  g.attr(rankdir='LR', size='20,15')\n",
        "  g.attr('node', shape='circle')\n",
        "\n",
        "  g.edges(links)\n",
        "\n",
        "  g.view()\n",
        "  print(links)\n",
        "\n",
        "  return (links, g)\n",
        "\n",
        "results = granger_causal_gam(df)"
      ],
      "execution_count": 7,
      "outputs": [
        {
          "output_type": "stream",
          "text": [
            " 54% (6 of 11) |#############            | Elapsed Time: 0:00:00 ETA:   0:00:00"
          ],
          "name": "stderr"
        },
        {
          "output_type": "stream",
          "text": [
            "\n",
            "================================================================================================\n",
            "\n",
            "Testing t2m-02 can granger cause t2m-02, with lag: 4\n",
            "\n"
          ],
          "name": "stdout"
        },
        {
          "output_type": "stream",
          "text": [
            "100% (11 of 11) |########################| Elapsed Time: 0:00:00 Time:  0:00:00\n",
            "100% (11 of 11) |########################| Elapsed Time: 0:00:00 Time:  0:00:00\n",
            " 36% (4 of 11) |#########                | Elapsed Time: 0:00:00 ETA:   0:00:00"
          ],
          "name": "stderr"
        },
        {
          "output_type": "stream",
          "text": [
            "\n",
            "\n",
            "---------------------------------------------------------Results:\n",
            "\n",
            "MSE of predicted y: 0.7786371840194636\n",
            "MSE of predicted y w/ additional variable: 0.7786371840194636\n",
            "\n",
            "f score:  0.0\n",
            "p_value:  1.0\n",
            "\n",
            "t2m-02 does NOT granger causes t2m-02, with p value: 1.0\n",
            "\n",
            "================================================================================================\n",
            "\n",
            "Testing t2m-02 can granger cause msl-01, with lag: 4\n",
            "\n"
          ],
          "name": "stdout"
        },
        {
          "output_type": "stream",
          "text": [
            "100% (11 of 11) |########################| Elapsed Time: 0:00:00 Time:  0:00:00\n",
            "100% (11 of 11) |########################| Elapsed Time: 0:00:00 Time:  0:00:00\n",
            " 36% (4 of 11) |#########                | Elapsed Time: 0:00:00 ETA:   0:00:00"
          ],
          "name": "stderr"
        },
        {
          "output_type": "stream",
          "text": [
            "\n",
            "\n",
            "---------------------------------------------------------Results:\n",
            "\n",
            "MSE of predicted y: 0.9612552288195104\n",
            "MSE of predicted y w/ additional variable: 0.9397763555874542\n",
            "\n",
            "f score:  2.6969257380372302\n",
            "p_value:  0.030293297145649597\n",
            "\n",
            "Lag rejected H0. t2m-02 granger causes msl-01, with p value: 0.030293297145649597\n",
            "\n",
            "================================================================================================\n",
            "\n",
            "Testing t2m-02 can granger cause sst-00, with lag: 4\n",
            "\n"
          ],
          "name": "stdout"
        },
        {
          "output_type": "stream",
          "text": [
            "100% (11 of 11) |########################| Elapsed Time: 0:00:00 Time:  0:00:00\n",
            "100% (11 of 11) |########################| Elapsed Time: 0:00:00 Time:  0:00:00\n",
            " 54% (6 of 11) |#############            | Elapsed Time: 0:00:00 ETA:   0:00:00"
          ],
          "name": "stderr"
        },
        {
          "output_type": "stream",
          "text": [
            "\n",
            "\n",
            "---------------------------------------------------------Results:\n",
            "\n",
            "MSE of predicted y: 0.38449838893124394\n",
            "MSE of predicted y w/ additional variable: 0.3840622340075368\n",
            "\n",
            "f score:  0.13400505553595174\n",
            "p_value:  0.969815915979183\n",
            "\n",
            "t2m-02 does NOT granger causes sst-00, with p value: 0.969815915979183\n",
            "\n",
            "================================================================================================\n",
            "\n",
            "Testing t2m-02 can granger cause si10-00, with lag: 4\n",
            "\n"
          ],
          "name": "stdout"
        },
        {
          "output_type": "stream",
          "text": [
            "100% (11 of 11) |########################| Elapsed Time: 0:00:00 Time:  0:00:00\n",
            "100% (11 of 11) |########################| Elapsed Time: 0:00:00 Time:  0:00:00\n",
            " 54% (6 of 11) |#############            | Elapsed Time: 0:00:00 ETA:   0:00:00"
          ],
          "name": "stderr"
        },
        {
          "output_type": "stream",
          "text": [
            "\n",
            "\n",
            "---------------------------------------------------------Results:\n",
            "\n",
            "MSE of predicted y: 0.8388993112944367\n",
            "MSE of predicted y w/ additional variable: 0.8477962461880948\n",
            "\n",
            "f score:  -1.2383144206783034\n",
            "p_value:  1.0\n",
            "\n",
            "t2m-02 does NOT granger causes si10-00, with p value: 1.0\n",
            "\n",
            "================================================================================================\n",
            "\n",
            "Testing msl-01 can granger cause t2m-02, with lag: 4\n",
            "\n"
          ],
          "name": "stdout"
        },
        {
          "output_type": "stream",
          "text": [
            "100% (11 of 11) |########################| Elapsed Time: 0:00:00 Time:  0:00:00\n",
            "100% (11 of 11) |########################| Elapsed Time: 0:00:00 Time:  0:00:00\n",
            " 36% (4 of 11) |#########                | Elapsed Time: 0:00:00 ETA:   0:00:00"
          ],
          "name": "stderr"
        },
        {
          "output_type": "stream",
          "text": [
            "\n",
            "\n",
            "---------------------------------------------------------Results:\n",
            "\n",
            "MSE of predicted y: 0.7786371840194636\n",
            "MSE of predicted y w/ additional variable: 0.7520546479908992\n",
            "\n",
            "f score:  4.1708927133823925\n",
            "p_value:  0.0024931571035459133\n",
            "\n",
            "Lag rejected H0. msl-01 granger causes t2m-02, with p value: 0.0024931571035459133\n",
            "\n",
            "================================================================================================\n",
            "\n",
            "Testing msl-01 can granger cause msl-01, with lag: 4\n",
            "\n"
          ],
          "name": "stdout"
        },
        {
          "output_type": "stream",
          "text": [
            "100% (11 of 11) |########################| Elapsed Time: 0:00:00 Time:  0:00:00\n",
            "100% (11 of 11) |########################| Elapsed Time: 0:00:00 Time:  0:00:00\n",
            " 54% (6 of 11) |#############            | Elapsed Time: 0:00:00 ETA:   0:00:00"
          ],
          "name": "stderr"
        },
        {
          "output_type": "stream",
          "text": [
            "\n",
            "\n",
            "---------------------------------------------------------Results:\n",
            "\n",
            "MSE of predicted y: 0.9612552288195104\n",
            "MSE of predicted y w/ additional variable: 0.9612552288195104\n",
            "\n",
            "f score:  0.0\n",
            "p_value:  1.0\n",
            "\n",
            "msl-01 does NOT granger causes msl-01, with p value: 1.0\n",
            "\n",
            "================================================================================================\n",
            "\n",
            "Testing msl-01 can granger cause sst-00, with lag: 4\n",
            "\n"
          ],
          "name": "stdout"
        },
        {
          "output_type": "stream",
          "text": [
            "100% (11 of 11) |########################| Elapsed Time: 0:00:00 Time:  0:00:00\n",
            "100% (11 of 11) |########################| Elapsed Time: 0:00:00 Time:  0:00:00\n",
            " 54% (6 of 11) |#############            | Elapsed Time: 0:00:00 ETA:   0:00:00"
          ],
          "name": "stderr"
        },
        {
          "output_type": "stream",
          "text": [
            "\n",
            "\n",
            "---------------------------------------------------------Results:\n",
            "\n",
            "MSE of predicted y: 0.38449838893124394\n",
            "MSE of predicted y w/ additional variable: 0.386897309669412\n",
            "\n",
            "f score:  -0.7316480110593283\n",
            "p_value:  1.0\n",
            "\n",
            "msl-01 does NOT granger causes sst-00, with p value: 1.0\n",
            "\n",
            "================================================================================================\n",
            "\n",
            "Testing msl-01 can granger cause si10-00, with lag: 4\n",
            "\n"
          ],
          "name": "stdout"
        },
        {
          "output_type": "stream",
          "text": [
            "100% (11 of 11) |########################| Elapsed Time: 0:00:00 Time:  0:00:00\n",
            "100% (11 of 11) |########################| Elapsed Time: 0:00:00 Time:  0:00:00\n",
            " 36% (4 of 11) |#########                | Elapsed Time: 0:00:00 ETA:   0:00:00"
          ],
          "name": "stderr"
        },
        {
          "output_type": "stream",
          "text": [
            "\n",
            "\n",
            "---------------------------------------------------------Results:\n",
            "\n",
            "MSE of predicted y: 0.8388993112944367\n",
            "MSE of predicted y w/ additional variable: 0.8007484411513358\n",
            "\n",
            "f score:  5.621993681827349\n",
            "p_value:  0.0001990462960982326\n",
            "\n",
            "Lag rejected H0. msl-01 granger causes si10-00, with p value: 0.0001990462960982326\n",
            "\n",
            "================================================================================================\n",
            "\n",
            "Testing sst-00 can granger cause t2m-02, with lag: 4\n",
            "\n"
          ],
          "name": "stdout"
        },
        {
          "output_type": "stream",
          "text": [
            "100% (11 of 11) |########################| Elapsed Time: 0:00:00 Time:  0:00:00\n",
            "100% (11 of 11) |########################| Elapsed Time: 0:00:00 Time:  0:00:00\n",
            " 54% (6 of 11) |#############            | Elapsed Time: 0:00:00 ETA:   0:00:00"
          ],
          "name": "stderr"
        },
        {
          "output_type": "stream",
          "text": [
            "\n",
            "\n",
            "---------------------------------------------------------Results:\n",
            "\n",
            "MSE of predicted y: 0.7786371840194636\n",
            "MSE of predicted y w/ additional variable: 0.7672136948574657\n",
            "\n",
            "f score:  1.7569703593027977\n",
            "p_value:  0.13637414463775036\n",
            "\n",
            "sst-00 does NOT granger causes t2m-02, with p value: 0.13637414463775036\n",
            "\n",
            "================================================================================================\n",
            "\n",
            "Testing sst-00 can granger cause msl-01, with lag: 4\n",
            "\n"
          ],
          "name": "stdout"
        },
        {
          "output_type": "stream",
          "text": [
            "100% (11 of 11) |########################| Elapsed Time: 0:00:00 Time:  0:00:00\n",
            "100% (11 of 11) |########################| Elapsed Time: 0:00:00 Time:  0:00:00\n",
            " 54% (6 of 11) |#############            | Elapsed Time: 0:00:00 ETA:   0:00:00"
          ],
          "name": "stderr"
        },
        {
          "output_type": "stream",
          "text": [
            "\n",
            "\n",
            "---------------------------------------------------------Results:\n",
            "\n",
            "MSE of predicted y: 0.9612552288195104\n",
            "MSE of predicted y w/ additional variable: 0.9484217682103083\n",
            "\n",
            "f score:  1.5967034948422307\n",
            "p_value:  0.17400002737908793\n",
            "\n",
            "sst-00 does NOT granger causes msl-01, with p value: 0.17400002737908793\n",
            "\n",
            "================================================================================================\n",
            "\n",
            "Testing sst-00 can granger cause sst-00, with lag: 4\n",
            "\n"
          ],
          "name": "stdout"
        },
        {
          "output_type": "stream",
          "text": [
            "100% (11 of 11) |########################| Elapsed Time: 0:00:00 Time:  0:00:00\n",
            "100% (11 of 11) |########################| Elapsed Time: 0:00:00 Time:  0:00:00\n",
            " 54% (6 of 11) |#############            | Elapsed Time: 0:00:00 ETA:   0:00:00"
          ],
          "name": "stderr"
        },
        {
          "output_type": "stream",
          "text": [
            "\n",
            "\n",
            "---------------------------------------------------------Results:\n",
            "\n",
            "MSE of predicted y: 0.38449838893124394\n",
            "MSE of predicted y w/ additional variable: 0.38449838893124394\n",
            "\n",
            "f score:  0.0\n",
            "p_value:  1.0\n",
            "\n",
            "sst-00 does NOT granger causes sst-00, with p value: 1.0\n",
            "\n",
            "================================================================================================\n",
            "\n",
            "Testing sst-00 can granger cause si10-00, with lag: 4\n",
            "\n"
          ],
          "name": "stdout"
        },
        {
          "output_type": "stream",
          "text": [
            "100% (11 of 11) |########################| Elapsed Time: 0:00:00 Time:  0:00:00\n",
            "100% (11 of 11) |########################| Elapsed Time: 0:00:00 Time:  0:00:00\n",
            " 54% (6 of 11) |#############            | Elapsed Time: 0:00:00 ETA:   0:00:00"
          ],
          "name": "stderr"
        },
        {
          "output_type": "stream",
          "text": [
            "\n",
            "\n",
            "---------------------------------------------------------Results:\n",
            "\n",
            "MSE of predicted y: 0.8388993112944367\n",
            "MSE of predicted y w/ additional variable: 0.7592918858703108\n",
            "\n",
            "f score:  12.37162726858288\n",
            "p_value:  1.4127746009036933e-09\n",
            "\n",
            "Lag rejected H0. sst-00 granger causes si10-00, with p value: 1.4127746009036933e-09\n",
            "\n",
            "================================================================================================\n",
            "\n",
            "Testing si10-00 can granger cause t2m-02, with lag: 4\n",
            "\n"
          ],
          "name": "stdout"
        },
        {
          "output_type": "stream",
          "text": [
            "100% (11 of 11) |########################| Elapsed Time: 0:00:00 Time:  0:00:00\n",
            "100% (11 of 11) |########################| Elapsed Time: 0:00:00 Time:  0:00:00\n",
            " 54% (6 of 11) |#############            | Elapsed Time: 0:00:00 ETA:   0:00:00"
          ],
          "name": "stderr"
        },
        {
          "output_type": "stream",
          "text": [
            "\n",
            "\n",
            "---------------------------------------------------------Results:\n",
            "\n",
            "MSE of predicted y: 0.7786371840194636\n",
            "MSE of predicted y w/ additional variable: 0.7543954894953359\n",
            "\n",
            "f score:  3.791804158002931\n",
            "p_value:  0.004784618110324252\n",
            "\n",
            "Lag rejected H0. si10-00 granger causes t2m-02, with p value: 0.004784618110324252\n",
            "\n",
            "================================================================================================\n",
            "\n",
            "Testing si10-00 can granger cause msl-01, with lag: 4\n",
            "\n"
          ],
          "name": "stdout"
        },
        {
          "output_type": "stream",
          "text": [
            "100% (11 of 11) |########################| Elapsed Time: 0:00:00 Time:  0:00:00\n",
            "100% (11 of 11) |########################| Elapsed Time: 0:00:00 Time:  0:00:00\n",
            " 54% (6 of 11) |#############            | Elapsed Time: 0:00:00 ETA:   0:00:00"
          ],
          "name": "stderr"
        },
        {
          "output_type": "stream",
          "text": [
            "\n",
            "\n",
            "---------------------------------------------------------Results:\n",
            "\n",
            "MSE of predicted y: 0.9612552288195104\n",
            "MSE of predicted y w/ additional variable: 0.9421998591441944\n",
            "\n",
            "f score:  2.3864720418549545\n",
            "p_value:  0.050354691950955016\n",
            "\n",
            "si10-00 does NOT granger causes msl-01, with p value: 0.050354691950955016\n",
            "\n",
            "================================================================================================\n",
            "\n",
            "Testing si10-00 can granger cause sst-00, with lag: 4\n",
            "\n"
          ],
          "name": "stdout"
        },
        {
          "output_type": "stream",
          "text": [
            "100% (11 of 11) |########################| Elapsed Time: 0:00:00 Time:  0:00:00\n",
            "100% (11 of 11) |########################| Elapsed Time: 0:00:00 Time:  0:00:00\n",
            " 54% (6 of 11) |#############            | Elapsed Time: 0:00:00 ETA:   0:00:00"
          ],
          "name": "stderr"
        },
        {
          "output_type": "stream",
          "text": [
            "\n",
            "\n",
            "---------------------------------------------------------Results:\n",
            "\n",
            "MSE of predicted y: 0.38449838893124394\n",
            "MSE of predicted y w/ additional variable: 0.38026432264759147\n",
            "\n",
            "f score:  1.3138750908641315\n",
            "p_value:  0.2637841158467672\n",
            "\n",
            "si10-00 does NOT granger causes sst-00, with p value: 0.2637841158467672\n",
            "\n",
            "================================================================================================\n",
            "\n",
            "Testing si10-00 can granger cause si10-00, with lag: 4\n",
            "\n"
          ],
          "name": "stdout"
        },
        {
          "output_type": "stream",
          "text": [
            "100% (11 of 11) |########################| Elapsed Time: 0:00:00 Time:  0:00:00\n",
            "100% (11 of 11) |########################| Elapsed Time: 0:00:00 Time:  0:00:00\n"
          ],
          "name": "stderr"
        },
        {
          "output_type": "stream",
          "text": [
            "\n",
            "\n",
            "---------------------------------------------------------Results:\n",
            "\n",
            "MSE of predicted y: 0.8388993112944367\n",
            "MSE of predicted y w/ additional variable: 0.8388993112944367\n",
            "\n",
            "f score:  0.0\n",
            "p_value:  1.0\n",
            "\n",
            "si10-00 does NOT granger causes si10-00, with p value: 1.0\n",
            "[('t2m-02', 'msl-01'), ('msl-01', 't2m-02'), ('msl-01', 'si10-00'), ('sst-00', 'si10-00'), ('si10-00', 't2m-02')]\n"
          ],
          "name": "stdout"
        }
      ]
    },
    {
      "cell_type": "code",
      "metadata": {
        "id": "JlvKv3CFa12T",
        "colab_type": "code",
        "colab": {
          "base_uri": "https://localhost:8080/",
          "height": 178
        },
        "outputId": "ed10d8b3-eeda-43b5-ddf9-9e403fe869b6"
      },
      "source": [
        "results[1] #show graph`"
      ],
      "execution_count": 121,
      "outputs": [
        {
          "output_type": "execute_result",
          "data": {
            "text/plain": [
              "<graphviz.dot.Digraph at 0x7ff38c4db208>"
            ],
            "image/svg+xml": "<?xml version=\"1.0\" encoding=\"UTF-8\" standalone=\"no\"?>\n<!DOCTYPE svg PUBLIC \"-//W3C//DTD SVG 1.1//EN\"\n \"http://www.w3.org/Graphics/SVG/1.1/DTD/svg11.dtd\">\n<!-- Generated by graphviz version 2.40.1 (20161225.0304)\n -->\n<!-- Title: Granger Causal Graph Pages: 1 -->\n<svg width=\"408pt\" height=\"118pt\"\n viewBox=\"0.00 0.00 408.47 118.34\" xmlns=\"http://www.w3.org/2000/svg\" xmlns:xlink=\"http://www.w3.org/1999/xlink\">\n<g id=\"graph0\" class=\"graph\" transform=\"scale(1 1) rotate(0) translate(4 114.3431)\">\n<title>Granger Causal Graph</title>\n<polygon fill=\"#ffffff\" stroke=\"transparent\" points=\"-4,4 -4,-114.3431 404.474,-114.3431 404.474,4 -4,4\"/>\n<!-- sst&#45;00 -->\n<g id=\"node1\" class=\"node\">\n<title>sst&#45;00</title>\n<ellipse fill=\"none\" stroke=\"#000000\" cx=\"32.4971\" cy=\"-38.9965\" rx=\"32.4942\" ry=\"32.4942\"/>\n<text text-anchor=\"middle\" x=\"32.4971\" y=\"-35.2965\" font-family=\"Times,serif\" font-size=\"14.00\" fill=\"#000000\">sst&#45;00</text>\n</g>\n<!-- si10&#45;00 -->\n<g id=\"node2\" class=\"node\">\n<title>si10&#45;00</title>\n<ellipse fill=\"none\" stroke=\"#000000\" cx=\"139.9908\" cy=\"-38.9965\" rx=\"38.9931\" ry=\"38.9931\"/>\n<text text-anchor=\"middle\" x=\"139.9908\" y=\"-35.2965\" font-family=\"Times,serif\" font-size=\"14.00\" fill=\"#000000\">si10&#45;00</text>\n</g>\n<!-- sst&#45;00&#45;&gt;si10&#45;00 -->\n<g id=\"edge1\" class=\"edge\">\n<title>sst&#45;00&#45;&gt;si10&#45;00</title>\n<path fill=\"none\" stroke=\"#000000\" d=\"M65.0405,-38.9965C73.1238,-38.9965 81.9692,-38.9965 90.6595,-38.9965\"/>\n<polygon fill=\"#000000\" stroke=\"#000000\" points=\"90.7352,-42.4966 100.7351,-38.9965 90.7351,-35.4966 90.7352,-42.4966\"/>\n</g>\n<!-- t2m&#45;02 -->\n<g id=\"node4\" class=\"node\">\n<title>t2m&#45;02</title>\n<ellipse fill=\"none\" stroke=\"#000000\" cx=\"253.3339\" cy=\"-71.9965\" rx=\"38.1938\" ry=\"38.1938\"/>\n<text text-anchor=\"middle\" x=\"253.3339\" y=\"-68.2965\" font-family=\"Times,serif\" font-size=\"14.00\" fill=\"#000000\">t2m&#45;02</text>\n</g>\n<!-- si10&#45;00&#45;&gt;t2m&#45;02 -->\n<g id=\"edge4\" class=\"edge\">\n<title>si10&#45;00&#45;&gt;t2m&#45;02</title>\n<path fill=\"none\" stroke=\"#000000\" d=\"M177.7324,-49.9851C186.9091,-52.6569 196.8339,-55.5465 206.3796,-58.3257\"/>\n<polygon fill=\"#000000\" stroke=\"#000000\" points=\"205.5629,-61.7332 216.1427,-61.1683 207.5197,-55.0123 205.5629,-61.7332\"/>\n</g>\n<!-- msl&#45;01 -->\n<g id=\"node3\" class=\"node\">\n<title>msl&#45;01</title>\n<ellipse fill=\"none\" stroke=\"#000000\" cx=\"364.0773\" cy=\"-71.9965\" rx=\"36.2938\" ry=\"36.2938\"/>\n<text text-anchor=\"middle\" x=\"364.0773\" y=\"-68.2965\" font-family=\"Times,serif\" font-size=\"14.00\" fill=\"#000000\">msl&#45;01</text>\n</g>\n<!-- msl&#45;01&#45;&gt;si10&#45;00 -->\n<g id=\"edge2\" class=\"edge\">\n<title>msl&#45;01&#45;&gt;si10&#45;00</title>\n<path fill=\"none\" stroke=\"#000000\" d=\"M336.06,-48.3881C323.3586,-39.183 307.6295,-29.7196 291.6805,-24.9965 257.7339,-14.9438 217.8113,-19.2328 187.4451,-25.6133\"/>\n<polygon fill=\"#000000\" stroke=\"#000000\" points=\"186.5253,-22.2326 177.5358,-27.8396 188.0598,-29.0624 186.5253,-22.2326\"/>\n</g>\n<!-- msl&#45;01&#45;&gt;t2m&#45;02 -->\n<g id=\"edge3\" class=\"edge\">\n<title>msl&#45;01&#45;&gt;t2m&#45;02</title>\n<path fill=\"none\" stroke=\"#000000\" d=\"M328.134,-78.3628C319.7003,-78.7093 310.5779,-78.8212 301.6997,-78.6983\"/>\n<polygon fill=\"#000000\" stroke=\"#000000\" points=\"301.5285,-75.1931 291.4455,-78.4462 301.3564,-82.191 301.5285,-75.1931\"/>\n</g>\n<!-- t2m&#45;02&#45;&gt;msl&#45;01 -->\n<g id=\"edge5\" class=\"edge\">\n<title>t2m&#45;02&#45;&gt;msl&#45;01</title>\n<path fill=\"none\" stroke=\"#000000\" d=\"M291.4455,-65.5469C299.9897,-65.2403 309.1432,-65.1684 317.9731,-65.3313\"/>\n<polygon fill=\"#000000\" stroke=\"#000000\" points=\"318.0354,-68.8345 328.134,-65.6303 318.2413,-61.8376 318.0354,-68.8345\"/>\n</g>\n</g>\n</svg>\n"
          },
          "metadata": {
            "tags": []
          },
          "execution_count": 121
        }
      ]
    }
  ]
}