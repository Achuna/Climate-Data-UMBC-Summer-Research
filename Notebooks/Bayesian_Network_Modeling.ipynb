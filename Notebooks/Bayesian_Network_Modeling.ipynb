{
  "nbformat": 4,
  "nbformat_minor": 0,
  "metadata": {
    "colab": {
      "name": "Bayesian Network Modeling.ipynb",
      "version": "0.3.2",
      "provenance": [],
      "collapsed_sections": [
        "jvHzO8dkx7i6",
        "QrahXjuA1dFQ"
      ],
      "toc_visible": true,
      "include_colab_link": true
    },
    "kernelspec": {
      "name": "python3",
      "display_name": "Python 3"
    }
  },
  "cells": [
    {
      "cell_type": "markdown",
      "metadata": {
        "id": "view-in-github",
        "colab_type": "text"
      },
      "source": [
        "<a href=\"https://colab.research.google.com/github/Achuna/Climate-Data-UMBC-Summer-Research/blob/master/Notebooks/Bayesian_Network_Modeling.ipynb\" target=\"_parent\"><img src=\"https://colab.research.google.com/assets/colab-badge.svg\" alt=\"Open In Colab\"/></a>"
      ]
    },
    {
      "cell_type": "markdown",
      "metadata": {
        "id": "jvHzO8dkx7i6",
        "colab_type": "text"
      },
      "source": [
        "## Metadata"
      ]
    },
    {
      "cell_type": "markdown",
      "metadata": {
        "id": "nwvLp0X9yCzi",
        "colab_type": "text"
      },
      "source": [
        "**DESCRIPTION**\n",
        "\n",
        "The data represents the **variance** of the given column\n",
        "\n",
        "Variance is a measure of how spread out a data set is (Some of it is negative but we can disregard this format)\n",
        "\n",
        "Time lag is a **shift** in what data points we are looking at.\n",
        "\n",
        "Each time step is a month (~40 years)\n",
        "\n",
        "---\n",
        "\n",
        "\n",
        "**MSL (Mean Sea Level)**\n",
        "\n",
        "msl 01- Antarctica\n",
        "\n",
        "msl 02  - North Atlantic oscillation\n",
        "\n",
        "msl 03 - Southeast Pacific\n",
        "\n",
        "msl 04 - North Pacific\n",
        "\n",
        "msl 06 -  Southwest Pacific\n",
        "\n",
        "msl 07  -  Siberia\n",
        "\n",
        "\n",
        "---\n",
        "\n",
        "\n",
        "\n",
        " **Si10 (Wind Speed 10 meters)**\n",
        "\n",
        "\n",
        "si10 00 -  Antarctic circumpolar current\n",
        "\n",
        "si10 01 -  South Pacific\n",
        "\n",
        "si10 04  -  Tropical eastern Pacific\n",
        "\n",
        "si10 05  - Tropical central Pacific\n",
        "\n",
        "si10 06  -  North Atlantic subtropical gyre\n",
        "\n",
        "si10 07  -  North Pacific subtropical gyre\n",
        "\n",
        "\n",
        "\n",
        "---\n",
        "\n",
        "**SST (Sea Surface Temperature)**\n",
        "\n",
        "sst 00  -  Equatorial central Pacific (ENSO)\n",
        "\n",
        "sst 03  -  Equatorial eastern Pacific (ENSO)\n",
        "\n",
        "sst 04  -  Western coast of North America\n",
        "\n",
        "sst 05  -  North Pacific (PDO)\n",
        "\n",
        "sst 06  -  Kuroshio extension\n",
        "\n",
        "sst 07  -  Western coast of South America\n",
        "\n",
        "\n",
        "\n",
        "---\n",
        "\n",
        "**T2M (Temperature at 2 meters)**\n",
        "\n",
        "t2m 02  -  Antarctica\n",
        "\n",
        "t2m 03   -  Arctic\n",
        "\n",
        "t2m 04   -  North America\n",
        "\n",
        "t2m 06   -  Siberia\n",
        "\n",
        "t2m 07   -  Europe\n",
        "\n",
        "t2m 08   -  Greenland"
      ]
    },
    {
      "cell_type": "markdown",
      "metadata": {
        "id": "ivTaYYRaxDeT",
        "colab_type": "text"
      },
      "source": [
        "# Data Preperation"
      ]
    },
    {
      "cell_type": "markdown",
      "metadata": {
        "id": "QrahXjuA1dFQ",
        "colab_type": "text"
      },
      "source": [
        "## Getting Files Online"
      ]
    },
    {
      "cell_type": "code",
      "metadata": {
        "id": "5Lz1sYiOHYx3",
        "colab_type": "code",
        "outputId": "3b02bf36-a0fb-4e7c-e433-d519898b5ea2",
        "colab": {
          "base_uri": "https://localhost:8080/",
          "height": 0
        }
      },
      "source": [
        "import pandas as pd\n",
        "import numpy as np\n",
        "from  urllib.request import urlopen  # the lib that handles the url stuff\n",
        "\n",
        "#Retrieves climate data from url and converts it into an array of floats\n",
        "def retrieveData(url):\n",
        "  array = []\n",
        "  data = urllib.request.urlopen(url) # it's a file like object and works just like a file\n",
        "  for line in data: # files are iterable\n",
        "      line = str(line)\n",
        "      newLine = line.replace(\"'\", \"\").replace(\"b\", \"\").replace(\"n\", \"\").replace(\"\\\\\", \"\") #delete a few unneeded symbols\n",
        "      array.append(float(newLine))  \n",
        "  return array\n",
        "\n",
        "#Put values in an array\n",
        "msl = retrieveData(\"https://raw.githubusercontent.com/Achuna/DataPractice/master/eof_ts_msl-01\")\n",
        "si10 = retrieveData(\"https://raw.githubusercontent.com/Achuna/DataPractice/master/eof_ts_si10-20\")\n",
        "sst = retrieveData(\"https://raw.githubusercontent.com/Achuna/DataPractice/master/eof_ts_sst-13\")\n",
        "t2m = retrieveData(\"https://raw.githubusercontent.com/Achuna/DataPractice/master/eof_ts_t2m-07\")\n",
        "\n",
        "\n",
        "myColumns = \"msl-01 si10-20 sst-13 t2m-07\".split()\n",
        "\n",
        "allData = np.column_stack((msl, si10, sst, t2m))\n",
        "\n",
        "df = pd.DataFrame(allData, columns=myColumns)\n",
        "\n",
        "df"
      ],
      "execution_count": 1,
      "outputs": [
        {
          "output_type": "error",
          "ename": "NameError",
          "evalue": "ignored",
          "traceback": [
            "\u001b[0;31m---------------------------------------------------------------------------\u001b[0m",
            "\u001b[0;31mNameError\u001b[0m                                 Traceback (most recent call last)",
            "\u001b[0;32m<ipython-input-1-f9a0b842abb8>\u001b[0m in \u001b[0;36m<module>\u001b[0;34m()\u001b[0m\n\u001b[1;32m     14\u001b[0m \u001b[0;34m\u001b[0m\u001b[0m\n\u001b[1;32m     15\u001b[0m \u001b[0;31m#Put values in an array\u001b[0m\u001b[0;34m\u001b[0m\u001b[0;34m\u001b[0m\u001b[0;34m\u001b[0m\u001b[0m\n\u001b[0;32m---> 16\u001b[0;31m \u001b[0mmsl\u001b[0m \u001b[0;34m=\u001b[0m \u001b[0mretrieveData\u001b[0m\u001b[0;34m(\u001b[0m\u001b[0;34m\"https://raw.githubusercontent.com/Achuna/DataPractice/master/eof_ts_msl-01\"\u001b[0m\u001b[0;34m)\u001b[0m\u001b[0;34m\u001b[0m\u001b[0;34m\u001b[0m\u001b[0m\n\u001b[0m\u001b[1;32m     17\u001b[0m \u001b[0msi10\u001b[0m \u001b[0;34m=\u001b[0m \u001b[0mretrieveData\u001b[0m\u001b[0;34m(\u001b[0m\u001b[0;34m\"https://raw.githubusercontent.com/Achuna/DataPractice/master/eof_ts_si10-20\"\u001b[0m\u001b[0;34m)\u001b[0m\u001b[0;34m\u001b[0m\u001b[0;34m\u001b[0m\u001b[0m\n\u001b[1;32m     18\u001b[0m \u001b[0msst\u001b[0m \u001b[0;34m=\u001b[0m \u001b[0mretrieveData\u001b[0m\u001b[0;34m(\u001b[0m\u001b[0;34m\"https://raw.githubusercontent.com/Achuna/DataPractice/master/eof_ts_sst-13\"\u001b[0m\u001b[0;34m)\u001b[0m\u001b[0;34m\u001b[0m\u001b[0;34m\u001b[0m\u001b[0m\n",
            "\u001b[0;32m<ipython-input-1-f9a0b842abb8>\u001b[0m in \u001b[0;36mretrieveData\u001b[0;34m(url)\u001b[0m\n\u001b[1;32m      6\u001b[0m \u001b[0;32mdef\u001b[0m \u001b[0mretrieveData\u001b[0m\u001b[0;34m(\u001b[0m\u001b[0murl\u001b[0m\u001b[0;34m)\u001b[0m\u001b[0;34m:\u001b[0m\u001b[0;34m\u001b[0m\u001b[0;34m\u001b[0m\u001b[0m\n\u001b[1;32m      7\u001b[0m   \u001b[0marray\u001b[0m \u001b[0;34m=\u001b[0m \u001b[0;34m[\u001b[0m\u001b[0;34m]\u001b[0m\u001b[0;34m\u001b[0m\u001b[0;34m\u001b[0m\u001b[0m\n\u001b[0;32m----> 8\u001b[0;31m   \u001b[0mdata\u001b[0m \u001b[0;34m=\u001b[0m \u001b[0murllib\u001b[0m\u001b[0;34m.\u001b[0m\u001b[0mrequest\u001b[0m\u001b[0;34m.\u001b[0m\u001b[0murlopen\u001b[0m\u001b[0;34m(\u001b[0m\u001b[0murl\u001b[0m\u001b[0;34m)\u001b[0m \u001b[0;31m# it's a file like object and works just like a file\u001b[0m\u001b[0;34m\u001b[0m\u001b[0;34m\u001b[0m\u001b[0m\n\u001b[0m\u001b[1;32m      9\u001b[0m   \u001b[0;32mfor\u001b[0m \u001b[0mline\u001b[0m \u001b[0;32min\u001b[0m \u001b[0mdata\u001b[0m\u001b[0;34m:\u001b[0m \u001b[0;31m# files are iterable\u001b[0m\u001b[0;34m\u001b[0m\u001b[0;34m\u001b[0m\u001b[0m\n\u001b[1;32m     10\u001b[0m       \u001b[0mline\u001b[0m \u001b[0;34m=\u001b[0m \u001b[0mstr\u001b[0m\u001b[0;34m(\u001b[0m\u001b[0mline\u001b[0m\u001b[0;34m)\u001b[0m\u001b[0;34m\u001b[0m\u001b[0;34m\u001b[0m\u001b[0m\n",
            "\u001b[0;31mNameError\u001b[0m: name 'urllib' is not defined"
          ]
        }
      ]
    },
    {
      "cell_type": "code",
      "metadata": {
        "id": "ezSaKoc00hIB",
        "colab_type": "code",
        "outputId": "e9709afb-e08a-4ed8-ad29-1c2c9597bbca",
        "colab": {
          "base_uri": "https://localhost:8080/",
          "height": 166
        }
      },
      "source": [
        "df.plot(kind=\"scatter\", x='msl-01', y = 'si10-20')"
      ],
      "execution_count": 2,
      "outputs": [
        {
          "output_type": "error",
          "ename": "NameError",
          "evalue": "ignored",
          "traceback": [
            "\u001b[0;31m---------------------------------------------------------------------------\u001b[0m",
            "\u001b[0;31mNameError\u001b[0m                                 Traceback (most recent call last)",
            "\u001b[0;32m<ipython-input-2-1c7e7e1bc1d9>\u001b[0m in \u001b[0;36m<module>\u001b[0;34m()\u001b[0m\n\u001b[0;32m----> 1\u001b[0;31m \u001b[0mdf\u001b[0m\u001b[0;34m.\u001b[0m\u001b[0mplot\u001b[0m\u001b[0;34m(\u001b[0m\u001b[0mkind\u001b[0m\u001b[0;34m=\u001b[0m\u001b[0;34m\"scatter\"\u001b[0m\u001b[0;34m,\u001b[0m \u001b[0mx\u001b[0m\u001b[0;34m=\u001b[0m\u001b[0;34m'msl-01'\u001b[0m\u001b[0;34m,\u001b[0m \u001b[0my\u001b[0m \u001b[0;34m=\u001b[0m \u001b[0;34m'si10-20'\u001b[0m\u001b[0;34m)\u001b[0m\u001b[0;34m\u001b[0m\u001b[0;34m\u001b[0m\u001b[0m\n\u001b[0m",
            "\u001b[0;31mNameError\u001b[0m: name 'df' is not defined"
          ]
        }
      ]
    },
    {
      "cell_type": "markdown",
      "metadata": {
        "id": "8yMSQclI1VDV",
        "colab_type": "text"
      },
      "source": [
        "## Getting Files Locally"
      ]
    },
    {
      "cell_type": "code",
      "metadata": {
        "id": "EK4p-21a1brx",
        "colab_type": "code",
        "outputId": "422223b7-e3ca-4c38-d0fe-d00824ee1f9c",
        "colab": {
          "resources": {
            "http://localhost:8080/nbextensions/google.colab/files.js": {
              "data": "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",
              "ok": true,
              "headers": [
                [
                  "content-type",
                  "application/javascript"
                ]
              ],
              "status": 200,
              "status_text": ""
            }
          },
          "base_uri": "https://localhost:8080/",
          "height": 1956
        }
      },
      "source": [
        "import os\n",
        "from google.colab import files\n",
        "import pandas as pd\n",
        "import numpy as np\n",
        "\n",
        "files.upload() #Upload Files locally from computer\n",
        "\n",
        "df = pd.DataFrame([]) #Empty dataframe\n",
        "\n",
        "\n",
        "for file in os.listdir('/content'):\n",
        "  try:\n",
        "    f=open(file)\n",
        "    columnName = file[file.rfind('_')+1 : len(file)] #get column name from file name\n",
        "    a = f.read().split(\"\\n\")\n",
        "    #convert strings to floats\n",
        "    y = np.array((float, a)) #index 0 = data type, index 1 = data\n",
        "    array = y[1]\n",
        "    # Using DataFrame.insert() to add a column \n",
        "    df.insert(0, columnName, array) #insert new column at the beginning \n",
        "    f.close()\n",
        "  except:\n",
        "    print(\"\")\n",
        "    \n",
        "df #print dataframe"
      ],
      "execution_count": 35,
      "outputs": [
        {
          "output_type": "display_data",
          "data": {
            "text/html": [
              "\n",
              "     <input type=\"file\" id=\"files-0abf2f08-9cc7-4505-a5e2-90691faa16b7\" name=\"files[]\" multiple disabled />\n",
              "     <output id=\"result-0abf2f08-9cc7-4505-a5e2-90691faa16b7\">\n",
              "      Upload widget is only available when the cell has been executed in the\n",
              "      current browser session. Please rerun this cell to enable.\n",
              "      </output>\n",
              "      <script src=\"/nbextensions/google.colab/files.js\"></script> "
            ],
            "text/plain": [
              "<IPython.core.display.HTML object>"
            ]
          },
          "metadata": {
            "tags": []
          }
        },
        {
          "output_type": "stream",
          "text": [
            "\n",
            "\n",
            "\n"
          ],
          "name": "stdout"
        },
        {
          "output_type": "execute_result",
          "data": {
            "text/html": [
              "<div>\n",
              "<style scoped>\n",
              "    .dataframe tbody tr th:only-of-type {\n",
              "        vertical-align: middle;\n",
              "    }\n",
              "\n",
              "    .dataframe tbody tr th {\n",
              "        vertical-align: top;\n",
              "    }\n",
              "\n",
              "    .dataframe thead th {\n",
              "        text-align: right;\n",
              "    }\n",
              "</style>\n",
              "<table border=\"1\" class=\"dataframe\">\n",
              "  <thead>\n",
              "    <tr style=\"text-align: right;\">\n",
              "      <th></th>\n",
              "      <th>si10-20</th>\n",
              "      <th>sst-13</th>\n",
              "      <th>t2m-07</th>\n",
              "      <th>msl-01</th>\n",
              "    </tr>\n",
              "  </thead>\n",
              "  <tbody>\n",
              "    <tr>\n",
              "      <th>0</th>\n",
              "      <td>0.02261937</td>\n",
              "      <td>0.1092731</td>\n",
              "      <td>0.7742165</td>\n",
              "      <td>-0.4992003</td>\n",
              "    </tr>\n",
              "    <tr>\n",
              "      <th>1</th>\n",
              "      <td>2.705268</td>\n",
              "      <td>-0.2640729</td>\n",
              "      <td>-0.1764782</td>\n",
              "      <td>-0.3590781</td>\n",
              "    </tr>\n",
              "    <tr>\n",
              "      <th>2</th>\n",
              "      <td>-0.6863038</td>\n",
              "      <td>-0.2871706</td>\n",
              "      <td>-1.190285</td>\n",
              "      <td>-1.04202</td>\n",
              "    </tr>\n",
              "    <tr>\n",
              "      <th>3</th>\n",
              "      <td>-0.3556211</td>\n",
              "      <td>-0.656911</td>\n",
              "      <td>0.6288159</td>\n",
              "      <td>-0.8444854</td>\n",
              "    </tr>\n",
              "    <tr>\n",
              "      <th>4</th>\n",
              "      <td>-0.04868329</td>\n",
              "      <td>-0.7461126</td>\n",
              "      <td>-1.752389</td>\n",
              "      <td>-0.9726096</td>\n",
              "    </tr>\n",
              "    <tr>\n",
              "      <th>5</th>\n",
              "      <td>0.04761203</td>\n",
              "      <td>-0.5226395</td>\n",
              "      <td>-0.4699586</td>\n",
              "      <td>-1.49778</td>\n",
              "    </tr>\n",
              "    <tr>\n",
              "      <th>6</th>\n",
              "      <td>0.5012097</td>\n",
              "      <td>-0.437077</td>\n",
              "      <td>-0.3100962</td>\n",
              "      <td>-2.333303</td>\n",
              "    </tr>\n",
              "    <tr>\n",
              "      <th>7</th>\n",
              "      <td>-0.4950566</td>\n",
              "      <td>-0.2335693</td>\n",
              "      <td>-0.863965</td>\n",
              "      <td>-0.5090938</td>\n",
              "    </tr>\n",
              "    <tr>\n",
              "      <th>8</th>\n",
              "      <td>-0.02123359</td>\n",
              "      <td>-0.1234696</td>\n",
              "      <td>-1.364164</td>\n",
              "      <td>-0.6411163</td>\n",
              "    </tr>\n",
              "    <tr>\n",
              "      <th>9</th>\n",
              "      <td>0.2685077</td>\n",
              "      <td>0.293815</td>\n",
              "      <td>-0.2234831</td>\n",
              "      <td>-0.1575649</td>\n",
              "    </tr>\n",
              "    <tr>\n",
              "      <th>10</th>\n",
              "      <td>-0.1174283</td>\n",
              "      <td>0.4550462</td>\n",
              "      <td>-1.424569</td>\n",
              "      <td>0.3320045</td>\n",
              "    </tr>\n",
              "    <tr>\n",
              "      <th>11</th>\n",
              "      <td>0.5887045</td>\n",
              "      <td>0.2087441</td>\n",
              "      <td>-2.132135</td>\n",
              "      <td>1.065343</td>\n",
              "    </tr>\n",
              "    <tr>\n",
              "      <th>12</th>\n",
              "      <td>0.928755</td>\n",
              "      <td>-0.09700205</td>\n",
              "      <td>2.544313</td>\n",
              "      <td>0.8986118</td>\n",
              "    </tr>\n",
              "    <tr>\n",
              "      <th>13</th>\n",
              "      <td>0.8698143</td>\n",
              "      <td>-0.5641358</td>\n",
              "      <td>1.473755</td>\n",
              "      <td>1.583546</td>\n",
              "    </tr>\n",
              "    <tr>\n",
              "      <th>14</th>\n",
              "      <td>0.1802057</td>\n",
              "      <td>-0.4443271</td>\n",
              "      <td>2.615653</td>\n",
              "      <td>1.497991</td>\n",
              "    </tr>\n",
              "    <tr>\n",
              "      <th>15</th>\n",
              "      <td>-0.05248924</td>\n",
              "      <td>-0.8137752</td>\n",
              "      <td>0.9289776</td>\n",
              "      <td>2.017959</td>\n",
              "    </tr>\n",
              "    <tr>\n",
              "      <th>16</th>\n",
              "      <td>1.069653</td>\n",
              "      <td>-0.9141085</td>\n",
              "      <td>1.131975</td>\n",
              "      <td>0.806541</td>\n",
              "    </tr>\n",
              "    <tr>\n",
              "      <th>17</th>\n",
              "      <td>-0.1650821</td>\n",
              "      <td>-0.8843002</td>\n",
              "      <td>0.3492276</td>\n",
              "      <td>-0.4778489</td>\n",
              "    </tr>\n",
              "    <tr>\n",
              "      <th>18</th>\n",
              "      <td>0.2775</td>\n",
              "      <td>-1.069934</td>\n",
              "      <td>0.7442216</td>\n",
              "      <td>2.170226</td>\n",
              "    </tr>\n",
              "    <tr>\n",
              "      <th>19</th>\n",
              "      <td>2.135115</td>\n",
              "      <td>-0.7764385</td>\n",
              "      <td>1.319333</td>\n",
              "      <td>1.276514</td>\n",
              "    </tr>\n",
              "    <tr>\n",
              "      <th>20</th>\n",
              "      <td>0.2145578</td>\n",
              "      <td>-0.6225869</td>\n",
              "      <td>0.5305812</td>\n",
              "      <td>1.662483</td>\n",
              "    </tr>\n",
              "    <tr>\n",
              "      <th>21</th>\n",
              "      <td>0.1727233</td>\n",
              "      <td>-0.801753</td>\n",
              "      <td>0.5802261</td>\n",
              "      <td>-0.04176676</td>\n",
              "    </tr>\n",
              "    <tr>\n",
              "      <th>22</th>\n",
              "      <td>1.647158</td>\n",
              "      <td>-0.6268137</td>\n",
              "      <td>0.7291569</td>\n",
              "      <td>2.182814</td>\n",
              "    </tr>\n",
              "    <tr>\n",
              "      <th>23</th>\n",
              "      <td>-1.23206</td>\n",
              "      <td>-0.874567</td>\n",
              "      <td>-0.4616621</td>\n",
              "      <td>0.9600101</td>\n",
              "    </tr>\n",
              "    <tr>\n",
              "      <th>24</th>\n",
              "      <td>0.4382797</td>\n",
              "      <td>-1.610957</td>\n",
              "      <td>-1.965013</td>\n",
              "      <td>-0.5092161</td>\n",
              "    </tr>\n",
              "    <tr>\n",
              "      <th>25</th>\n",
              "      <td>0.5901</td>\n",
              "      <td>-1.895167</td>\n",
              "      <td>-1.40904</td>\n",
              "      <td>-0.695463</td>\n",
              "    </tr>\n",
              "    <tr>\n",
              "      <th>26</th>\n",
              "      <td>3.199613</td>\n",
              "      <td>-1.769626</td>\n",
              "      <td>0.1538642</td>\n",
              "      <td>0.5747572</td>\n",
              "    </tr>\n",
              "    <tr>\n",
              "      <th>27</th>\n",
              "      <td>0.007557857</td>\n",
              "      <td>-1.874117</td>\n",
              "      <td>0.3842872</td>\n",
              "      <td>0.7086679</td>\n",
              "    </tr>\n",
              "    <tr>\n",
              "      <th>28</th>\n",
              "      <td>0.5906872</td>\n",
              "      <td>-1.659965</td>\n",
              "      <td>-0.04693174</td>\n",
              "      <td>-0.4359723</td>\n",
              "    </tr>\n",
              "    <tr>\n",
              "      <th>29</th>\n",
              "      <td>1.331869</td>\n",
              "      <td>-1.915711</td>\n",
              "      <td>-0.7841943</td>\n",
              "      <td>-1.211511</td>\n",
              "    </tr>\n",
              "    <tr>\n",
              "      <th>...</th>\n",
              "      <td>...</td>\n",
              "      <td>...</td>\n",
              "      <td>...</td>\n",
              "      <td>...</td>\n",
              "    </tr>\n",
              "    <tr>\n",
              "      <th>451</th>\n",
              "      <td>0.1835276</td>\n",
              "      <td>-0.6182123</td>\n",
              "      <td>-1.308261</td>\n",
              "      <td>1.484968</td>\n",
              "    </tr>\n",
              "    <tr>\n",
              "      <th>452</th>\n",
              "      <td>-0.2614816</td>\n",
              "      <td>-0.9075138</td>\n",
              "      <td>-0.8504807</td>\n",
              "      <td>-0.9278673</td>\n",
              "    </tr>\n",
              "    <tr>\n",
              "      <th>453</th>\n",
              "      <td>-0.3330012</td>\n",
              "      <td>-1.027993</td>\n",
              "      <td>0.2598395</td>\n",
              "      <td>0.9523479</td>\n",
              "    </tr>\n",
              "    <tr>\n",
              "      <th>454</th>\n",
              "      <td>-0.9248809</td>\n",
              "      <td>-1.033857</td>\n",
              "      <td>0.5393077</td>\n",
              "      <td>1.936742</td>\n",
              "    </tr>\n",
              "    <tr>\n",
              "      <th>455</th>\n",
              "      <td>-0.1577554</td>\n",
              "      <td>-1.056583</td>\n",
              "      <td>0.0710488</td>\n",
              "      <td>1.383228</td>\n",
              "    </tr>\n",
              "    <tr>\n",
              "      <th>456</th>\n",
              "      <td>0.2123395</td>\n",
              "      <td>-1.527551</td>\n",
              "      <td>0.2122752</td>\n",
              "      <td>1.448133</td>\n",
              "    </tr>\n",
              "    <tr>\n",
              "      <th>457</th>\n",
              "      <td>0.5677178</td>\n",
              "      <td>-1.682522</td>\n",
              "      <td>-0.2754406</td>\n",
              "      <td>0.6464316</td>\n",
              "    </tr>\n",
              "    <tr>\n",
              "      <th>458</th>\n",
              "      <td>0.8801022</td>\n",
              "      <td>-1.572185</td>\n",
              "      <td>-1.254557</td>\n",
              "      <td>0.9666994</td>\n",
              "    </tr>\n",
              "    <tr>\n",
              "      <th>459</th>\n",
              "      <td>0.5837106</td>\n",
              "      <td>-1.353119</td>\n",
              "      <td>0.4477269</td>\n",
              "      <td>-0.03730447</td>\n",
              "    </tr>\n",
              "    <tr>\n",
              "      <th>460</th>\n",
              "      <td>2.220798</td>\n",
              "      <td>-0.9277014</td>\n",
              "      <td>1.263409</td>\n",
              "      <td>-0.56569</td>\n",
              "    </tr>\n",
              "    <tr>\n",
              "      <th>461</th>\n",
              "      <td>0.4647968</td>\n",
              "      <td>-0.897203</td>\n",
              "      <td>0.8668569</td>\n",
              "      <td>-0.154901</td>\n",
              "    </tr>\n",
              "    <tr>\n",
              "      <th>462</th>\n",
              "      <td>0.8848062</td>\n",
              "      <td>-0.6798674</td>\n",
              "      <td>0.4764806</td>\n",
              "      <td>0.05432136</td>\n",
              "    </tr>\n",
              "    <tr>\n",
              "      <th>463</th>\n",
              "      <td>0.9386374</td>\n",
              "      <td>-0.9276561</td>\n",
              "      <td>-0.1392711</td>\n",
              "      <td>-0.3298669</td>\n",
              "    </tr>\n",
              "    <tr>\n",
              "      <th>464</th>\n",
              "      <td>0.557477</td>\n",
              "      <td>-0.6969339</td>\n",
              "      <td>0.3320143</td>\n",
              "      <td>-0.5611299</td>\n",
              "    </tr>\n",
              "    <tr>\n",
              "      <th>465</th>\n",
              "      <td>1.027019</td>\n",
              "      <td>-0.8198571</td>\n",
              "      <td>0.5800574</td>\n",
              "      <td>1.196946</td>\n",
              "    </tr>\n",
              "    <tr>\n",
              "      <th>466</th>\n",
              "      <td>-0.4093286</td>\n",
              "      <td>-0.3490015</td>\n",
              "      <td>-0.5545558</td>\n",
              "      <td>-0.302577</td>\n",
              "    </tr>\n",
              "    <tr>\n",
              "      <th>467</th>\n",
              "      <td>-0.5987651</td>\n",
              "      <td>-0.3694664</td>\n",
              "      <td>-0.9718507</td>\n",
              "      <td>-0.3397809</td>\n",
              "    </tr>\n",
              "    <tr>\n",
              "      <th>468</th>\n",
              "      <td>-0.6462266</td>\n",
              "      <td>0.4162184</td>\n",
              "      <td>1.118175</td>\n",
              "      <td>-0.7608135</td>\n",
              "    </tr>\n",
              "    <tr>\n",
              "      <th>469</th>\n",
              "      <td>-1.372909</td>\n",
              "      <td>0.3265237</td>\n",
              "      <td>2.470237</td>\n",
              "      <td>-0.6726838</td>\n",
              "    </tr>\n",
              "    <tr>\n",
              "      <th>470</th>\n",
              "      <td>1.020848</td>\n",
              "      <td>-0.04132109</td>\n",
              "      <td>3.467752</td>\n",
              "      <td>0.2383951</td>\n",
              "    </tr>\n",
              "    <tr>\n",
              "      <th>471</th>\n",
              "      <td>0.7025135</td>\n",
              "      <td>-0.188393</td>\n",
              "      <td>1.315726</td>\n",
              "      <td>0.8198008</td>\n",
              "    </tr>\n",
              "    <tr>\n",
              "      <th>472</th>\n",
              "      <td>-0.9268552</td>\n",
              "      <td>0.1980482</td>\n",
              "      <td>0.8613452</td>\n",
              "      <td>0.2594789</td>\n",
              "    </tr>\n",
              "    <tr>\n",
              "      <th>473</th>\n",
              "      <td>0.2002776</td>\n",
              "      <td>0.07773184</td>\n",
              "      <td>1.511121</td>\n",
              "      <td>0.501073</td>\n",
              "    </tr>\n",
              "    <tr>\n",
              "      <th>474</th>\n",
              "      <td>0.4175811</td>\n",
              "      <td>0.3312809</td>\n",
              "      <td>0.6782598</td>\n",
              "      <td>0.02092053</td>\n",
              "    </tr>\n",
              "    <tr>\n",
              "      <th>475</th>\n",
              "      <td>-0.218568</td>\n",
              "      <td>0.03650033</td>\n",
              "      <td>1.054543</td>\n",
              "      <td>0.5778034</td>\n",
              "    </tr>\n",
              "    <tr>\n",
              "      <th>476</th>\n",
              "      <td>0.178183</td>\n",
              "      <td>-0.2013505</td>\n",
              "      <td>0.7720357</td>\n",
              "      <td>-0.7509757</td>\n",
              "    </tr>\n",
              "    <tr>\n",
              "      <th>477</th>\n",
              "      <td>-0.0353495</td>\n",
              "      <td>-0.2528442</td>\n",
              "      <td>0.7493704</td>\n",
              "      <td>0.1576384</td>\n",
              "    </tr>\n",
              "    <tr>\n",
              "      <th>478</th>\n",
              "      <td>0.6959472</td>\n",
              "      <td>-0.4563228</td>\n",
              "      <td>1.679747</td>\n",
              "      <td>-0.7639118</td>\n",
              "    </tr>\n",
              "    <tr>\n",
              "      <th>479</th>\n",
              "      <td>0.1604553</td>\n",
              "      <td>-0.6487454</td>\n",
              "      <td>1.790845</td>\n",
              "      <td>-0.3823994</td>\n",
              "    </tr>\n",
              "    <tr>\n",
              "      <th>480</th>\n",
              "      <td></td>\n",
              "      <td></td>\n",
              "      <td></td>\n",
              "      <td></td>\n",
              "    </tr>\n",
              "  </tbody>\n",
              "</table>\n",
              "<p>481 rows × 4 columns</p>\n",
              "</div>"
            ],
            "text/plain": [
              "         si10-20       sst-13       t2m-07       msl-01\n",
              "0     0.02261937    0.1092731    0.7742165   -0.4992003\n",
              "1       2.705268   -0.2640729   -0.1764782   -0.3590781\n",
              "2     -0.6863038   -0.2871706    -1.190285     -1.04202\n",
              "3     -0.3556211    -0.656911    0.6288159   -0.8444854\n",
              "4    -0.04868329   -0.7461126    -1.752389   -0.9726096\n",
              "5     0.04761203   -0.5226395   -0.4699586     -1.49778\n",
              "6      0.5012097    -0.437077   -0.3100962    -2.333303\n",
              "7     -0.4950566   -0.2335693    -0.863965   -0.5090938\n",
              "8    -0.02123359   -0.1234696    -1.364164   -0.6411163\n",
              "9      0.2685077     0.293815   -0.2234831   -0.1575649\n",
              "10    -0.1174283    0.4550462    -1.424569    0.3320045\n",
              "11     0.5887045    0.2087441    -2.132135     1.065343\n",
              "12      0.928755  -0.09700205     2.544313    0.8986118\n",
              "13     0.8698143   -0.5641358     1.473755     1.583546\n",
              "14     0.1802057   -0.4443271     2.615653     1.497991\n",
              "15   -0.05248924   -0.8137752    0.9289776     2.017959\n",
              "16      1.069653   -0.9141085     1.131975     0.806541\n",
              "17    -0.1650821   -0.8843002    0.3492276   -0.4778489\n",
              "18        0.2775    -1.069934    0.7442216     2.170226\n",
              "19      2.135115   -0.7764385     1.319333     1.276514\n",
              "20     0.2145578   -0.6225869    0.5305812     1.662483\n",
              "21     0.1727233    -0.801753    0.5802261  -0.04176676\n",
              "22      1.647158   -0.6268137    0.7291569     2.182814\n",
              "23      -1.23206    -0.874567   -0.4616621    0.9600101\n",
              "24     0.4382797    -1.610957    -1.965013   -0.5092161\n",
              "25        0.5901    -1.895167     -1.40904    -0.695463\n",
              "26      3.199613    -1.769626    0.1538642    0.5747572\n",
              "27   0.007557857    -1.874117    0.3842872    0.7086679\n",
              "28     0.5906872    -1.659965  -0.04693174   -0.4359723\n",
              "29      1.331869    -1.915711   -0.7841943    -1.211511\n",
              "..           ...          ...          ...          ...\n",
              "451    0.1835276   -0.6182123    -1.308261     1.484968\n",
              "452   -0.2614816   -0.9075138   -0.8504807   -0.9278673\n",
              "453   -0.3330012    -1.027993    0.2598395    0.9523479\n",
              "454   -0.9248809    -1.033857    0.5393077     1.936742\n",
              "455   -0.1577554    -1.056583    0.0710488     1.383228\n",
              "456    0.2123395    -1.527551    0.2122752     1.448133\n",
              "457    0.5677178    -1.682522   -0.2754406    0.6464316\n",
              "458    0.8801022    -1.572185    -1.254557    0.9666994\n",
              "459    0.5837106    -1.353119    0.4477269  -0.03730447\n",
              "460     2.220798   -0.9277014     1.263409     -0.56569\n",
              "461    0.4647968    -0.897203    0.8668569    -0.154901\n",
              "462    0.8848062   -0.6798674    0.4764806   0.05432136\n",
              "463    0.9386374   -0.9276561   -0.1392711   -0.3298669\n",
              "464     0.557477   -0.6969339    0.3320143   -0.5611299\n",
              "465     1.027019   -0.8198571    0.5800574     1.196946\n",
              "466   -0.4093286   -0.3490015   -0.5545558    -0.302577\n",
              "467   -0.5987651   -0.3694664   -0.9718507   -0.3397809\n",
              "468   -0.6462266    0.4162184     1.118175   -0.7608135\n",
              "469    -1.372909    0.3265237     2.470237   -0.6726838\n",
              "470     1.020848  -0.04132109     3.467752    0.2383951\n",
              "471    0.7025135    -0.188393     1.315726    0.8198008\n",
              "472   -0.9268552    0.1980482    0.8613452    0.2594789\n",
              "473    0.2002776   0.07773184     1.511121     0.501073\n",
              "474    0.4175811    0.3312809    0.6782598   0.02092053\n",
              "475    -0.218568   0.03650033     1.054543    0.5778034\n",
              "476     0.178183   -0.2013505    0.7720357   -0.7509757\n",
              "477   -0.0353495   -0.2528442    0.7493704    0.1576384\n",
              "478    0.6959472   -0.4563228     1.679747   -0.7639118\n",
              "479    0.1604553   -0.6487454     1.790845   -0.3823994\n",
              "480                                                    \n",
              "\n",
              "[481 rows x 4 columns]"
            ]
          },
          "metadata": {
            "tags": []
          },
          "execution_count": 35
        }
      ]
    },
    {
      "cell_type": "markdown",
      "metadata": {
        "id": "8wYQUZoA4_xK",
        "colab_type": "text"
      },
      "source": [
        "# Learning from Data"
      ]
    },
    {
      "cell_type": "markdown",
      "metadata": {
        "id": "NbPvfjOs5JM6",
        "colab_type": "text"
      },
      "source": [
        "## Regression Model"
      ]
    },
    {
      "cell_type": "code",
      "metadata": {
        "id": "EOilHcJj5NlD",
        "colab_type": "code",
        "outputId": "acab1076-a340-42eb-fae5-ee2cc23bc12f",
        "colab": {
          "base_uri": "https://localhost:8080/",
          "height": 50
        }
      },
      "source": [
        "import pandas as pd\n",
        "import numpy as np\n",
        "from sklearn import linear_model\n",
        "from sklearn.model_selection import train_test_split\n",
        "from matplotlib import pyplot as plt\n",
        "\n",
        "#seperating data and target data\n",
        "X_df = df.iloc[: , [0,1,2]] #data - independent values\n",
        "y = df['t2m-07'] #target data - 'dependent (output) values'\n",
        "\n",
        "# create training and testing vars\n",
        "X_train, X_test, y_train, y_test = train_test_split(X_df, y, test_size=0.2) \n",
        "\n",
        "print (X_train.shape, y_train.shape) #print out the shape of each dataset\n",
        "print (X_test.shape, y_test.shape) \n"
      ],
      "execution_count": 6,
      "outputs": [
        {
          "output_type": "stream",
          "text": [
            "(384, 3) (384,)\n",
            "(97, 3) (97,)\n"
          ],
          "name": "stdout"
        }
      ]
    },
    {
      "cell_type": "code",
      "metadata": {
        "id": "thafBr3x6t6G",
        "colab_type": "code",
        "colab": {}
      },
      "source": [
        "lm = linear_model.LinearRegression()\n",
        "\n",
        "model = lm.fit(X_train, y_train) #fitting the data with the target data (USING TRAINING DATA)\n",
        "\n",
        "predictions = lm.predict(X_test) #Use model to predict the target data of the test datase"
      ],
      "execution_count": 0,
      "outputs": []
    },
    {
      "cell_type": "code",
      "metadata": {
        "id": "MQ-WqZpn7wSe",
        "colab_type": "code",
        "colab": {}
      },
      "source": [
        "plt.scatter(y_test, predictions)\n",
        "\n",
        "plt.xlabel(\"True Values\")\n",
        "plt.ylabel(\"Predictions\")\n",
        "\n",
        "print (\"Model Accuracy Score (%):\", model.score(X_test, y_test) * 100)\n",
        "print(\"Mean Squared Error/Deviation: \", np.mean((predictions - y_test)**2)) #Average deviation from true values\n",
        "\n",
        "\n",
        "plt.show()"
      ],
      "execution_count": 0,
      "outputs": []
    },
    {
      "cell_type": "markdown",
      "metadata": {
        "id": "Iv2sQtaN9LMs",
        "colab_type": "text"
      },
      "source": [
        "**Conclusion**\n",
        "\n",
        "Using the linear regression model does not help us successfully make accurate prediections on the new climate data provided. The model accuracy turned out to be below 1%. An autoregression model would have had a higher model accuracy turnout\n"
      ]
    },
    {
      "cell_type": "markdown",
      "metadata": {
        "id": "pELMdXkd5Pea",
        "colab_type": "text"
      },
      "source": [
        "## Bayesian Model"
      ]
    },
    {
      "cell_type": "markdown",
      "metadata": {
        "id": "P18wQt_X9Epo",
        "colab_type": "text"
      },
      "source": [
        "**Challenges Faced**\n",
        "\n",
        "\n",
        "1) In order to make bayesian inferences, I need to create a network structure where each node holds a conditional probabilty distribution (CPD)\n",
        "\n",
        "2) Using the bayesian model requires me to know the causal relationships between the variables to create a network and make predictions\n",
        "\n",
        "---\n",
        "\n",
        "Do I have to end up converting the climate data into some sort of probabilty distribution/table in order to make causal inferences? The bayesian model initially requires a network structure where each node is a CPD to make inferences\n"
      ]
    },
    {
      "cell_type": "markdown",
      "metadata": {
        "id": "2InY-TKqFt_e",
        "colab_type": "text"
      },
      "source": [
        "**Research Findings**\n",
        "\n",
        "\n",
        "\"To learn the structure\n",
        "and the parameters for the Bayesian networks from a set\n",
        "of data, we should search the space(s) of all possible\n",
        "graph representations, and find out which structure is\n",
        "most likely to produce our data. If we have a scoring\n",
        "function (or likelihood function) which can determine\n",
        "the structure and parameter likelihood from the data,\n",
        "then the problem is to find the highest score (maximum likelihood) structure among all the possible representations.\"\"\n",
        "\n",
        "\n",
        "Granger causality vs. dynamic Bayesian network inference:\n",
        "a comparative study\n",
        "\n",
        "(Cunlu Zou and Jianfeng Feng)\n",
        "\n",
        "---\n",
        "\n",
        "A bayesian network is a direct acyclic graph showing the direct cause and effect between nodes used to make inference about new data points"
      ]
    },
    {
      "cell_type": "markdown",
      "metadata": {
        "id": "_N5AGbl9glXc",
        "colab_type": "text"
      },
      "source": [
        "**Approach**\n",
        "\n",
        "Useful Articles:\n",
        "\n",
        "[Learning Bayesian Network from Data](http://robotics.stanford.edu/~koller/NIPStut01/tut6.pdf)\n",
        "\n",
        "[Learning Bayesian Network Model Structure from Data](https://www.cs.cmu.edu/~dmarg/Papers/PhD-Thesis-Margaritis.pdf) \n",
        "\n",
        "In order to make inteferences on new datasets, I must:\n",
        "\n",
        "\n",
        "1) Create a bayesian structure using a score-based (bayesian) approach. Essentially testing the structure of all possible DAGs. (Running Causality Tests)\n",
        "\n",
        "2)  Store the conditional probabilties in each node\n",
        "\n",
        "3)  Make inference queries on new data points. "
      ]
    },
    {
      "cell_type": "markdown",
      "metadata": {
        "id": "REh0RTJIGi05",
        "colab_type": "text"
      },
      "source": [
        "### PC constraint-based BN learning algorithm"
      ]
    },
    {
      "cell_type": "markdown",
      "metadata": {
        "id": "dSFGXmOaGTsi",
        "colab_type": "text"
      },
      "source": [
        "**PC constraint-based BN learning algorithm**\n",
        "\n",
        "http://pgmpy.chrisittner.de/2016/08/17/pc.html#pc\n"
      ]
    },
    {
      "cell_type": "code",
      "metadata": {
        "id": "cNAO2hUiagpi",
        "colab_type": "code",
        "outputId": "3c76598a-4029-4dec-a652-561471919609",
        "colab": {
          "base_uri": "https://localhost:8080/",
          "height": 101
        }
      },
      "source": [
        "!pip install pgmpy #install the pgmpy library"
      ],
      "execution_count": 10,
      "outputs": [
        {
          "output_type": "stream",
          "text": [
            "Requirement already satisfied: pgmpy in /usr/local/lib/python3.6/dist-packages (0.1.7)\n",
            "Requirement already satisfied: networkx<1.12,>=1.11 in /usr/local/lib/python3.6/dist-packages (from pgmpy) (1.11)\n",
            "Requirement already satisfied: scipy>=1.0.0 in /usr/local/lib/python3.6/dist-packages (from pgmpy) (1.3.0)\n",
            "Requirement already satisfied: numpy>=1.14.0 in /usr/local/lib/python3.6/dist-packages (from pgmpy) (1.16.4)\n",
            "Requirement already satisfied: decorator>=3.4.0 in /usr/local/lib/python3.6/dist-packages (from networkx<1.12,>=1.11->pgmpy) (4.4.0)\n"
          ],
          "name": "stdout"
        }
      ]
    },
    {
      "cell_type": "code",
      "metadata": {
        "id": "P_aqAWNKDYnn",
        "colab_type": "code",
        "colab": {
          "base_uri": "https://localhost:8080/",
          "height": 34
        },
        "outputId": "f3d30b64-15fc-4ca6-cca8-5ee7af55ae06"
      },
      "source": [
        "!pip install graphviz"
      ],
      "execution_count": 11,
      "outputs": [
        {
          "output_type": "stream",
          "text": [
            "Requirement already satisfied: graphviz in /usr/local/lib/python3.6/dist-packages (0.10.1)\n"
          ],
          "name": "stdout"
        }
      ]
    },
    {
      "cell_type": "code",
      "metadata": {
        "id": "feVX3GTse0_3",
        "colab_type": "code",
        "colab": {}
      },
      "source": [
        "\n",
        "data = df[0:50] #only looking at first 50 rows"
      ],
      "execution_count": 0,
      "outputs": []
    },
    {
      "cell_type": "code",
      "metadata": {
        "id": "Msu2TiHB5V7L",
        "colab_type": "code",
        "outputId": "3a09ebd7-849a-4de5-9b1d-0b6b78a40b1e",
        "colab": {
          "base_uri": "https://localhost:8080/",
          "height": 289
        }
      },
      "source": [
        "from pgmpy.estimators import BdeuScore, K2Score, BicScore\n",
        "from pgmpy.models import BayesianModel\n",
        "from pgmpy.estimators import HillClimbSearch\n",
        "from graphviz import Digraph #directed graph (good for bayesian networks)\n",
        "\n",
        "\n",
        "bdeu = BdeuScore(data, equivalent_sample_size=5)\n",
        "\n",
        "#single edge manipulations to increase score\n",
        "hc = HillClimbSearch(data, scoring_method=bdeu) \n",
        "\n",
        "best_model = hc.estimate()\n",
        "print(best_model.edges())\n",
        "\n",
        "###Print out Bayesian Network\n",
        "\n",
        "edges = best_model.edges() #store connections in a variable\n",
        "\n",
        "g = Digraph('Climate', filename='Climate_Model') #name, filename\n",
        "\n",
        "#Create connections given the edges \n",
        "for i in range(0, len(edges)):\n",
        "  parent = edges[i][0]\n",
        "  child = edges[i][1]\n",
        "  g.edge(parent, child)\n",
        "    \n",
        "g"
      ],
      "execution_count": 40,
      "outputs": [
        {
          "output_type": "stream",
          "text": [
            "[('si10-20', 'sst-13'), ('si10-20', 't2m-07'), ('sst-13', 'msl-01')]\n"
          ],
          "name": "stdout"
        },
        {
          "output_type": "execute_result",
          "data": {
            "text/plain": [
              "<graphviz.dot.Digraph at 0x7f82a45bf630>"
            ],
            "image/svg+xml": "<?xml version=\"1.0\" encoding=\"UTF-8\" standalone=\"no\"?>\n<!DOCTYPE svg PUBLIC \"-//W3C//DTD SVG 1.1//EN\"\n \"http://www.w3.org/Graphics/SVG/1.1/DTD/svg11.dtd\">\n<!-- Generated by graphviz version 2.40.1 (20161225.0304)\n -->\n<!-- Title: Climate Pages: 1 -->\n<svg width=\"172pt\" height=\"188pt\"\n viewBox=\"0.00 0.00 171.74 188.00\" xmlns=\"http://www.w3.org/2000/svg\" xmlns:xlink=\"http://www.w3.org/1999/xlink\">\n<g id=\"graph0\" class=\"graph\" transform=\"scale(1 1) rotate(0) translate(4 184)\">\n<title>Climate</title>\n<polygon fill=\"#ffffff\" stroke=\"transparent\" points=\"-4,4 -4,-184 167.7434,-184 167.7434,4 -4,4\"/>\n<!-- si10&#45;20 -->\n<g id=\"node1\" class=\"node\">\n<title>si10&#45;20</title>\n<ellipse fill=\"none\" stroke=\"#000000\" cx=\"80.3968\" cy=\"-162\" rx=\"38.9931\" ry=\"18\"/>\n<text text-anchor=\"middle\" x=\"80.3968\" y=\"-158.3\" font-family=\"Times,serif\" font-size=\"14.00\" fill=\"#000000\">si10&#45;20</text>\n</g>\n<!-- sst&#45;13 -->\n<g id=\"node2\" class=\"node\">\n<title>sst&#45;13</title>\n<ellipse fill=\"none\" stroke=\"#000000\" cx=\"36.3968\" cy=\"-90\" rx=\"32.4942\" ry=\"18\"/>\n<text text-anchor=\"middle\" x=\"36.3968\" y=\"-86.3\" font-family=\"Times,serif\" font-size=\"14.00\" fill=\"#000000\">sst&#45;13</text>\n</g>\n<!-- si10&#45;20&#45;&gt;sst&#45;13 -->\n<g id=\"edge1\" class=\"edge\">\n<title>si10&#45;20&#45;&gt;sst&#45;13</title>\n<path fill=\"none\" stroke=\"#000000\" d=\"M69.7456,-144.5708C64.5031,-135.9922 58.0767,-125.4762 52.2693,-115.9732\"/>\n<polygon fill=\"#000000\" stroke=\"#000000\" points=\"55.1509,-113.9764 46.9499,-107.2687 49.1779,-117.6266 55.1509,-113.9764\"/>\n</g>\n<!-- t2m&#45;07 -->\n<g id=\"node3\" class=\"node\">\n<title>t2m&#45;07</title>\n<ellipse fill=\"none\" stroke=\"#000000\" cx=\"125.3968\" cy=\"-90\" rx=\"38.1938\" ry=\"18\"/>\n<text text-anchor=\"middle\" x=\"125.3968\" y=\"-86.3\" font-family=\"Times,serif\" font-size=\"14.00\" fill=\"#000000\">t2m&#45;07</text>\n</g>\n<!-- si10&#45;20&#45;&gt;t2m&#45;07 -->\n<g id=\"edge2\" class=\"edge\">\n<title>si10&#45;20&#45;&gt;t2m&#45;07</title>\n<path fill=\"none\" stroke=\"#000000\" d=\"M91.29,-144.5708C96.6122,-136.0553 103.1275,-125.6308 109.0324,-116.183\"/>\n<polygon fill=\"#000000\" stroke=\"#000000\" points=\"112.1158,-117.8532 114.4479,-107.5182 106.1798,-114.1432 112.1158,-117.8532\"/>\n</g>\n<!-- msl&#45;01 -->\n<g id=\"node4\" class=\"node\">\n<title>msl&#45;01</title>\n<ellipse fill=\"none\" stroke=\"#000000\" cx=\"36.3968\" cy=\"-18\" rx=\"36.2938\" ry=\"18\"/>\n<text text-anchor=\"middle\" x=\"36.3968\" y=\"-14.3\" font-family=\"Times,serif\" font-size=\"14.00\" fill=\"#000000\">msl&#45;01</text>\n</g>\n<!-- sst&#45;13&#45;&gt;msl&#45;01 -->\n<g id=\"edge3\" class=\"edge\">\n<title>sst&#45;13&#45;&gt;msl&#45;01</title>\n<path fill=\"none\" stroke=\"#000000\" d=\"M36.3968,-71.8314C36.3968,-64.131 36.3968,-54.9743 36.3968,-46.4166\"/>\n<polygon fill=\"#000000\" stroke=\"#000000\" points=\"39.8969,-46.4132 36.3968,-36.4133 32.8969,-46.4133 39.8969,-46.4132\"/>\n</g>\n</g>\n</svg>\n"
          },
          "metadata": {
            "tags": []
          },
          "execution_count": 40
        }
      ]
    },
    {
      "cell_type": "code",
      "metadata": {
        "id": "hwTynBo8xpy9",
        "colab_type": "code",
        "colab": {
          "base_uri": "https://localhost:8080/",
          "height": 34
        },
        "outputId": "776d54c4-b454-4ef5-d1f3-1d2ede211a7a"
      },
      "source": [
        "print(best_model.get_cpds('si10-20'))"
      ],
      "execution_count": 43,
      "outputs": [
        {
          "output_type": "stream",
          "text": [
            "None\n"
          ],
          "name": "stdout"
        }
      ]
    }
  ]
}